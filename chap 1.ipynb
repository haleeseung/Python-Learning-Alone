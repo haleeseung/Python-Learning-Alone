{
 "cells": [
  {
   "attachments": {},
   "cell_type": "markdown",
   "metadata": {},
   "source": [
    "# chapter - 01 파이썬 시작하기\n",
    "\n",
    "## 1.3 이 책에서 자주 나오는 파이썬 용어들\n",
    "\n",
    "### 표현식과 문장\n",
    "\n",
    "어떠한 값을 만들어 내는 간단한 코드를 표현식이라고 부름.\n",
    "\n",
    " 273  \n",
    " 10 + 20 + 30 * 10  \n",
    " \"Python Programming\""
   ]
  },
  {
   "cell_type": "code",
   "execution_count": 13,
   "metadata": {},
   "outputs": [
    {
     "name": "stdout",
     "output_type": "stream",
     "text": [
      "Python Programming\n"
     ]
    }
   ],
   "source": [
    "print(\"Python Programming\")"
   ]
  },
  {
   "attachments": {},
   "cell_type": "markdown",
   "metadata": {},
   "source": [
    "표현식이 하나 이상 모이면 문장이 되는데 파이썬은 한 줄이 하나의 문장이 됩니다.\n",
    "\n",
    "'+'  \n",
    "'-'\n",
    "\n",
    "문장이 모여서 프로그램이 됩니다."
   ]
  },
  {
   "attachments": {},
   "cell_type": "markdown",
   "metadata": {},
   "source": [
    "### 키워드\n",
    "\n",
    "키워드는 특별한 의미가 부여된 단어. -> 키워드들은 특별한 색상으로 들어가기 때문에 쉽게 구분할 수 있음.\n",
    "\n",
    "파이썬은 대소문자를 구분하는 프로그래밍 언어."
   ]
  },
  {
   "cell_type": "code",
   "execution_count": 14,
   "metadata": {},
   "outputs": [
    {
     "name": "stdout",
     "output_type": "stream",
     "text": [
      "['False', 'None', 'True', '__peg_parser__', 'and', 'as', 'assert', 'async', 'await', 'break', 'class', 'continue', 'def', 'del', 'elif', 'else', 'except', 'finally', 'for', 'from', 'global', 'if', 'import', 'in', 'is', 'lambda', 'nonlocal', 'not', 'or', 'pass', 'raise', 'return', 'try', 'while', 'with', 'yield']\n"
     ]
    }
   ],
   "source": [
    "import keyword\n",
    "print(keyword.kwlist)"
   ]
  },
  {
   "attachments": {},
   "cell_type": "markdown",
   "metadata": {},
   "source": [
    "### 식별자\n",
    "\n",
    "식별자는 프로그래밍 언어에서 이름을 붙일 때 사용하는 단어. (주로 변수 또는 함수 이름 등으로 사용)\n",
    "\n",
    "식별자는 다음과 같은 규칙을 따름\n",
    "\n",
    "- 키워드를 사용하면 안됨.\n",
    "- 특수문자는 언더 바(_) 만 허용\n",
    "- 숫자로 시작하면 안됨.\n",
    "- 공백을 포함 할 수 없음."
   ]
  },
  {
   "attachments": {},
   "cell_type": "markdown",
   "metadata": {},
   "source": [
    "#### 스네이크 케이스와 캐멀 케이스\n",
    "\n",
    "1. 단어 사이에 언더 바 (_) 기호를 붙여 식별자를 만듬. -> 스네이크 케이스\n",
    "2. 단어들의 첫 글자를 대문자로 만들어 식별자를 만듬. -> 캐멀 케이스\n",
    "\n",
    "캐멀 케이스는 '첫 번째 글자를 대문자로 적는다'와 '첫 번째 글자를 소문자로 적는다'로 구분. -> 파이썬에서는 '첫 번째 글자를 소문자로 적는다'라는 캐멀 케이스를 사용하지 않음.\n",
    "\n",
    "캐멀 케이스 유형 1 : PrintHello -> 파이썬에서 사용.\n",
    "캐멀 케이스 유형 2 : printHello -> 파이썬에서 사용 안함.\n",
    "\n",
    "따라서 파이썬에서는 첫 번째 글자가 소문자라면 무조건 스네이크 케이스.\n",
    "\n",
    "캐멀 케이스로 작성되어 있으면 클래스. 스네이크 케이스로 작성되어 있으면 함수 또는 변수. 뒤에 괄호가 붙어 있으면 함수 & 괄호가 없으면 변수."
   ]
  },
  {
   "attachments": {},
   "cell_type": "markdown",
   "metadata": {},
   "source": [
    "### 주석\n",
    "\n",
    "주석은 프로그램의 진행에 전혀 영향을 주지 않는 코드.  \n",
    "파이썬은 주석 처리하고자 하는 부분 앞에 # 기호를 붙여 주석 처리."
   ]
  },
  {
   "cell_type": "code",
   "execution_count": 3,
   "metadata": {},
   "outputs": [
    {
     "name": "stdout",
     "output_type": "stream",
     "text": [
      "Hello! Python Programming...\n"
     ]
    }
   ],
   "source": [
    "# 간단히 출력하는 예입니다.\n",
    "print(\"Hello! Python Programming...\")   # 문자열을 출력합니다."
   ]
  },
  {
   "attachments": {},
   "cell_type": "markdown",
   "metadata": {},
   "source": [
    "### 연산자와 자료\n",
    "\n",
    "연산자는 스스로 값이 되는 것은 아니고 값과 값 사이에 무언가 기능을 적용할 때 사용하는 것."
   ]
  },
  {
   "cell_type": "code",
   "execution_count": 5,
   "metadata": {},
   "outputs": [
    {
     "data": {
      "text/plain": [
       "2"
      ]
     },
     "execution_count": 5,
     "metadata": {},
     "output_type": "execute_result"
    }
   ],
   "source": [
    "1 + 1"
   ]
  },
  {
   "cell_type": "code",
   "execution_count": 6,
   "metadata": {},
   "outputs": [
    {
     "data": {
      "text/plain": [
       "0"
      ]
     },
     "execution_count": 6,
     "metadata": {},
     "output_type": "execute_result"
    }
   ],
   "source": [
    "10 - 10"
   ]
  },
  {
   "attachments": {},
   "cell_type": "markdown",
   "metadata": {},
   "source": [
    "자료를 리터럴이라고 함.  \n",
    "자료란 숫자이든지 문자이든지 어떠한 '값'자체를 의미.\n",
    "\n",
    "1  \n",
    "10  \n",
    "\"Hello\""
   ]
  },
  {
   "attachments": {},
   "cell_type": "markdown",
   "metadata": {},
   "source": [
    "### 출력: print()\n",
    "\n",
    "파이썬의 가장 기본적인 출력 방법은 print() 함수를 사용하는 것.  \n",
    "\n",
    "print(출력1, 출력2, ...)"
   ]
  },
  {
   "attachments": {},
   "cell_type": "markdown",
   "metadata": {},
   "source": [
    "하나만 출력하기"
   ]
  },
  {
   "cell_type": "code",
   "execution_count": 7,
   "metadata": {},
   "outputs": [
    {
     "name": "stdout",
     "output_type": "stream",
     "text": [
      "Hello Python Programming...!\n"
     ]
    }
   ],
   "source": [
    "print(\"Hello Python Programming...!\")"
   ]
  },
  {
   "cell_type": "code",
   "execution_count": 8,
   "metadata": {},
   "outputs": [
    {
     "name": "stdout",
     "output_type": "stream",
     "text": [
      "52\n"
     ]
    }
   ],
   "source": [
    "print(52)"
   ]
  },
  {
   "cell_type": "code",
   "execution_count": 9,
   "metadata": {},
   "outputs": [
    {
     "name": "stdout",
     "output_type": "stream",
     "text": [
      "273\n"
     ]
    }
   ],
   "source": [
    "print(273)"
   ]
  },
  {
   "attachments": {},
   "cell_type": "markdown",
   "metadata": {},
   "source": [
    "여러 개 출력하기"
   ]
  },
  {
   "cell_type": "code",
   "execution_count": 10,
   "metadata": {},
   "outputs": [
    {
     "name": "stdout",
     "output_type": "stream",
     "text": [
      "52 273 Hello\n"
     ]
    }
   ],
   "source": [
    "print(52, 273, \"Hello\")"
   ]
  },
  {
   "cell_type": "code",
   "execution_count": 11,
   "metadata": {},
   "outputs": [
    {
     "name": "stdout",
     "output_type": "stream",
     "text": [
      "안녕하세요 저의 이름은 윤인성입니다!\n"
     ]
    }
   ],
   "source": [
    "print(\"안녕하세요\", \"저의\", \"이름은\", \"윤인성입니다!\")"
   ]
  },
  {
   "attachments": {},
   "cell_type": "markdown",
   "metadata": {},
   "source": [
    "줄바꿈하기\n",
    "\n",
    "print 명령의 괄호 안에 아무것도 입력하지 않으면 줄바꿈을 함."
   ]
  },
  {
   "cell_type": "code",
   "execution_count": 12,
   "metadata": {},
   "outputs": [
    {
     "name": "stdout",
     "output_type": "stream",
     "text": [
      "\n"
     ]
    }
   ],
   "source": [
    "print()"
   ]
  }
 ],
 "metadata": {
  "kernelspec": {
   "display_name": "base",
   "language": "python",
   "name": "python3"
  },
  "language_info": {
   "codemirror_mode": {
    "name": "ipython",
    "version": 3
   },
   "file_extension": ".py",
   "mimetype": "text/x-python",
   "name": "python",
   "nbconvert_exporter": "python",
   "pygments_lexer": "ipython3",
   "version": "3.9.13"
  },
  "orig_nbformat": 4
 },
 "nbformat": 4,
 "nbformat_minor": 2
}
