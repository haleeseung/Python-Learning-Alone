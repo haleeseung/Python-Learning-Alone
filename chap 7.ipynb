{
 "cells": [
  {
   "attachments": {},
   "cell_type": "markdown",
   "metadata": {},
   "source": [
    "# chapter - 07 모듈\n",
    "\n",
    "## 7.1 표준 모듈\n",
    "파이썬은 모듈이라는 기능을 활용해 코드를 분리하고 공유함. 모듈은 여러 변수와 함수를 가지고 있는 집합체로, 크게 표준 모듈(파이썬에 기본적으로 내장되어 있는 모듈)과 외부 모듈(다른 사람들이 만들어서 공개한 모듈)로 나뉨. "
   ]
  },
  {
   "attachments": {},
   "cell_type": "markdown",
   "metadata": {},
   "source": [
    "### 모듈 사용의 기본: math 모듈\n",
    "math 모듈은 이름 그대로 수학과 관련된 기능을 가지고 있음.  \n",
    "> import math  \n",
    "\n",
    "다음과 같은 모듈을 사용하면 math에 속해있는 여러 변수와 함수를 이용 할 수 있음."
   ]
  },
  {
   "cell_type": "code",
   "execution_count": 2,
   "metadata": {},
   "outputs": [
    {
     "data": {
      "text/plain": [
       "0.8414709848078965"
      ]
     },
     "execution_count": 2,
     "metadata": {},
     "output_type": "execute_result"
    }
   ],
   "source": [
    "import math\n",
    "math.sin(1)"
   ]
  },
  {
   "cell_type": "code",
   "execution_count": 4,
   "metadata": {},
   "outputs": [
    {
     "data": {
      "text/plain": [
       "0.5403023058681398"
      ]
     },
     "execution_count": 4,
     "metadata": {},
     "output_type": "execute_result"
    }
   ],
   "source": [
    "math.cos(1)"
   ]
  },
  {
   "attachments": {},
   "cell_type": "markdown",
   "metadata": {},
   "source": [
    "#### 모듈 문서\n",
    "math 모듈은 많은 기능을 가지고 있음.  \n",
    "#### from 구문  \n",
    "모듈에는 정말 많은 변수와 함수가 들어 있음. 하지만 그중에서 우리가 활용하고 싶은 기능은 극히 일부일 수 있으며, math.cos(), math.sin(), math.pi처럼 앞에 무언가를 계속 입력하는 것이 귀찮다고 느껴질 수 있음."
   ]
  },
  {
   "cell_type": "code",
   "execution_count": 5,
   "metadata": {},
   "outputs": [
    {
     "data": {
      "text/plain": [
       "0.8414709848078965"
      ]
     },
     "execution_count": 5,
     "metadata": {},
     "output_type": "execute_result"
    }
   ],
   "source": [
    "from math import sin, cos, tan, floor, ceil\n",
    "sin(1)"
   ]
  },
  {
   "attachments": {},
   "cell_type": "markdown",
   "metadata": {},
   "source": [
    "#### as 구문\n",
    "모듈을 가져올 때 이름 충돌이 발생하는 경우가 있음. 추가로 모듈의 이름이 너무 길어서 짧게 줄여 사용하고 싶은 경우도 있을 수 있음. 다음과 같은 as 구문을 사용함."
   ]
  },
  {
   "attachments": {},
   "cell_type": "markdown",
   "metadata": {},
   "source": [
    "### random 모듈\n",
    "일단 가장 간단한 random 모듈부터 살펴봄. random 모듈은 랜덤한 값을 생성할 때 사용하는 모듈.  "
   ]
  },
  {
   "attachments": {},
   "cell_type": "markdown",
   "metadata": {},
   "source": [
    "#### 직접 해보는 손코딩 (random 모듈)"
   ]
  },
  {
   "cell_type": "code",
   "execution_count": 7,
   "metadata": {},
   "outputs": [
    {
     "name": "stdout",
     "output_type": "stream",
     "text": [
      "# random 모듈\n",
      "- random(): 0.058494703638646395\n",
      "- uniform(10, 20): 19.315980289039917\n",
      "- randrange(10): 6\n",
      "- choice([1, 2, 3, 4, 5]): 1\n",
      "- shuffle([1, 2, 3, 4, 5]): None\n",
      "- sample([1, 2, 3, 4, 5], k = 2): [3, 5]\n"
     ]
    }
   ],
   "source": [
    "import random\n",
    "print(\"# random 모듈\")\n",
    "\n",
    "# random(): 0.0 <= x <= 1.0 사이의 float를 리턴합니다.\n",
    "print(\"- random():\", random.random())\n",
    "\n",
    "# uniform(min, max): 지정한 범위 사이의 flaot를 리턴합니다.\n",
    "print(\"- uniform(10, 20):\", random.uniform(10, 20))\n",
    "\n",
    "# randrange() : 지정한 범위의 int를 리턴합니다.\n",
    "# - randrange(max): 0부터 max 사이의 값을 리턴합니다.\n",
    "# - randrange(min, max): min부터 max 사이의 값을 리턴합니다.\n",
    "print(\"- randrange(10):\", random.randrange(10))\n",
    "\n",
    "# choice(list): 리스트 내부에 있는 요소를 랜덤하게 선택합니다.\n",
    "print(\"- choice([1, 2, 3, 4, 5]):\", random.choice([1, 2, 3, 4, 5]))\n",
    "\n",
    "# shuffle(list): 리스트의 요소들을 랜덤하게 섞습니다.\n",
    "print(\"- shuffle([1, 2, 3, 4, 5]):\", random.shuffle([1, 2, 3, 4, 5]))\n",
    "\n",
    "# sample(list, k = <숫자>): 리스트의 요소 중에 k개를 뽑습니다.\n",
    "print(\"- sample([1, 2, 3, 4, 5], k = 2):\", random.sample([1, 2, 3, 4, 5], k = 2))"
   ]
  },
  {
   "attachments": {},
   "cell_type": "markdown",
   "metadata": {},
   "source": [
    "### sys 모듈\n",
    "sys 모듈은 시스템과 관련된 정보를 가지고 있는 모듈. 명령 매개변수를 받을 때 많이 사용되므로 간단하게 살펴봄."
   ]
  },
  {
   "attachments": {},
   "cell_type": "markdown",
   "metadata": {},
   "source": [
    "##### 직접 해보는 손코딩 (sys 모듈)"
   ]
  },
  {
   "cell_type": "code",
   "execution_count": 11,
   "metadata": {},
   "outputs": [
    {
     "name": "stdout",
     "output_type": "stream",
     "text": [
      "['/Users/seunghalee/Library/Python/3.9/lib/python/site-packages/ipykernel_launcher.py', '--ip=127.0.0.1', '--stdin=9008', '--control=9006', '--hb=9005', '--Session.signature_scheme=\"hmac-sha256\"', '--Session.key=b\"7770ef8f-bb0f-45d5-a4a7-cb0107c0e09f\"', '--shell=9007', '--transport=\"tcp\"', '--iopub=9009', '--f=/Users/seunghalee/Library/Jupyter/runtime/kernel-v2-1581IhUK5aIsLm5Y.json']\n",
      "---\n"
     ]
    },
    {
     "ename": "AttributeError",
     "evalue": "module 'sys' has no attribute 'getwindowsversion'",
     "output_type": "error",
     "traceback": [
      "\u001b[0;31m---------------------------------------------------------------------------\u001b[0m",
      "\u001b[0;31mAttributeError\u001b[0m                            Traceback (most recent call last)",
      "Cell \u001b[0;32mIn[11], line 9\u001b[0m\n\u001b[1;32m      6\u001b[0m \u001b[39mprint\u001b[39m(\u001b[39m\"\u001b[39m\u001b[39m---\u001b[39m\u001b[39m\"\u001b[39m)\n\u001b[1;32m      8\u001b[0m \u001b[39m# 컴퓨터 환경과 관련된 정보를 출력합니다.\u001b[39;00m\n\u001b[0;32m----> 9\u001b[0m \u001b[39mprint\u001b[39m(\u001b[39m\"\u001b[39m\u001b[39mgetwindowsversion:()\u001b[39m\u001b[39m\"\u001b[39m, sys\u001b[39m.\u001b[39;49mgetwindowsversion())\n\u001b[1;32m     10\u001b[0m \u001b[39mprint\u001b[39m(\u001b[39m\"\u001b[39m\u001b[39m---\u001b[39m\u001b[39m\"\u001b[39m)\n\u001b[1;32m     11\u001b[0m \u001b[39mprint\u001b[39m(\u001b[39m\"\u001b[39m\u001b[39mcopyright:\u001b[39m\u001b[39m\"\u001b[39m, sys\u001b[39m.\u001b[39mcopyright)\n",
      "\u001b[0;31mAttributeError\u001b[0m: module 'sys' has no attribute 'getwindowsversion'"
     ]
    }
   ],
   "source": [
    "# 모듈을 읽어 들입니다.\n",
    "import sys\n",
    "\n",
    "# 명령 매개변수를 출력합니다.\n",
    "print(sys.argv)\n",
    "print(\"---\")\n",
    "\n",
    "# 컴퓨터 환경과 관련된 정보를 출력합니다.\n",
    "print(\"getwindowsversion:()\", sys.getwindowsversion())\n",
    "print(\"---\")\n",
    "print(\"copyright:\", sys.copyright)\n",
    "print(\"---\")\n",
    "print(\"version:\", sys.version)\n",
    "\n",
    "# 프로그램을 강제로 종료합니다.\n",
    "sys.exit()"
   ]
  },
  {
   "attachments": {},
   "cell_type": "markdown",
   "metadata": {},
   "source": [
    "### os 모듈\n",
    "os 모듈은 운영체제와 관련된 기능을 가진 모듈. 새로운 폴더를 만들거나 폴더 내부의 파일목록을 보는 일도 모두 os 모듈을 활용해서 처리함.\n",
    "##### 직접 해보는 손코딩 (os 모듈)"
   ]
  },
  {
   "cell_type": "code",
   "execution_count": 13,
   "metadata": {},
   "outputs": [
    {
     "name": "stdout",
     "output_type": "stream",
     "text": [
      "현재 운영체제: posix\n",
      "현재 폴더: /Users/seunghalee/Desktop/study\n",
      "현재 폴더 내부의 요소: ['chap 6.ipynb', 'chap 4.ipynb', 'chap 2.ipynb', 'chap 5.ipynb', 'info.txt', 'chap 7.ipynb', 'chap 3.ipynb', 'chap 1.ipynb', 'basic.txt', '.git']\n"
     ]
    },
    {
     "name": "stderr",
     "output_type": "stream",
     "text": [
      "sh: dir: command not found\n"
     ]
    },
    {
     "data": {
      "text/plain": [
       "32512"
      ]
     },
     "execution_count": 13,
     "metadata": {},
     "output_type": "execute_result"
    }
   ],
   "source": [
    "# 모듈을 읽어 들입니다.\n",
    "import os\n",
    "\n",
    "# 기본 정보를 몇 개 출력해 봅시다.\n",
    "print(\"현재 운영체제:\", os.name)\n",
    "print(\"현재 폴더:\", os.getcwd())\n",
    "print(\"현재 폴더 내부의 요소:\", os.listdir())\n",
    "\n",
    "# 폴더를 만들고 제거합니다.[폴더가 비어있을 때만 제거 가능].\n",
    "os.mkdir(\"hello\")\n",
    "os.rmdir(\"hello\")\n",
    "\n",
    "# 파일을 생성하고 + 파일 이름을 변경합니다.\n",
    "with open(\"original.txt\", \"w\") as file:\n",
    "    file.write(\"hello\")\n",
    "os.rename(\"original.txt\", \"new.txt\")\n",
    "\n",
    "# 파일을 제거합니다.\n",
    "os.remove(\"new.txt\")\n",
    "# os.unlink(\"new.txt\")\n",
    "\n",
    "# 시스템 명령어 실행\n",
    "os.system(\"dir\")"
   ]
  },
  {
   "attachments": {},
   "cell_type": "markdown",
   "metadata": {},
   "source": [
    "파일을 제거할 때 remove() 함수와 unlink() 함수라는 두 가지 함수가 있어서 무엇을 사용해야 좋은 것인지 고민할 수 있는데,  \n",
    "파이썬 문서를 살펴보면 각각의 문서에 \"This is identical to the unlink() function'. This is the same function as remove()'라고 나옵니다."
   ]
  },
  {
   "attachments": {},
   "cell_type": "markdown",
   "metadata": {},
   "source": [
    "### datetime 모듈\n",
    "datetime 모듈은 date(날짜), time(시간)과 관련된 모듈로, 날짜 형식을 만들 때 자주 사용되는 코드들로 구성되어 있음.\n",
    "##### 직접 해보는 손코딩 (datetime 모듈)"
   ]
  },
  {
   "cell_type": "code",
   "execution_count": 15,
   "metadata": {},
   "outputs": [
    {
     "name": "stdout",
     "output_type": "stream",
     "text": [
      "# 현재 시각 출력하기\n",
      "2023 년\n",
      "7 월\n",
      "1 일\n",
      "17 시\n",
      "11 분\n",
      "59 초\n",
      "\n",
      "# 시간을 포맷에 맞춰 출력하기\n",
      "2023.07.01 17:11:59\n",
      "2023년 7월 1일 17시 11분 59초\n",
      "2023년 07월 01일 17시 11분 59초\n",
      "\n"
     ]
    }
   ],
   "source": [
    "# 모듈을 읽어 들입니다.\n",
    "import datetime\n",
    "\n",
    "# 현재 시각을 구하고 출력하기\n",
    "print(\"# 현재 시각 출력하기\")\n",
    "now = datetime.datetime.now()\n",
    "print(now.year, \"년\")\n",
    "print(now.month, \"월\")\n",
    "print(now.day, \"일\")\n",
    "print(now.hour, \"시\")\n",
    "print(now.minute, \"분\")\n",
    "print(now.second, \"초\")\n",
    "print()\n",
    "\n",
    "# 시간 출력 방법\n",
    "print(\"# 시간을 포맷에 맞춰 출력하기\")\n",
    "output_a = now.strftime(\"%Y.%m.%d %H:%M:%S\")\n",
    "output_b = \"{}년 {}월 {}일 {}시 {}분 {}초\".format(now.year,\\\n",
    "    now.month,\\\n",
    "    now.day,\\\n",
    "    now.hour,\\\n",
    "    now.minute,\\\n",
    "    now.second)\n",
    "output_c = now.strftime(\"%Y{} %m{} %d{} %H{} %M{} %S{}\").format(*\"년월일시분초\")\n",
    "print(output_a)\n",
    "print(output_b)\n",
    "print(output_c)\n",
    "print()"
   ]
  },
  {
   "attachments": {},
   "cell_type": "markdown",
   "metadata": {},
   "source": [
    "##### 직접 해보는 손코딩 (시간 처리하기)"
   ]
  },
  {
   "cell_type": "code",
   "execution_count": 17,
   "metadata": {},
   "outputs": [
    {
     "name": "stdout",
     "output_type": "stream",
     "text": [
      "# datetime.timedelta로 시간 더하기\n",
      "2023년 07월 09일 18시 17분 54초\n",
      "\n",
      "# now.replace()로 1년 더하기\n",
      "2024년 07월 01일 17시 16분 53초\n"
     ]
    }
   ],
   "source": [
    "# 모듈을 읽어 들입니다.\n",
    "import datetime\n",
    "now = datetime.datetime.now()\n",
    "\n",
    "\n",
    "# 특정 시간 이후의 시간 구하기\n",
    "print(\"# datetime.timedelta로 시간 더하기\")\n",
    "after = now + datetime.timedelta(\\\n",
    "    weeks=1,\\\n",
    "    days=1,\\\n",
    "    hours=1,\\\n",
    "    minutes=1,\\\n",
    "    seconds=1)\n",
    "print(after.strftime(\"%Y{} %m{} %d{} %H{} %M{} %S{}\").format(*\"년월일시분초\"))\n",
    "print()\n",
    "\n",
    "# 특정 시간 요소 교체하기\n",
    "print(\"# now.replace()로 1년 더하기\")\n",
    "output = now.replace(year =(now.year + 1))\n",
    "print(output.strftime(\"%Y{} %m{} %d{} %H{} %M{} %S{}\").format(*\"년월일시분초\"))"
   ]
  },
  {
   "attachments": {},
   "cell_type": "markdown",
   "metadata": {},
   "source": [
    "timedelta() 함수를 사용하면 특정한 시간의 이전 또는 이후를 구할 수 있음. 다만 timedelta() 함수는 1년 후, 2년 후 등의 몇 년 후를 구하는 기능이 없음.  \n",
    "그래서 1년 후를 구할 때는 replace() 함수를 사용해 아예 날짜 값을 교체하는 것이 일반 적."
   ]
  },
  {
   "attachments": {},
   "cell_type": "markdown",
   "metadata": {},
   "source": [
    "### time 모듈\n",
    "시간과 관련된 기능을 다룰 때는 time 모듈을 사용.\n",
    "##### 직접 해보는 손코딩 (time 모듈)"
   ]
  },
  {
   "cell_type": "code",
   "execution_count": 19,
   "metadata": {},
   "outputs": [
    {
     "name": "stdout",
     "output_type": "stream",
     "text": [
      "지금부터 5초 동안 정지합니다!\n",
      "프로그램을 종료합니다.\n"
     ]
    }
   ],
   "source": [
    "import time\n",
    "\n",
    "print(\"지금부터 5초 동안 정지합니다!\")\n",
    "time.sleep(5)\n",
    "print(\"프로그램을 종료합니다.\")"
   ]
  },
  {
   "attachments": {},
   "cell_type": "markdown",
   "metadata": {},
   "source": [
    "### urllib 모듈\n",
    "urllib 모듈은 'URL을 다루는 라이브러리'라는 의미."
   ]
  },
  {
   "attachments": {},
   "cell_type": "markdown",
   "metadata": {},
   "source": [
    "##### 직접 해보는 손코딩 (urllib 모듈)"
   ]
  },
  {
   "cell_type": "code",
   "execution_count": 22,
   "metadata": {},
   "outputs": [
    {
     "name": "stdout",
     "output_type": "stream",
     "text": [
      "b'<!doctype html><html itemscope=\"\" itemtype=\"http://schema.org/WebPage\" lang=\"ko\"><head><meta content=\"text/html; charset=UTF-8\" http-equiv=\"Content-Type\"><meta content=\"/images/branding/googleg/1x/googleg_standard_color_128dp.png\" itemprop=\"image\"><title>Google</title><script nonce=\"8mIZmZNqhY5mM7DmPhs8Lw\">(function(){var _g={kEI:\\'5uKfZJLCL9iIhwPc943AAg\\',kEXPI:\\'0,1359409,6058,207,2415,2389,2316,383,246,5,1129120,1197713,911,379866,16115,28684,22430,1362,283,12035,17581,4998,15065,2010,36218,2226,887,1985,2891,12360,30668,30022,2614,3901,9590,230,20583,4,1528,2302,42129,13658,4437,22589,6648,7596,1,11943,30211,2,39761,5679,1021,31122,4567,6259,23418,1252,5835,19300,19,7465,445,2,2,1,26632,8155,7381,15969,873,19634,7,1922,9779,22893,19566,20198,928,16696,2513,14,82,1722,5929,12555,8377,8048,5081,5859,5375,1536,729,765,6111,11509,7762,2710,2885,449,7206,6081,6004,10958,2365,662,1635,5798,2,2147,1765,4128,17,1129,2469,5,6817,4,2418,7914,4951,2701,3010,2077,3,3,9,3689,440,1271,2041,372,1776,5208528,15,1235,2,8797943,3311,141,795,19735,1,1,346,6612,6,8,259,53,64,23943482,579,4043528,16673,2893,6250,19356,532,3918,2953,1404037,681642,23077628,994,2607,255,2465,2108,1972,944,234,198,1022,335,86,415,1545,1209,3947,14,2775,99,75,100,688,515,885,197,148,2730,612,494,98,341,203,707,1,877,447,77,578,15,887,262,703,787,15,240,730,239,86,168,2,267,225,249,1079,1076,647,149,338,603,356,182,1388,802,600,797,151,40,128,356,2,4,1031,969,758,786,130,170,337,3,175,445,680,235,129,611,33,584,169,7,211,1926,2,103,324,205,71,29,42,851,678,6,1153,78,1406,418,1214,147,678\\',kBL:\\'pp_6\\',kOPI:89978449};(function(){var a;(null==(a=window.google)?0:a.stvsc)?google.kEI=_g.kEI:window.google=_g;}).call(this);})();(function(){google.sn=\\'webhp\\';google.kHL=\\'ko\\';})();(function(){\\nvar h=this||self;function l(){return void 0!==window.google&&void 0!==window.google.kOPI&&0!==window.google.kOPI?window.google.kOPI:null};var m,n=[];function p(a){for(var b;a&&(!a.getAttribute||!(b=a.getAttribute(\"eid\")));)a=a.parentNode;return b||m}function q(a){for(var b=null;a&&(!a.getAttribute||!(b=a.getAttribute(\"leid\")));)a=a.parentNode;return b}function r(a){/^http:/i.test(a)&&\"https:\"===window.location.protocol&&(google.ml&&google.ml(Error(\"a\"),!1,{src:a,glmm:1}),a=\"\");return a}\\nfunction t(a,b,c,d,k){var e=\"\";-1===b.search(\"&ei=\")&&(e=\"&ei=\"+p(d),-1===b.search(\"&lei=\")&&(d=q(d))&&(e+=\"&lei=\"+d));d=\"\";var g=-1===b.search(\"&cshid=\")&&\"slh\"!==a,f=[];f.push([\"zx\",Date.now().toString()]);h._cshid&&g&&f.push([\"cshid\",h._cshid]);c=c();null!=c&&f.push([\"opi\",c.toString()]);for(c=0;c<f.length;c++){if(0===c||0<c)d+=\"&\";d+=f[c][0]+\"=\"+f[c][1]}return\"/\"+(k||\"gen_204\")+\"?atyp=i&ct=\"+String(a)+\"&cad=\"+(b+e+d)};m=google.kEI;google.getEI=p;google.getLEI=q;google.ml=function(){return null};google.log=function(a,b,c,d,k,e){e=void 0===e?l:e;c||(c=t(a,b,e,d,k));if(c=r(c)){a=new Image;var g=n.length;n[g]=a;a.onerror=a.onload=a.onabort=function(){delete n[g]};a.src=c}};google.logUrl=function(a,b){b=void 0===b?l:b;return t(\"\",a,b)};}).call(this);(function(){google.y={};google.sy=[];google.x=function(a,b){if(a)var c=a.id;else{do c=Math.random();while(google.y[c])}google.y[c]=[a,b];return!1};google.sx=function(a){google.sy.push(a)};google.lm=[];google.plm=function(a){google.lm.push.apply(google.lm,a)};google.lq=[];google.load=function(a,b,c){google.lq.push([[a],b,c])};google.loadAll=function(a,b){google.lq.push([a,b])};google.bx=!1;google.lx=function(){};}).call(this);google.f={};(function(){\\ndocument.documentElement.addEventListener(\"submit\",function(b){var a;if(a=b.target){var c=a.getAttribute(\"data-submitfalse\");a=\"1\"===c||\"q\"===c&&!a.elements.q.value?!0:!1}else a=!1;a&&(b.preventDefault(),b.stopPropagation())},!0);document.documentElement.addEventListener(\"click\",function(b){var a;a:{for(a=b.target;a&&a!==document.documentElement;a=a.parentElement)if(\"A\"===a.tagName){a=\"1\"===a.getAttribute(\"data-nohref\");break a}a=!1}a&&b.preventDefault()},!0);}).call(this);</script><style>#gbar,#guser{font-size:13px;padding-top:1px !important;}#gbar{height:22px}#guser{padding-bottom:7px !important;text-align:right}.gbh,.gbd{border-top:1px solid #c9d7f1;font-size:1px}.gbh{height:0;position:absolute;top:24px;width:100%}@media all{.gb1{height:22px;margin-right:.5em;vertical-align:top}#gbar{float:left}}a.gb1,a.gb4{text-decoration:underline !important}a.gb1,a.gb4{color:#00c !important}.gbi .gb4{color:#dd8e27 !important}.gbf .gb4{color:#900 !important}\\n</style><style>body,td,a,p,.h{font-family:&#44404;&#47548;,&#46027;&#50880;,arial,sans-serif}.ko{font-size:9pt}body{margin:0;overflow-y:scroll}#gog{padding:3px 8px 0}td{line-height:.8em}.gac_m td{line-height:17px}form{margin-bottom:20px}.h{color:#1967d2}em{font-weight:bold;font-style:normal}.lst{height:25px;width:496px}.gsfi,.lst{font:18px arial,sans-serif}.gsfs{font:17px arial,sans-serif}.ds{display:inline-box;display:inline-block;margin:3px 0 4px;margin-left:4px}input{font-family:inherit}body{background:#fff;color:#000}a{color:#681da8;text-decoration:none}a:hover,a:active{text-decoration:underline}.fl a{color:#1967d2}a:visited{color:#681da8}.sblc{padding-top:5px}.sblc a{display:block;margin:2px 0;margin-left:13px;font-size:11px}.lsbb{background:#f8f9fa;border:solid 1px;border-color:#dadce0 #70757a #70757a #dadce0;height:30px}.lsbb{display:block}#WqQANb a{display:inline-block;margin:0 12px}.lsb{background:url(/images/nav_logo229.png) 0 -261px repeat-x;color:#000;border:none;cursor:pointer;height:30px;margin:0;outline:0;font:15px arial,sans-serif;vertical-align:top}.lsb:active{background:#dadce0}.lst:focus{outline:none}.Ucigb{width:458px}</style><script nonce=\"8mIZmZNqhY5mM7DmPhs8Lw\">(function(){window.google.erd={jsr:1,bv:1822,de:true};\\nvar l=this||self;var m,n=null!=(m=l.mei)?m:1,p,q=null!=(p=l.sdo)?p:!0,r=0,t,u=google.erd,v=u.jsr;google.ml=function(a,b,d,e,f){f=void 0===f?2:f;b&&(t=a&&a.message);if(google.dl)return google.dl(a,f,d),null;if(0>v){window.console&&console.error(a,d);if(-2===v)throw a;b=!1}else b=!a||!a.message||\"Error loading script\"===a.message||r>=n&&!e?!1:!0;if(!b)return null;r++;d=d||{};b=encodeURIComponent;var c=\"/gen_204?atyp=i&ei=\"+b(google.kEI);google.kEXPI&&(c+=\"&jexpid=\"+b(google.kEXPI));c+=\"&srcpg=\"+b(google.sn)+\"&jsr=\"+b(u.jsr)+\"&bver=\"+b(u.bv);var g=a.lineNumber;void 0!==g&&(c+=\"&line=\"+g);var h=\\na.fileName;h&&(0<h.indexOf(\"-extension:/\")&&(f=3),c+=\"&script=\"+b(h),g&&h===window.location.href&&(g=document.documentElement.outerHTML.split(\"\\\\n\")[g],c+=\"&cad=\"+b(g?g.substring(0,300):\"No script found.\")));c+=\"&jsel=\"+f;for(var k in d)c+=\"&\",c+=b(k),c+=\"=\",c+=b(d[k]);c=c+\"&emsg=\"+b(a.name+\": \"+a.message);c=c+\"&jsst=\"+b(a.stack||\"N/A\");12288<=c.length&&(c=c.substr(0,12288));a=c;e||google.log(0,\"\",a);return a};window.onerror=function(a,b,d,e,f){if(t!==a){a=f instanceof Error?f:Error(a);void 0===d||\"lineNumber\"in a||(a.lineNumber=d);void 0===b||\"fileName\"in a||(a.fileName=b);b=void 0;if(a.stack&&(-1!==a.stack.indexOf(\"?xjs=s0\")||a.stack.indexOf(\"&xjs=s0\"))){b=document.querySelectorAll(\"script[src*=\\\\\\\\/xjs\\\\\\\\/_\\\\\\\\/js\\\\\\\\/]\");for(e=d=0;e<b.length;e++)console.log(b[e].async),d+=b[e].async?1:0;var c=f=e=-1,g=-1,h=-1;if(performance&&google.xjsu){e=0;f=google.timers.load.t.xjsee?1:0;g=c=0;h=performance.getEntriesByType(\"resource\");for(var k=0;k<h.length;k++)h[k].name===google.xjsu&&(e=1),-1!==h[k].name.indexOf(\"/xjs/_/js/\")&&(c+=1,g+=\"script\"===h[k].initiatorType?1:0);h=c-g}b={cad:\"pl_\"+e+\".pe_\"+f+\".asc_\"+d+\".tsc_\"+b.length+\".fasc_\"+(b.length-d)+\".lxc_\"+c+\".lsx_\"+g+\".lnsx_\"+h}}google.ml(a,!1,b,!1,\"SyntaxError\"===a.name||\"SyntaxError\"===a.message.substring(0,11)||-1!==a.message.indexOf(\"Script error\")?3:0)}t=null;q&&r>=n&&(window.onerror=null)};})();</script></head><body bgcolor=\"#fff\"><script nonce=\"8mIZmZNqhY5mM7DmPhs8Lw\">(function(){var src=\\'/images/nav_logo229.png\\';var iesg=false;document.body.onload = function(){window.n && window.n();if (document.images){new Image().src=src;}\\nif (!iesg){document.f&&document.f.q.focus();document.gbqf&&document.gbqf.q.focus();}\\n}\\n})();</script><div id=\"mngb\"><div id=gbar><nobr><b class=gb1>&#44160;&#49353;</b> <a class=gb1 href=\"https://www.google.com/imghp?hl=ko&tab=wi\">&#51060;&#48120;&#51648;</a> <a class=gb1 href=\"https://maps.google.co.kr/maps?hl=ko&tab=wl\">&#51648;&#46020;</a> <a class=gb1 href=\"https://play.google.com/?hl=ko&tab=w8\">Play</a> <a class=gb1 href=\"https://www.youtube.com/?tab=w1\">YouTube</a> <a class=gb1 href=\"https://news.google.com/?tab=wn\">&#45684;&#49828;</a> <a class=gb1 href=\"https://mail.google.com/mail/?tab=wm\">Gmail</a> <a class=gb1 href=\"https://drive.google.com/?tab=wo\">&#46300;&#46972;&#51060;&#48652;</a> <a class=gb1 style=\"text-decoration:none\" href=\"https://www.google.co.kr/intl/ko/about/products?tab=wh\"><u>&#45908;&#48372;&#44592;</u> &raquo;</a></nobr></div><div id=guser width=100%><nobr><span id=gbn class=gbi></span><span id=gbf class=gbf></span><span id=gbe></span><a href=\"http://www.google.co.kr/history/optout?hl=ko\" class=gb4>&#50937; &#44592;&#47197;</a> | <a  href=\"/preferences?hl=ko\" class=gb4>&#49444;&#51221;</a> | <a target=_top id=gb_70 href=\"https://accounts.google.com/ServiceLogin?hl=ko&passive=true&continue=https://www.google.com/&ec=GAZAAQ\" class=gb4>&#47196;&#44536;&#51064;</a></nobr></div><div class=gbh style=left:0></div><div class=gbh style=right:0></div></div><center><br clear=\"all\" id=\"lgpd\"><div id=\"lga\"><img alt=\"Google\" height=\"92\" src=\"/images/branding/googlelogo/1x/googlelogo_white_background_color_272x92dp.png\" style=\"padding:28px 0 14px\" width=\"272\" id=\"hplogo\"><br><br></div><form action=\"/search\" name=\"f\"><table cellpadding=\"0\" cellspacing=\"0\"><tr valign=\"top\"><td width=\"25%\">&nbsp;</td><td align=\"center\" nowrap=\"\"><input name=\"ie\" value=\"ISO-8859-1\" type=\"hidden\"><input value=\"ko\" name=\"hl\" type=\"hidden\"><input name=\"source\" type=\"hidden\" value=\"hp\"><input name=\"biw\" type=\"hidden\"><input name=\"bih\" type=\"hidden\"><div class=\"ds\" style=\"height:32px;margin:4px 0\"><div style=\"position:relative;zoom:1\"><input class=\"lst Ucigb\" style=\"margin:0;padding:5px 8px 0 6px;vertical-align:top;color:#000;padding-right:38px\" autocomplete=\"off\" value=\"\" title=\"Google &#44160;&#49353;\" maxlength=\"2048\" name=\"q\" size=\"57\"><img src=\"/textinputassistant/tia.png\" style=\"position:absolute;cursor:pointer;right:5px;top:4px;z-index:300\" data-script-url=\"/textinputassistant/12/ko_tia.js\" id=\"tsuid_1\" alt=\"\" height=\"23\" width=\"27\"><script nonce=\"8mIZmZNqhY5mM7DmPhs8Lw\">(function(){var id=\\'tsuid_1\\';document.getElementById(id).onclick = function(){var s = document.createElement(\\'script\\');s.src = this.getAttribute(\\'data-script-url\\');(document.getElementById(\\'xjsc\\')||document.body).appendChild(s);};})();</script></div></div><br style=\"line-height:0\"><span class=\"ds\"><span class=\"lsbb\"><input class=\"lsb\" value=\"Google &#44160;&#49353;\" name=\"btnG\" type=\"submit\"></span></span><span class=\"ds\"><span class=\"lsbb\"><input class=\"lsb\" id=\"tsuid_2\" value=\"I&#8217;m Feeling Lucky\" name=\"btnI\" type=\"submit\"><script nonce=\"8mIZmZNqhY5mM7DmPhs8Lw\">(function(){var id=\\'tsuid_2\\';document.getElementById(id).onclick = function(){if (this.form.q.value){this.checked = 1;if (this.form.iflsig)this.form.iflsig.disabled = false;}\\nelse top.location=\\'/doodles/\\';};})();</script><input value=\"AD69kcEAAAAAZJ_w9rx1LdGtf_XtXGlefbU-W7p8kQ7O\" name=\"iflsig\" type=\"hidden\"></span></span></td><td class=\"fl sblc\" align=\"left\" nowrap=\"\" width=\"25%\"><a href=\"/advanced_search?hl=ko&amp;authuser=0\">&#44256;&#44553;&#44160;&#49353;</a></td></tr></table><input id=\"gbv\" name=\"gbv\" type=\"hidden\" value=\"1\"><script nonce=\"8mIZmZNqhY5mM7DmPhs8Lw\">(function(){var a,b=\"1\";if(document&&document.getElementById)if(\"undefined\"!=typeof XMLHttpRequest)b=\"2\";else if(\"undefined\"!=typeof ActiveXObject){var c,d,e=[\"MSXML2.XMLHTTP.6.0\",\"MSXML2.XMLHTTP.3.0\",\"MSXML2.XMLHTTP\",\"Microsoft.XMLHTTP\"];for(c=0;d=e[c++];)try{new ActiveXObject(d),b=\"2\"}catch(h){}}a=b;if(\"2\"==a&&-1==location.search.indexOf(\"&gbv=2\")){var f=google.gbvu,g=document.getElementById(\"gbv\");g&&(g.value=a);f&&window.setTimeout(function(){location.href=f},0)};}).call(this);</script></form><div id=\"gac_scont\"></div><div style=\"font-size:83%;min-height:3.5em\"><br></div><span id=\"footer\"><div style=\"font-size:10pt\"><div style=\"margin:19px auto;text-align:center\" id=\"WqQANb\"><a href=\"/intl/ko/ads/\">&#44305;&#44256;</a><a href=\"http://www.google.co.kr/intl/ko/services/\">&#48708;&#51592;&#45768;&#49828; &#49556;&#47336;&#49496;</a><a href=\"/intl/ko/about.html\">Google &#51221;&#48372;</a><a href=\"https://www.google.com/setprefdomain?prefdom=KR&amp;prev=https://www.google.co.kr/&amp;sig=K_c52Q5IFXtgKUGS5sCtLIIQrriBc%3D\">Google.co.kr</a></div></div><p style=\"font-size:8pt;color:#70757a\">&copy; 2023 - <a href=\"/intl/ko/policies/privacy/\">&#44060;&#51064;&#51221;&#48372;&#52376;&#47532;&#48169;&#52840;</a> - <a href=\"/intl/ko/policies/terms/\">&#50557;&#44288;</a></p></span></center><script nonce=\"8mIZmZNqhY5mM7DmPhs8Lw\">(function(){window.google.cdo={height:757,width:1440};(function(){var a=window.innerWidth,b=window.innerHeight;if(!a||!b){var c=window.document,d=\"CSS1Compat\"==c.compatMode?c.documentElement:c.body;a=d.clientWidth;b=d.clientHeight}\\nif(a&&b&&(a!=google.cdo.width||b!=google.cdo.height)){var e=google,f=e.log,g=\"/client_204?&atyp=i&biw=\"+a+\"&bih=\"+b+\"&ei=\"+google.kEI,h=\"\",k=[],l=void 0!==window.google&&void 0!==window.google.kOPI&&0!==window.google.kOPI?window.google.kOPI:null;null!=l&&k.push([\"opi\",l.toString()]);for(var m=0;m<k.length;m++){if(0===m||0<m)h+=\"&\";h+=k[m][0]+\"=\"+k[m][1]}f.call(e,\"\",\"\",g+h)};}).call(this);})();</script> <script nonce=\"8mIZmZNqhY5mM7DmPhs8Lw\">(function(){google.xjs={ck:\\'xjs.hp.KmgsEx1Za9c.L.X.O\\',cs:\\'ACT90oGvn2GYaC76O55g_mrMY5MEji5J9Q\\',csss:\\'ACT90oFTid_mitzF78rVvgdfjZbEZmvZBA\\',excm:[],sepcss:false};})();</script>    <script nonce=\"8mIZmZNqhY5mM7DmPhs8Lw\">(function(){var u=\\'/xjs/_/js/k\\\\x3dxjs.hp.en.9QlM0Up86x4.O/am\\\\x3dAAAAAAAAAABAAAAAAAAAAAAAANAJAFAAwAI/d\\\\x3d1/ed\\\\x3d1/rs\\\\x3dACT90oG6sriSlbnpJf5RZ94dYrXEj-CeTw/m\\\\x3dsb_he,d,cEt90b,SNUn3,qddgKe,sTsDMc,dtl0hd,eHDfl\\';var amd=0;\\nvar e=this||self,f=function(c){return c};var g;var k=function(c){this.g=c};k.prototype.toString=function(){return this.g+\"\"};var m={};\\nfunction q(){var c=u,n=function(){};google.lx=google.stvsc?n:function(){google.timers&&google.timers.load&&google.tick&&google.tick(\"load\",\"xjsls\");var a=document;var b=\"SCRIPT\";\"application/xhtml+xml\"===a.contentType&&(b=b.toLowerCase());b=a.createElement(b);a=null===c?\"null\":void 0===c?\"undefined\":c;if(void 0===g){var d=null;var l=e.trustedTypes;if(l&&l.createPolicy){try{d=l.createPolicy(\"goog#html\",{createHTML:f,createScript:f,createScriptURL:f})}catch(r){e.console&&e.console.error(r.message)}g=\\nd}else g=d}a=(d=g)?d.createScriptURL(a):a;a=new k(a,m);b.src=a instanceof k&&a.constructor===k?a.g:\"type_error:TrustedResourceUrl\";var h,p;(h=(a=null==(p=(h=(b.ownerDocument&&b.ownerDocument.defaultView||window).document).querySelector)?void 0:p.call(h,\"script[nonce]\"))?a.nonce||a.getAttribute(\"nonce\")||\"\":\"\")&&b.setAttribute(\"nonce\",h);document.body.appendChild(b);google.psa=!0;google.lx=n};google.bx||google.lx()};google.xjsu=u;e._F_jsUrl=u;setTimeout(function(){0<amd?google.caft(function(){return q()},amd):q()},0);})();window._ = window._ || {};window._DumpException = _._DumpException = function(e){throw e;};window._s = window._s || {};_s._DumpException = _._DumpException;window._qs = window._qs || {};_qs._DumpException = _._DumpException;function _F_installCss(c){}\\n(function(){google.jl={blt:\\'none\\',chnk:0,dw:false,dwu:true,emtn:0,end:0,ico:false,ikb:0,ine:false,injs:\\'none\\',injt:0,injth:0,injv2:false,lls:\\'default\\',pdt:0,rep:0,snet:true,strt:0,ubm:false,uwp:true};})();(function(){var pmc=\\'{\\\\x22d\\\\x22:{},\\\\x22sb_he\\\\x22:{\\\\x22agen\\\\x22:true,\\\\x22cgen\\\\x22:true,\\\\x22client\\\\x22:\\\\x22heirloom-hp\\\\x22,\\\\x22dh\\\\x22:true,\\\\x22ds\\\\x22:\\\\x22\\\\x22,\\\\x22fl\\\\x22:true,\\\\x22host\\\\x22:\\\\x22google.com\\\\x22,\\\\x22jsonp\\\\x22:true,\\\\x22msgs\\\\x22:{\\\\x22cibl\\\\x22:\\\\x22\\\\\\\\uac80\\\\\\\\uc0c9\\\\\\\\uc5b4 \\\\\\\\uc9c0\\\\\\\\uc6b0\\\\\\\\uae30\\\\x22,\\\\x22dym\\\\x22:\\\\x22\\\\\\\\uc774\\\\\\\\uac83\\\\\\\\uc744 \\\\\\\\ucc3e\\\\\\\\uc73c\\\\\\\\uc168\\\\\\\\ub098\\\\\\\\uc694?\\\\x22,\\\\x22lcky\\\\x22:\\\\x22I\\\\\\\\u2019m Feeling Lucky\\\\x22,\\\\x22lml\\\\x22:\\\\x22\\\\\\\\uc790\\\\\\\\uc138\\\\\\\\ud788 \\\\\\\\uc54c\\\\\\\\uc544\\\\\\\\ubcf4\\\\\\\\uae30\\\\x22,\\\\x22psrc\\\\x22:\\\\x22\\\\\\\\uac80\\\\\\\\uc0c9\\\\\\\\uc5b4\\\\\\\\uac00 \\\\\\\\u003Ca href\\\\x3d\\\\\\\\\\\\x22/history\\\\\\\\\\\\x22\\\\\\\\u003E\\\\\\\\uc6f9 \\\\\\\\uae30\\\\\\\\ub85d\\\\\\\\u003C/a\\\\\\\\u003E\\\\\\\\uc5d0\\\\\\\\uc11c \\\\\\\\uc0ad\\\\\\\\uc81c\\\\\\\\ub418\\\\\\\\uc5c8\\\\\\\\uc2b5\\\\\\\\ub2c8\\\\\\\\ub2e4.\\\\x22,\\\\x22psrl\\\\x22:\\\\x22\\\\\\\\uc0ad\\\\\\\\uc81c\\\\x22,\\\\x22sbit\\\\x22:\\\\x22\\\\\\\\uc774\\\\\\\\ubbf8\\\\\\\\uc9c0\\\\\\\\ub85c \\\\\\\\uac80\\\\\\\\uc0c9\\\\x22,\\\\x22srch\\\\x22:\\\\x22Google \\\\\\\\uac80\\\\\\\\uc0c9\\\\x22},\\\\x22ovr\\\\x22:{},\\\\x22pq\\\\x22:\\\\x22\\\\x22,\\\\x22rfs\\\\x22:[],\\\\x22sbas\\\\x22:\\\\x220 3px 8px 0 rgba(0,0,0,0.2),0 0 0 1px rgba(0,0,0,0.08)\\\\x22,\\\\x22stok\\\\x22:\\\\x22bcHHsOx_REXZPGpsnfan5g7DlbI\\\\x22}}\\';google.pmc=JSON.parse(pmc);})();(function(){\\nvar b=function(a){var c=0;return function(){return c<a.length?{done:!1,value:a[c++]}:{done:!0}}},e=this||self;var g,h;a:{for(var k=[\"CLOSURE_FLAGS\"],l=e,n=0;n<k.length;n++)if(l=l[k[n]],null==l){h=null;break a}h=l}var p=h&&h[610401301];g=null!=p?p:!1;var q,r=e.navigator;q=r?r.userAgentData||null:null;function t(a){return g?q?q.brands.some(function(c){return(c=c.brand)&&-1!=c.indexOf(a)}):!1:!1}function u(a){var c;a:{if(c=e.navigator)if(c=c.userAgent)break a;c=\"\"}return-1!=c.indexOf(a)};function v(){return g?!!q&&0<q.brands.length:!1}function w(){return u(\"Safari\")&&!(x()||(v()?0:u(\"Coast\"))||(v()?0:u(\"Opera\"))||(v()?0:u(\"Edge\"))||(v()?t(\"Microsoft Edge\"):u(\"Edg/\"))||(v()?t(\"Opera\"):u(\"OPR\"))||u(\"Firefox\")||u(\"FxiOS\")||u(\"Silk\")||u(\"Android\"))}function x(){return v()?t(\"Chromium\"):(u(\"Chrome\")||u(\"CriOS\"))&&!(v()?0:u(\"Edge\"))||u(\"Silk\")}function y(){return u(\"Android\")&&!(x()||u(\"Firefox\")||u(\"FxiOS\")||(v()?0:u(\"Opera\"))||u(\"Silk\"))};var z=v()?!1:u(\"Trident\")||u(\"MSIE\");y();x();w();var A=!z&&!w(),D=function(a){if(/-[a-z]/.test(\"ved\"))return null;if(A&&a.dataset){if(y()&&!(\"ved\"in a.dataset))return null;a=a.dataset.ved;return void 0===a?null:a}return a.getAttribute(\"data-\"+\"ved\".replace(/([A-Z])/g,\"-$1\").toLowerCase())};var E=[],F=null;function G(a){a=a.target;var c=performance.now(),f=[],H=f.concat,d=E;if(!(d instanceof Array)){var m=\"undefined\"!=typeof Symbol&&Symbol.iterator&&d[Symbol.iterator];if(m)d=m.call(d);else if(\"number\"==typeof d.length)d={next:b(d)};else throw Error(\"a`\"+String(d));for(var B=[];!(m=d.next()).done;)B.push(m.value);d=B}E=H.call(f,d,[c]);if(a&&a instanceof HTMLElement)if(a===F){if(c=4<=E.length)c=5>(E[E.length-1]-E[E.length-4])/1E3;if(c){c=google.getEI(a);a.hasAttribute(\"data-ved\")?f=a?D(a)||\"\":\"\":f=(f=\\na.closest(\"[data-ved]\"))?D(f)||\"\":\"\";f=f||\"\";if(a.hasAttribute(\"jsname\"))a=a.getAttribute(\"jsname\");else{var C;a=null==(C=a.closest(\"[jsname]\"))?void 0:C.getAttribute(\"jsname\")}google.log(\"rcm\",\"&ei=\"+c+\"&ved=\"+f+\"&jsname=\"+(a||\"\"))}}else F=a,E=[c]}window.document.addEventListener(\"DOMContentLoaded\",function(){document.body.addEventListener(\"click\",G)});}).call(this);</script></body></html>'\n"
     ]
    }
   ],
   "source": [
    "# 모듈을 읽어 들입니다.\n",
    "from urllib import request\n",
    "\n",
    "# urlopen() 함수로 구글의 메인 페이지를 읽습니다.\n",
    "target = request.urlopen(\"https://google.com\")\n",
    "output = target.read()\n",
    "\n",
    "# 출력합니다.\n",
    "print(output)"
   ]
  },
  {
   "attachments": {},
   "cell_type": "markdown",
   "metadata": {},
   "source": [
    "파이썬이 'https://google.com'에 들어감.  \n",
    "실행결과를 보면 문자열처럼 보이지만, 앞에 'b'라는 글자가 붙어 있습니다. 이는 바이너리 데이터를 의미하는 것.  \n",
    "일단 from urllib import request를 사용해 urllib 모듈에 있는 request를 가져왔음. 이때 request도 모듈이라  \n",
    " 이후의 코드에서 request 모듈 내부에 있는 urlopen() 함수를 request.urlopen()형태로 사용."
   ]
  },
  {
   "attachments": {},
   "cell_type": "markdown",
   "metadata": {},
   "source": [
    "## 7.2 외부 모듈\n",
    "\n",
    "### 모듈 설치하기\n",
    "> pip install 모듈 이름  \n",
    "\n",
    "pip은 특정 버전의 모듈을 설치하거나 설치한 모듈을 제거하는 기능 등을 모두 지원."
   ]
  },
  {
   "attachments": {},
   "cell_type": "markdown",
   "metadata": {},
   "source": [
    "### BeautifulSoup 모듈\n",
    "\n",
    "##### 직접 해보는 손코딩 (BeautifulSoup 모듈로 날씨 가져오기)"
   ]
  },
  {
   "cell_type": "code",
   "execution_count": 24,
   "metadata": {},
   "outputs": [],
   "source": [
    "# 모듈을 읽어 들입니다.\n",
    "from urllib import request\n",
    "from bs4 import BeautifulSoup\n",
    "\n",
    "# urlopen() 함수로 기상청의 전국 날씨를 읽습니다.\n",
    "target = request.urlopen(\"http://www.kma.go.kr/weather/forecast/mid-term=rss3.jsp?stnId=108\")\n",
    "\n",
    "# BeautifulSoup을 사용해 웹 페이지를 분석합니다.\n",
    "soup = BeautifulSoup(target, \"html.parser\")\n",
    "\n",
    "# location 태그를 찾습니다.\n",
    "for location in soup.select(\"location\"):\n",
    "    # 내부의 city, wf, tmn, tmx 태그를 찾아 출력합니다.\n",
    "    print(\"도시:\", location.select_one(\"city\").string)\n",
    "    print(\"날씨:\", location.select_one(\"wf\").string)\n",
    "    print(\"최저기온:\", location.select_one(\"tmn\").string)\n",
    "    print(\"최고기온:\", location.select_one(\"tmx\").string)\n",
    "    print()"
   ]
  },
  {
   "attachments": {},
   "cell_type": "markdown",
   "metadata": {},
   "source": [
    "### Flask 모듈\n",
    "일반적으로 파이썬으로 웹 개발을 할 때는 Django(장고) 또는 Flask(플라스크) 등의 모듈을 사용.  \n",
    "Django는 매우 다양한 기능을 제공하는 웹 개발 프레임 워크.  \n",
    "Flask는 작은 기능만을 제공하는 웹 개발 프레임 워크."
   ]
  },
  {
   "attachments": {},
   "cell_type": "markdown",
   "metadata": {},
   "source": [
    "##### 직접 해보는 손코딩 (Flask 모듈 사용하기)"
   ]
  },
  {
   "cell_type": "code",
   "execution_count": 1,
   "metadata": {},
   "outputs": [],
   "source": [
    "from flask import Flask\n",
    "app = Flask(__name__)\n",
    "\n",
    "@app.route(\"/\")\n",
    "def hello():\n",
    "    return \"<h1>Hello World!</h1>\""
   ]
  },
  {
   "attachments": {},
   "cell_type": "markdown",
   "metadata": {},
   "source": [
    "참고로 @app.rout()라고 되어있는 부분은 데코레이터 라고 부름."
   ]
  },
  {
   "attachments": {},
   "cell_type": "markdown",
   "metadata": {},
   "source": [
    "### 라이브러리와 프레임워크\n",
    "모듈을 살펴보면 라이브러리와 프레임워크라는 말을 많이 들음. -> 제어 역전 여부에 따라 다름.  \n",
    "- 라이브러리 : 정상적인 제어를 하는 모듈\n",
    "- 프레임 워크 : 제어 역전이 발생하는 모듈"
   ]
  },
  {
   "attachments": {},
   "cell_type": "markdown",
   "metadata": {},
   "source": [
    "#### 라이브러리\n",
    "제어 역전이란 쉽게 말해 제어가 역전되어 있다는 뜻. -> 개발자가 모듈의 기능을 호출하는 형태의 모듈을 라이브러리라고 함. (Ex) math 모듈, url 모듈 등."
   ]
  },
  {
   "attachments": {},
   "cell_type": "markdown",
   "metadata": {},
   "source": [
    "#### 프레임워크\n",
    "모듈이 개발자가 작성한 코드를 실행하는 형태의 모듈을 프레임워크라고 부름. (Ex) Flask 모듈 등.  \n",
    "개발자가 모듈의 함수를 호출하는 것이 일반적인 제어 흐름.  \n",
    "이와 반대로 개발자가 만든 함수를 모듈이 실행하는 것은 제어가 역전된 것. -> 제어 역전"
   ]
  },
  {
   "attachments": {},
   "cell_type": "markdown",
   "metadata": {},
   "source": [
    "#### 함수 데코레이터\n",
    "파이썬에는 데코레이터라는 기능이 있음. 데코레이터는 만드는 방법에 따라 크게 함수 데코레이터와 클래스 데코레이터로 나눌 수 있음."
   ]
  },
  {
   "attachments": {},
   "cell_type": "markdown",
   "metadata": {},
   "source": [
    "### 함수 데코레이터의 기본\n",
    "함수 데코레이터는 함수에 사용되는 데코레이터.  \n",
    "예제/"
   ]
  },
  {
   "cell_type": "code",
   "execution_count": 4,
   "metadata": {},
   "outputs": [],
   "source": [
    "def hello():\n",
    "    print(\"hello\")"
   ]
  },
  {
   "attachments": {},
   "cell_type": "markdown",
   "metadata": {},
   "source": [
    "##### 직접 해보는 손코딩 (함수 데코레이터의 기본)"
   ]
  },
  {
   "cell_type": "code",
   "execution_count": 1,
   "metadata": {},
   "outputs": [
    {
     "name": "stdout",
     "output_type": "stream",
     "text": [
      "인사가 시작되었습니다.\n",
      "hello\n",
      "인사가 종료되었습니다.\n"
     ]
    }
   ],
   "source": [
    "# 함수 데코레이터를 생성합니다.\n",
    "def test(function):\n",
    "    def wrapper():\n",
    "        print(\"인사가 시작되었습니다.\")\n",
    "        function()\n",
    "        print(\"인사가 종료되었습니다.\")\n",
    "    return wrapper\n",
    "\n",
    "# 데코레이터를 붙여 함수를 만듭니다.\n",
    "@test\n",
    "def hello():\n",
    "    print(\"hello\")\n",
    "    \n",
    "# 함수를 호출합니다.\n",
    "hello()"
   ]
  },
  {
   "attachments": {},
   "cell_type": "markdown",
   "metadata": {},
   "source": [
    "## 7.3 모듈 만들기\n",
    "파이썬은 모듈을 만드는 방법이 간단. \n",
    "\n",
    "### 모듈 만들기\n",
    "모듈 내부에 변수와 함수 등을 잔뜩 넣어주면 됨.\n",
    "\n",
    "##### 직접 해보는 손코딩 (쉬운 모듈 만들기)"
   ]
  },
  {
   "cell_type": "code",
   "execution_count": 6,
   "metadata": {},
   "outputs": [],
   "source": [
    "# test_module.py 파일\n",
    "PI = 3.141592\n",
    "\n",
    "def number_input():\n",
    "    output = input(\"숫자 입력> \")\n",
    "    return float(output)\n",
    "\n",
    "def get_circumference(radius):\n",
    "    return 2 * PI * radius\n",
    "\n",
    "def get_circle_area(radius):\n",
    "    return PI * radius * radius"
   ]
  },
  {
   "cell_type": "code",
   "execution_count": 2,
   "metadata": {},
   "outputs": [
    {
     "name": "stdout",
     "output_type": "stream",
     "text": [
      "62.83184\n",
      "314.1592\n"
     ]
    }
   ],
   "source": [
    "# main.py 파일\n",
    "import test_module as test\n",
    "\n",
    "radius = test.number_input()\n",
    "print(test.get_circumference(radius))\n",
    "print(test.get_circle_area(radius))"
   ]
  },
  {
   "attachments": {},
   "cell_type": "markdown",
   "metadata": {},
   "source": [
    "복잡하고 구조화된 모듈을 만들 때는 패키지라는 기능을 사용."
   ]
  },
  {
   "attachments": {},
   "cell_type": "markdown",
   "metadata": {},
   "source": [
    "### __name__ == \"__main__\"\n",
    "#### __name__\n",
    "파이썬 코드 내부에서는 __name__이라는 변수를 사용할 수 있음. __name__이라는 변수에 어떤 값이 들어있는지 확인.  \n",
    "프로그래밍 언어에서는 프로그램의 진입점을 엔트리 포인트 또는 메인이라고 부름.  \n",
    "이러한 엔트리 포인트 또는 메인 내부에서의 __name__은 __main__임."
   ]
  },
  {
   "attachments": {},
   "cell_type": "markdown",
   "metadata": {},
   "source": [
    "#### 모듈의 __name__\n",
    "엔트리 포인트가 아니지만 엔트리 포인트 파일 내에서 import 되었기 때문에 모듈 내 코드가 실행됨.  \n",
    "모듈 내부에서 __name__을 출력하면 모듈의 이름을 나타냄.\n",
    "\n",
    "##### 직접 해보는 손코딩 (모듈 이름을 출력하는 모듈 만들기)"
   ]
  },
  {
   "cell_type": "code",
   "execution_count": 6,
   "metadata": {},
   "outputs": [
    {
     "name": "stdout",
     "output_type": "stream",
     "text": [
      "# 메인의 __name__ 출력하기\n",
      "__main__\n",
      "\n"
     ]
    }
   ],
   "source": [
    "# main.py 파일\n",
    "import test_module\n",
    "\n",
    "print(\"# 메인의 __name__ 출력하기\")\n",
    "print(__name__)\n",
    "print()"
   ]
  },
  {
   "attachments": {},
   "cell_type": "markdown",
   "metadata": {},
   "source": [
    "##### 직접 해보는 손코딩 (모듈 이름을 출력하는 모듈 만들기)"
   ]
  },
  {
   "cell_type": "code",
   "execution_count": 7,
   "metadata": {},
   "outputs": [
    {
     "name": "stdout",
     "output_type": "stream",
     "text": [
      "# 모듈의 __name__ 출력하기\n",
      "__main__\n",
      "\n"
     ]
    }
   ],
   "source": [
    "# test_module.py 만들기\n",
    "print(\"# 모듈의 __name__ 출력하기\")\n",
    "print(__name__)\n",
    "print()"
   ]
  },
  {
   "attachments": {},
   "cell_type": "markdown",
   "metadata": {},
   "source": [
    "#### __name__ 활용하기\n",
    "엔트리 포인트 파일 내부에서는 __name__이 \"__main__\"이라는 값을 갖습니다. 이를 활용하면 현재 파일이 모듈로 실행되는지, 엔트리 포인트로 실행되는지 확인할 수 있습니다.\n",
    "\n",
    "##### 직접 해보는 손코딩 (모듈 활용하기)"
   ]
  },
  {
   "cell_type": "code",
   "execution_count": 9,
   "metadata": {},
   "outputs": [
    {
     "name": "stdout",
     "output_type": "stream",
     "text": [
      "get_circumference(10): 62.83184\n",
      "get_circle_area(10): 314.1592\n"
     ]
    }
   ],
   "source": [
    "PI = 3.141592\n",
    "\n",
    "def number_input():\n",
    "    output = input(\"숫자 입력> \")\n",
    "    return float(output)\n",
    "\n",
    "def get_circumference(radius):\n",
    "    return 2 * PI * radius\n",
    "\n",
    "def get_circle_area(radius):\n",
    "    return PI * radius * radius\n",
    "\n",
    "# 활용 예\n",
    "print(\"get_circumference(10):\", get_circumference(10))\n",
    "print(\"get_circle_area(10):\", get_circle_area(10))"
   ]
  },
  {
   "cell_type": "code",
   "execution_count": 11,
   "metadata": {},
   "outputs": [
    {
     "name": "stdout",
     "output_type": "stream",
     "text": [
      "62.83184\n",
      "314.1592\n"
     ]
    }
   ],
   "source": [
    "import test_module as test\n",
    "\n",
    "radius = test.number_input()\n",
    "print(test.get_circumference(radius))\n",
    "print(test.get_circle_area(radius))"
   ]
  },
  {
   "attachments": {},
   "cell_type": "markdown",
   "metadata": {},
   "source": [
    "현재 파일이 엔트리 포인트인지 구분하는 코드를 활용. 조건문으로 __name__이 \"__main__\"인지 확인만 하면 됌."
   ]
  },
  {
   "attachments": {},
   "cell_type": "markdown",
   "metadata": {},
   "source": [
    "##### 직접 해보는 손코딩 (엔트리 포인트를 확인하는 모듈 만들기)"
   ]
  },
  {
   "cell_type": "code",
   "execution_count": 12,
   "metadata": {},
   "outputs": [
    {
     "name": "stdout",
     "output_type": "stream",
     "text": [
      "get_circumference(10): 62.83184\n",
      "get_circle_area(10): 314.1592\n"
     ]
    }
   ],
   "source": [
    "PI = 3.141592\n",
    "\n",
    "def number_input():\n",
    "    output = input(\"숫자 입력> \")\n",
    "    return float(output)\n",
    "\n",
    "def get_circumference(radius):\n",
    "    return 2 * PI * radius\n",
    "\n",
    "def get_circle_area(radius):\n",
    "    return PI * radius * radius\n",
    "\n",
    "# 활용 예\n",
    "if __name__ == \"__main__\":\n",
    "    print(\"get_circumference(10):\", get_circumference(10))\n",
    "    print(\"get_circle_area(10):\", get_circle_area(10))"
   ]
  },
  {
   "cell_type": "code",
   "execution_count": 14,
   "metadata": {},
   "outputs": [
    {
     "name": "stdout",
     "output_type": "stream",
     "text": [
      "62.83184\n",
      "314.1592\n"
     ]
    }
   ],
   "source": [
    "import test_module as test\n",
    "\n",
    "radius = test.number_input()\n",
    "print(test.get_circumference(radius))\n",
    "print(test.get_circle_area(radius))"
   ]
  },
  {
   "attachments": {},
   "cell_type": "markdown",
   "metadata": {},
   "source": [
    "### 패키지\n",
    "이 책에서는 쉬운 이핼르 위해 import로 가져오는 모든 것을 모듈이라고 설명. 그런데 원래 pip은 Python Package Index의 줄임말로 패키지 관리 시스템임.  \n",
    "모듈이 모여서 구조를 이루면 패키지라고 부르는 것임."
   ]
  },
  {
   "attachments": {},
   "cell_type": "markdown",
   "metadata": {},
   "source": [
    "#### 패키지 만들기\n",
    "##### 직접 해보는 손코딩 (패키지 만들기)"
   ]
  },
  {
   "cell_type": "code",
   "execution_count": 16,
   "metadata": {},
   "outputs": [],
   "source": [
    "# ./test_package/module_a.py의 내용\n",
    "variable_a = \"a 모듈의 변수\""
   ]
  },
  {
   "cell_type": "code",
   "execution_count": 17,
   "metadata": {},
   "outputs": [],
   "source": [
    "# ./test_package/module_b.py의 내용\n",
    "variable_b = \"b 모듈의 변수\""
   ]
  },
  {
   "cell_type": "code",
   "execution_count": 19,
   "metadata": {},
   "outputs": [
    {
     "ename": "ModuleNotFoundError",
     "evalue": "No module named 'test_package'",
     "output_type": "error",
     "traceback": [
      "\u001b[0;31m---------------------------------------------------------------------------\u001b[0m",
      "\u001b[0;31mModuleNotFoundError\u001b[0m                       Traceback (most recent call last)",
      "Cell \u001b[0;32mIn[19], line 2\u001b[0m\n\u001b[1;32m      1\u001b[0m \u001b[39m# 패키지 내부의 모듈을 읽어 들입니다.\u001b[39;00m\n\u001b[0;32m----> 2\u001b[0m \u001b[39mimport\u001b[39;00m \u001b[39mtest_package\u001b[39;00m\u001b[39m.\u001b[39;00m\u001b[39mmodule_a\u001b[39;00m \u001b[39mas\u001b[39;00m \u001b[39ma\u001b[39;00m\n\u001b[1;32m      3\u001b[0m \u001b[39mimport\u001b[39;00m \u001b[39mtest_package\u001b[39;00m\u001b[39m.\u001b[39;00m\u001b[39mmodule_b\u001b[39;00m \u001b[39mas\u001b[39;00m \u001b[39mb\u001b[39;00m\n\u001b[1;32m      5\u001b[0m \u001b[39m# 모듈 내부의 변수를 출력합니다.\u001b[39;00m\n",
      "\u001b[0;31mModuleNotFoundError\u001b[0m: No module named 'test_package'"
     ]
    }
   ],
   "source": [
    "# 패키지 내부의 모듈을 읽어 들입니다.\n",
    "import test_package.module_a as a\n",
    "import test_package.module_b as b\n",
    "\n",
    "# 모듈 내부의 변수를 출력합니다.\n",
    "print(a.variable_a)\n",
    "print(b.variable_b)"
   ]
  },
  {
   "attachments": {},
   "cell_type": "markdown",
   "metadata": {},
   "source": [
    "#### __init__.py 파일\n",
    "패키지를 읽을 때 어던 처리를 수행해야 하거나 패키지 내부의 모듈들을 한꺼번에 가져오고 싶을때가 있음.  \n",
    "패키지와 관련된 초기화 처리등을 할 수 있음. "
   ]
  },
  {
   "attachments": {},
   "cell_type": "markdown",
   "metadata": {},
   "source": [
    "##### 직접 해보는 손코딩 (이미지 읽어 들이고 저장하기)"
   ]
  },
  {
   "cell_type": "code",
   "execution_count": 21,
   "metadata": {},
   "outputs": [
    {
     "name": "stdout",
     "output_type": "stream",
     "text": [
      "b'\\x89PNG\\r\\n\\x1a\\n\\x00\\x00\\x00\\rIHDR\\x00\\x00\\x01\\x04\\x00\\x00\\x00,\\x08\\x06\\x00\\x00\\x00\\x83\\x80\\xc6\\xe5\\x00\\x00\\x00\\x19tEXtSoftware\\x00Adobe ImageReadyq\\xc9e<\\x00\\x00\\x0f/IDATx\\xda\\xec]\\ttU\\xc5\\x19\\xfe\\xb3\\x11 D\\x11\\x13\\x0cF\\x08\\x11\\x14KEA\\xf6M\\xd0\\xd6\\xa3\\xb8\\xe1\\x12W\\x8a\\xa8\\xc7R\\xac\\xb5`\\x05\\xad\\xed\\xa9\\xbbb\\x17\\n\\xd4\\xa5Pj\\x05\\x11+4*\\n\\x15\\xc4\\xca\\xa2\\xf6\\x00Q\\x9b`+\\xa2\\xa0$\\x10%l\\x91%\\t!\\x81\\xd0\\xff\\xcb\\xfb\\x9f\\x99\\xdc\\xdc\\xfb\\xee\\xf2\\xeeM^\\xc2\\xfc\\xe7\\xcc\\xbb\\xef\\xbe\\x99;3w\\x96o\\xfem\\xe6\\xc5\\x1d;v\\x8c4i\\xd2\\xa4\\t\\x94\\x88\\x8f\\xb8\\xb88O\\x0fg,\\x9a\\x93\\xc4\\x97\\x81\\x1cFr\\xe8\\xcb\\xe1L\\x0e\\x99\\x1cN\\x94$U\\x1c\\xf6s\\xd8\\xcc\\xe13\\x0e\\x1fpXUr\\xfd\\x8f\\x8bt\\xd3k\\xd2\\x14[\\x04\\xe6 \\xae\\xf6\\xc3% 0\\x10\\xf4\\xe4\\xcb\\x04\\x0e7rH\\xf7P\\xf6z\\x0e\\xf38\\xccep8\\xa4\\xbbB\\x93\\xa6f\\x08\\x08\\x0c\\x04g\\xf1e*\\x87\\xd1`,|\\xa8\\xc3^\\x0e\\xbf\\xe30\\x93\\x81\\xe1\\xb0\\xee\\x12M\\x9a\\x9a\\x01 0\\x10\\xb4\\xe2\\xcb\\xc3\\x1c&sH\\n\\xa0.[8\\xdc\\xc1\\xa0\\xb0Fw\\x8b&M1\\x0c\\x08\\x0c\\x06\\xd9|Y\\xc8\\xa1\\x7f\\xc0\\xf5\\xa9\\xe1\\xf0\\x18\\x87G\\x18\\x18\\xb4\\xa6S\\x93\\xa6X\\x03\\x04\\x06\\x83\\xf3\\xf8\\xb2\\x8cC\\xc7F\\xac\\xd7\"\\x0ec\\x19\\x14\\xaat\\x17i\\xd2\\x14#\\x80\\xc0`\\x00\\xab\\xc1J\\x0e\\'4A\\xdd\\xfe\\xc9\\xe1\\x1a\\r\\n\\x9a45. $Zp\\x06\\xdd\\xf9\\xb2\\xbc\\x89\\xc0\\x00t\\x19\\x87\\xbfr\\xb8\\xc5\\x8f\\xcc\\xbaeu\\xfd\\x03_r\\xe4\\xf6\\xd2/\\x8b\\n7\\xb6\\xb4\\xce\\xe4w\\xfc$\\xdc_\\xfc~]\\xf5\\xf0\\xd6\\xe4\\x85\\x12M\\xc0\\xa05_r9\\xa45q\\xdd\\xc6r]\\xf2\\x98Kx\\xc6\\x87\\xbc\\xf0.Y\\xf2\\xbd\\x95\\xc3\\t\\xb6\\x9a/#\\xe4\\xf6$\\x9ed\\xfb\\x0c\\xf1\\x88\\xeb#\\xb7\\xb9\\x1c_l\\x91O\\x1f%\\x9f\\x15f`\\xc4i\\x907|7\\x8a\\xa2\\x98\\xcc]\\xa8\\xce\\xff\\xc3\\x0b\\xa0$\\xf3\\xe5N\\x0f\\x8f\\xe6s\\x9d\\xd7\\x18\\xf2\\n\\xeb\\x806p\\\\o\\x93\\xb2\\xc6\\x90\\x98\\xab9~\\x86\\x83\\xba\\x01\\xe8>\\x91\\xdbu\\xfc\\xcc\\x8d\\xf2;\\xf2\\xce\\x97\\xdf\\xe7\\xf1\\xef\\xb7\\x1a\\x9e\\xeb\\xc6\\x97+\\x02\\x18\\x9b\\x7f\\xe3\\xb2\\x0eX\\xd4\\xb5-_\\xc6Q\\xc8\\x12w\\x8e\\xf4I\\x19\\x85\\xfcp ~\\xcf\\xe1gK#\\xbc\\xebby\\x16\\x94\\xcdi\\x0b\\xad\\xda\\xceG\\xfa\\x92\\xcbYb\\n\\x08\\x142+\\x9e\\x1b#\\x805\\x8dAa%\\x83\\xc2F\\x87\\x83:\\x85\\xcc\\xad *\\x08\\xa4r\\xba\\xf6&i*\\xb9Q*]\\xd4\\xedj\\x0e\\x13\\xe5{\\x01\\x87b\\x8bt\\x00\\x83\\xe9\\xf2\\xfd6\\x0e\\x1b]N\\xd4T\\xbe\\xbc\\xef i\\xaa\\xf2L\\x81\\x83\\xf4\\x0f\\xf2\\xfb\\xbe\\xa9\\xdc\\xb7Q\\xea\\xe9\\x86frpk\\x1d\\x9a\\xa2\\x8c\\xb1\\x19\\x0e\\xd2\\xc7+\\x80^\\xe8\\xa2\\x9c^\\x1e\\xdf\\xc9\\x8e0i\\x0f\\x98\\xf4\\xd5p\\xbe\\xfc\\x9dB\\xcey*\\x01$:\\xcaXx\\x80\\xd3\\x8d\\xe7\\xb6_\\xe4\\xb1\\xec)\\x01\\xcc\\xcf784\\x04\\x04\\x9e|X\\xcd\\xee\\x8e\\xf4\\xe4\\x80\\xb4\\x0c\\x1a\\x95\\x99E\\xfb\\xab\\xaa\\xe8\\xa5\\xaf6\\xd1\\x9e\\xc3!\\xbf\"h!\\xae\\xea\\xd2\\x8d\\xfatH\\xa7\\xa2\\xb2\\x834\\x9f\\xe3\\xaaj\\x8eRZr\\x1bj\\x93h*\\x99\\xd0\\x91\\x9a\\x1a\\xdaYYA5\\xd6\\xee\\xd3\\x98\\xc8\\xb3\\xb8^#\\x1cZ\\x1e\\x16(\\xe8jE\\xefY\\xfc\\xfe\\x08\\x85L\\xab\\xb1F\\t\\x1e\\x06\\x80\\x93\\xf4\\x1d4\\x83\\xec\\xab\\xc8\\x06+\\xdc\\xdb\\x02\\xac \\xf8\\xd5\\xac\\xe5\\xb0]V\\xf4a\\x1c\\xda\\t\\xc7\\xb0\\x90\\xd3\\xc71(,\\x8cu\\x91a\\xaa\\x0c@S\\xba\\x84\\x81\\xe0\\x85!\\x17}w\\x7fs\\xf6\\x99t\\xc1\\x8a\\xd7\\xa8\\xfcH5\\xdd\\x7fv?\\x9a\\xf8\\xbd:\\xeepDF&\\xdd\\xf2\\xc1\\n:z\\xac\\x86\\xa6\\xf7;\\x9f\\x86v\\xecd\\x9agQ\\xf9A\\xfa\\xc9\\xdawi\\xc3\\xb7{\\xac\\x8a\\x1d.\\x93|\\xf1q:\\xd6\\x8e\\x82\\xf5v2&e\\xc0\\x81\\xaa\\x1dp\"F\\xb6\\xb5\\\\\\xb8\\x1e\\xd7\\xecf3iGL\\xbeW|\\xcak\\x97\\x01\\x0c\\xc0\\xc1<\\xaf\\x80\\x01\\x80\\xe16\\x9e\\xf0;\\x944\\xed\\x85\\x1b\\x1a\\'?=\\xcd\\xbf-\\xb3\\x12=\"\\xd0=\\xd1\\x88\\x86\\n\\x81c\\x99m\\t\\x08\\xbc\\ncO\\xc2\\xc5\\x91r\\xb8\\xa9k\\x8fz\\xf7\\x9dSRiHz\\x06\\xbd\\xb3c;\\xdd\\x94]?\\xee\\xa2N]j\\xb9\\x03p\\x10\\xe3\\xd7\\xbdKkG]O\\'$5\\x14\\xdf\\xb38\\x8f\\xf9\\xc3.\\xa6a\\xcb\\xffA\\x07\\xaa-\\x8d\\n\\x0f8\\x04\\x84%.YJ\\x95\\xd6E\\xd1\\xb8\\xafp\\xe7Z\\x89\\x1bQ)fy\\xc0\\x1c\\xe4K\\xef\\x08+\\x13D\\xa4_A\\x04P\\x81\\x9d\\x9f{\\xc8e9\\xd5-\\x1ct7\\xf1;\\x06\\xf5~\\xc3D<\\x01}\\x0e`\\xe5\\xb2\\x0e\\x19\\xdaw\\x1f\\xf7\\xd5\\xed\\xa2\\xeb\\xb9@\\xb8\\x86\\xeb\\x04H\\xdc\\xf4\\xd3*\\x9f8\\x9a\\xaev\\x1c\\xc2\\x04[!5\\xa9\\xa1x\\x9e\\x10\\x1f_{m\\x9d\\xd0\\x90\\xb1\\xa8\\x15\\x15\\x98q*=\\\\I\\xb9E[\\xe8\\xf6\\xee=M\\xf3Mo\\xdd\\x86\\xb9\\x8d\\x1e4\\xeb\\x8b\\xffZJ*0\\x83\\xb2\\xd8\\xf0\\xb1Mc=o\\xf1\\xf2\\xf1\\xc2\"Wp\\x9a\\x8a\\x00\\x06\\xc4)M\\xc0\\xa2\\xe2\\x9d\\xae\\xe4\\xf08\\x87\\xef\\x1b\\xa2\\x7f\\xcd\\xf1p(\\x9b\\xc9\\xef\\xfb\\xb1\\xcb|\\xbf\\xe1\\x0b\\xd8\\xb9\\xdd\\xfclG\\x93\\xf8G\\xf9\\xf2\\x1b\\xb9\\xbd2\\xac\\x8c:\\xcei\\x84\\xf2}\\xba\\x11\\x0c\\x94\\xf1Y\\xc3\\xed\\xf7\\xa4\\x00B\\x98\\xfb}>\\x96^$Q\\xb8\\x03\\xb0:9A\\x16\\x94\\xb7\\xa7\\xc4\\x12\\x10@C;\\x9e\\x1a\\t\\x10@c9\\xb8\\x1d\\xdcW\\x89N\\x04\\r\\x9f$\\xbfm\\xa3\\x90\\x15\\xe5\\xf7\\xdcA%>\\xbd\\x1eX\\xfa}\\x16q\\xa7\\t;\\xef\\x07\\x08\\x00u\\x07@z\\x93\\xf6\\xc8V\\xa2\\xb7r\\xf8HV\\x9d\\x04\\x89\\x1f\\xcb\\xcf|\\xc1\\xd7\\xb7\\x84\\x03\\x82F~\\x0b\\x06f\\x84b\\xb6\\x0b \\xa4\\xc3\\xf2\\xc0i\\x8d{LT\\xeb\\xd3\\x1e\\x8d\\x05\\xa15M\\xf9n\\'\\xaa}j\\xf1\\\\L\\xe9\\x10\\xceW\\xe4\\xcf@hwe\\xe4M\\x8d\\xa7\\xb4nc\\x97\\xc5\\xe5\\x1c&9\\x9c8\\x90M^\\xe4p\\x83I4X\\xb6_@\\xc6\\xe3t\\xd7\\xfa\\xc4\\x82M\\xe2|V[\\xd4\\x05u\\x9e\\x1e\\x05\\x08\\xdc, \\x80\\xad\\xe5\\x03\\xa9\\xa12\\xb0Rd\\xd3\\'\\xb8\\x0ee\\x9c~\\x10\\x7f\\xbf_\\xb8\\x87xy\\xeeL5=\\xa7\\x01\\x10\\x82\\x13\\xb8\\xc2\\xc4\\x04\\xb6C\\xf9\\xde\\xc9D\\x04k\\xae\\x80\\xd0\\xda\\xc2\\xba\\xe4\\x85\\x0e\\x18@\\xb5\\xcc\\xa2}\\xec\\xb8\\xc9\\x83\\xb1\\n\\x08\\x17\\x06]PjRd\\xf3\\x7fi\\x95\\xedf\\xc7n\\xcc\\xc9d\\xb2\\xd8\\xf0\\xb5\\x83\\xe2\\xa6)`\\x00e\\xd9K\\x82\\xdc\\x00\\xbd\\xd12\\xc1N\\x82\\xcc\\x0c[6w\\xeeV\\x9b\\xfc\\xa6r\\xbap\\x05\\xf38\\xfd\\xcb\\x8d\\xd8G\\x00\\xb0\\x89&\\xbf\\xe3L\\tl!\\x7f\\x96\\xeb\\xb3KaK\\xc1\\t\\\\\\xcd\\xf5=M\\xda\\x00\\xc0\\xd0_Qx\\xc1\\xcf\\x04\\xf2\\xe3J\\x0b{\\xf87\\xca\\xf7SM\\x00A]\\xd5v\\xdb\\xd4\\xbd\\'\\xd7C}~2\\x97\\x99\\xdbDc\\xfd~\\t~P\\xb6\\xa1]T\\xd6\\x16~\\x02\\xafGx\\xf6&\\x17\\xdcD\\x93\\x01\\xc29A\\x17\\x04sd$*(\\xdd\\xed(\\x1b\\x0e_\\xdb\\xac\\xa8\\xa7S\\x9d\\x83\\r4\\xb8\\x83Ug \\x8e\\x87%\\xe5i\\x0ewQH\\xe1\\x07s\\xa3\\x9dG\\xa4\\xaa_\\xc1$lL@xF\\x00\\x01\\xab\\xc9&\\n\\x99M\\xe1\\xe0\\xf4\\x89\\x8d>\\xa5X\\x80q\\x1a\\xbf3\\xfa\\x19\\x8a\\xc9sE\\x84\\xc9\\x14\\xdd\\x83\\x19\\x15\\x1b\\xc4\\x1d#\\x85\\xf5\\n\\xd5Fg-\\x13\\x82\\x98\\x96\\xa5\\xdc\\xb7\\xa3\\x96Io\\xc9X\\xc3x\\xba\\x96\\xdb{\"\\xb7\\xcdL\\x0b\\x11\\xf6^\\xb9\\x85\\x19}Q\\xac\\x02\\xc2YA\\x16\\xd2*>\\x81\\xae\\xcb:\\xc32\\x1e\\xfe\\n/o\\xfd\\xdcIV0e,\\xb5Is\\x19\\xd5\\x99N\\xa7\\x19=\\x03\\xf9\\xfe\\x18w\\xcc\\x14Aj\\xb0\\xdf\\xa3\\xc5&\\x1c\\xcd\\x0e\\xcb[9\\x8f\\x91\\x16q\\x83\\xa2\\x10\\x17\\xd2e\\xf2\\x8e2D\\xc5\\x8b\\x97\\x9e\\x1b:\":\\x98\\xb0\\x1e\\xa6\\x03D+~\\xef-6\"\\x03Y\\x88\\x0c{\\x1d\\x94\\tqF\\xed\\xd8R\\x07\\xef\\x0c_\\x92\\x14\\x13`\\xf1C\\xcfS\\xe0\\xd3\\x90.3\\x8c\\xa9\\xfd\\\\\\xef\\x87\\x14\\xd1p\\x06\\xc4Q\\xbe\\xbe*\\xed\\x99&}x\\xb9\\xf2\\xd8l~nS\\xac\\x02\\x82\\'\\xe5\\xc6\\x92\\xe2\\xad\\xb4\\xa6$\\xb4`\\xdf\\xfb\\xd1\\xfb4k\\xd0\\x85\\x94`\\xd8(\\x15\\xcf\\xf7\\x8f\\xf6\\x1eD\\xa7\\xb6M1\\xcd\\xa3\\xba\\xa6\\x86\\xee\\xf9\\xf0=\\xdaV\\xeeH\\x9cr\\xb2\\xebR]\\x91\\xfem\\xb1z\\x1e\\xe2\\x0e\\xcb\\xa3\\x90r\\xee\\x04\\xc9wg\\x84<\\xcf\\xa5:\\xcf\\xb42\\x93\\xf8q\\x01\\xf5\\xcf\\x18\\n\\xc6\\xd3.L\\xf00\\x1ci#2\\x18\\xe9d\\x87\\xe2\\x02\\xe8s3\\xd7e\\x07\\x80~b\\x00\\xef\\xba\\x98\\xeb\\xf2p\\x80m9S\\xc4\\xbb{\\xe4~\\xb8\\x043zS\\xf4X^\\x16\\x89\\x85\\xb20F\\xbdNG\\x02\\x84\\x14/9>X\\xb0\\x96\\x0e\\x1d=R\\xfb})\\xc0ag1]\\x98\\xd1\\xb9\\xfe\\xecLI\\xa5\\xd5\\xfc;\\x82\\x91\\xe0\\xa0\\x08\\x87\\xa4\\x92C\\xe5N\\x8bt\\xc2rV9L\\xaf\\x0e:;S\\xe46\\x07\\xecqK!\\xb5\\xa32\\r\\x831M\\xe1\\xbev\\x91\\xa6z\\x9c\\'&9\\xb7\\xd1\\n\\n\\xf9\\x85\\xc07\\xc1\\xb8\\x8d\\xb8@\\xc4\\xb8\\x05Qp\\xa4=(\\xc0\\xad\\x05\\x89\\xd1<\\x1cgx\\xdfx\\x93S\\xd5\\x90\\xe6@\\x95\\xb9\\xc3Q\\xf5\\xb1\\x1a*\\xab\\xf6}\\x87s\\xbe\\xf2\\xfdG\\x14\\xf2\\xd36\\xa2,\\x1au\\x80\\xdc~%\\xce?n\\t\\xf6\\xf8\\x19.\\x9fq\\xab\\x95_\\':\\x0e\\'4I@\\x0e\\xca\\xcf\\xa7\\x1c>S\\xa8\\xb4I\\x17\\x11\\xa1NR\\xe2\\xbb\\x1bD\\x93.\\xca\\xf7\\x1a%n#\\xb7a\\x95O\\x13\\xab\\xbdI\\x7f\\xe1\\xb7o\\x9b\\t0`\\x97\\xf0r\\xae3\\xda\\xb1\\xa7\\xb4)\\x16\\x93\\xcd>\\x99\\xb9\\xc1\\xc1\\xb5\\xf7i\\xeegZ\\x01B\\xb9\\x17.\\xe1\\x89>\\x83\\xe9\\xee\\xbc5\\xb5\\xae\\xcbWu\\xeeF#2\\x1a\\xea\\xa0\\x8a+\\xca\\xe8\\xbe\\xb3\\xfb\\xd2\\xe8\\xce\\xa7\\x9b\\xe6\\x01\\xef\\xc4\\t\\xebV\\xd2\\xaa\\x92b\\xd7\\xb2\\x9b\\x05-\\x93\\xd5\\x0bb@\\x0ew\\x0c\\xcel|<\\xec\"\\xca\\xf7\\x00\\x82\\x97\\x94\\x95n\\xb6\\xc7\\x8e/u\"\\x13+\\x83\\xbav\\xe3\\x95\\x0c\\xee\\n\\xc3\\x04\\xda&\\xa2K\\xb1\\xa1\\x8cu\\xe4\\xd0\\x83\\x92\\xf3\\xbdU\\x00\\xa1\\xd2#k\\xfc\\xa8\\x89\\xe83\\xd0\\x00\\xb0*]\\xa4\\xc4\\x19\\xb5\\xee\\x9ac(*\\xfc\\xd6Jd\\x8d2\\xdfK\\xfd\\xc8G<\\x15\\xb7Z\\x01\\xc2n/\\x800*\\xb3+\\r?e3-\\xff\\xba\\x88~\\xdbw\\xa8\\xe9\\xa9\\xabP\\x18B\\xbf0$\\xbdS\\xadG\\xa2\\x91\\xe0\\xce<g\\xf0\\x0fh\\xc8\\xb2E\\xb4\\xab\\xd2\\xf6\\x00\\xe6]\\x0e\\x1a\\x0c\\xb6xX\\x19r\\x85e\\x83\\x02q\\x92x\\xe0\\xb55\\xe8K\\xa0G\\xf8S#\\x8d\\x11u\\xe3\\x15v=\\xceU\\xea|N\\x84\\x8e\\x83\\x99\\xf0\\x97\\x0e\\xf2\\x0f\\xaf\\x1a\\xb0\\xb7;\\x01\\x04\\xc8\\xd4\\x05\\xc7\\xd1\\x1c\\xbd\\xc4G?\\x84\\xd7\\xc3[\\xbe\\xa3\\xf53Q\\xa8\\xc1V\\xe7\\xa6\\xa00 @\\xdb\\xd95\\xa8B\\xc0A\\xc0u\\xf9\\xce\\x1e\\xbdL\\xe3S\\x12\\x93h\\xcc\\xe9g\\xd1\\xf4\\x8d\\xf9\\xb6J*\\x87(\\xfa\\x9ahy\\xe7\\x88\\x12\\xcch\\xfe\"\\x01\\x8c\\xf1.\\xb7<\\xdb\\xa1.\\xb8\\x8ev\\xd0:{|\\xfe\\x0c~v\\xb3\\xe1g\\x00\\x82\\x9b}\\t\\xc9\\x0e\\xd3\\x17R}\\xad\\xfb\\xe2(V\\xf9\\xe6\\xa0_\\x19(\\xc1\\x0fB;\\xb5\\xc8\\x03\\x81\\xc3\\x80\\x00\\x9b\\xf6%A\\x16\\xf4\\xe1\\xde\\x9dt\\'\\xf5\\xb2\\x8c\\xef\\x7f\\xb2\\xa3\\xed\\x00\\xf9N\\xcb\\xe3\\x89\\xf5:O\\xb0w(\\xe4\\x92=TD\\x88J\\x01\\xbfW\\xed\\xec\\xf8\\x1e\\t>\\xed\\xcb\\xb8\\xdcU\\xa2\\xbbx\\x83\\xcb\\xf9&\\x02\\x00\\xc4\\x8b.\\x03u\\xc4N\\xc3l8\\x14Ez&@\\x16w1\\x1d\\xbf;J\\xa3\\xa1b\\x0bp\\x80B\\xbb\\xaf|\\xdf)\\xe3.\\x12U\\xc6\\x12 \\xe0\\xec\\xc4\\xfb\\x82,h\\xbf\\x8d\\'bZrk\\xdb1\\xeb\\xd0K\\xb1\\x9e\\xf8 \\xac\\xf9\\xdcFjOLj\\x98s.\\x96\\xf0\\x9c\\x9871\\xd1R\\x95t\\xf0\\xe0{V\\xd2\\x1bm\\xfdp^yN\\xb9\\x87\\xc2\\xb3\\x8fO\\xf5\\x83\\x19sr\\x04\\x80\\x82\\xcfD\\xd8ob\\t\\xb7\\xdf\\x97\\xcd|\\xb2\\xae\\xa0\\xfa\\xfb=\\xfc\\xa2Re\\x8c\\xe5\\n\\xb7ilK\\xf54\\xa7\\xe5\\xc6\\xd3\\x9cb\\x9dC\\x80\\xf7[\\x19\\x05\\xe8I\\xd6\\xbeUr\\xc4\\xf8=\\x87m\\x01r\\xa9\\xd3\\xb2d/C\\xd8\\x86^\\xc6\\x9d\\xd1X>\\xf7\\xfdL~\\x1b@u\\x16\\x8d0M\\xb1x\\x1e6\\xdc.M)g+\\xe2\\x06\\xd8\\xe2f\\r\\x08\\xb2\\xb3\\xb5\\x904\\xb9\\x03\\x04\\xfc\\x9dZ\\xc6\\xa29@\\xb9\\xc0Pl`ZF\\xc4\\xf8\\xf5{l-2\\xf3]\\x14\\xd7SA\\xe7y\\x1e\\xdf\\x0b\\x1e|a%\\xd4Q\\x87\\x03p0\\x83\\xd1y\\xb2\\xca#\\xf4r\\xf0\\x18\\x90\\x10\\xa2\\xcd\\xab\\xb2*\\x1b-\\x17\\xa9nD\\xa5\\x18\\xa1\\xb0\\xa9\\xb4DO1\\xd3\\x05\\x0b{\\x87~\\x1eA\\xd7\\xd1\\x18TAu&\\xf9\\xf5F\\x0e\\x014+(@\\xc09\\n9Y\\xdd-\\xe3\\xcb\\x8eT\\xdb\\xb9.\\xe7\\xd9\\x9d\\x85\\x10\\xc0\\xear\\x87\\xc7\\xe7\\xfe\\xc3\\x17\\x84\\x07\\xe5L\\x02\\xe4\\x03\\xffu#\\x8b\\x84\\xcdI\\xb0\\x1e,\\x15\\xd1\\xa6\\xc5P\\xc0\\x1e\\x81-\\x81\\xc0\\x05\\x8en\\xe2>\\xda%\\x8b\\x96\\xa9\\xc8\\x00.a=s\\to\\x93\\xcd\\xa9In)9!\\x81\\xfe\\xd8\\xef|\\xea`\\xa1#\\xd8Wu\\xb8\\xd6\\x0f\\xc1f{\\xf4\\xd4f\\xda\\xf1\\xb0:\\x8c3\\x01\\x03\\x10\\xac\\x1eP&\\xbe\\xe6\"\\xbf\"\\x1f\\xf5!\\x05z^j\\xb2\\x04\\x04!\\x1cU\\xf6C\\xb28W\\xf1\\xa9\\xff}\\xcc\\x13\\xbb\\xfe\\xd8\\xce\\xdf\\x1bri\\xbfk\\xfd*J\\x94\\xd3\\x93\\xbe\\xd3\\x0b\\xf0$?\\xadm;za\\xcb\\xc6\\xda`$\\xf8(|\\xba\\xaf\\xf4;\\xf7g\\x0bz\\x9fL\\xbc\\r\\x9b\\x01[\\x08\\x96h5\\xd5\\xf7\\x06\\x03\\x9b\\x08\\x87\\x9e\\xf0\\xd1\\xe00\\x8d\\xe6r\\xda\\x1c\\x87\\x9e~\\x85-m\\xf5\\xb59!\\x1a{!n\\xf0\\x98/|\\x03.\\x08\\xb0\\xea\\xb3\\xb8n\\xb3<\\xae\\xces\\xad\\x80\\xddp\\x0c\\xbb\\xfa;\\xbck\\x83>\\x94\\xb5w=@`.!\\x9f\\xb9\\x04l\\r6=\\x88$/\\x82\\x9c\\xff\\xaf\\x1d\\xdb\\xcd_\\xfe\\xe0\\xfe\\xda\\xe0\\x910I&D\\xf9_\\x8f9\\x11v\":%\\xfc\\xef\\xc2\\xe4(\\xc0\\x00\\x87i\\xfc\\x94\\xf3\\x98\\xcdq\\xf0\\x8c\\xccU@\\xe1\\n\\x17\\xa00\\xc8p\\xbe@4\\x84-\\xd4\\xe3#\\xc4\\xff\\x85\\xcb\\x9a\\xe1C9vg \\x04\\xe5\\x97\\x9fM\\xc1\\xfe\\x9d@F#cg\\x1bj\\x84\\xbfG0\\xdb\\xcb\\xf0\\x80 k,\\xfc7\\xc3\\xbdN\\xff\\x93!\\x02\\xa5\\x90\\xc7\\xcd[\\n\\xa5\\xb9\\x00\\x03(4W\\x18\\xc0\\xe0\\x16\\x9e\\x14\\x0bdu\\xa8\\xc2\\xe4\\xf7\\x08\\n\\xc9\\xd4\\xd0\\xc1\\xca+\\xd9\\xed\\x1c\\xf5\\xebx/3\\xcb\\x15L\\xa9NV\\x89hN\\x14*wX\\x86Wjl\\xbf\\x81\\xa3\\x01\\xbf\\x8f9 \\xf0\\x04\\xacd.\\x01\\x03v-5\\xed\\xbf7\\xcd\\x8f\\xe2_\\x9b\\xa0\\x90\\xd8\\xe0c]\\xb69\\x04\\x03\\xb8J/\\xb0\\x02\\x03\\x85e\\x04(\\\\C!\\x0b\\xc8\\xcd\\n(`K\\xecS&\\x03aC\\x00\\xedkvJTI\\x00e\\x95\\x9a\\xb0\\xcc\\xc3=L\\x86p\\xbd\\xb68d\\xcb\\xc7\\xb4$\\xd1\\x8a\\xdf\\x07\\xa72\\xb5\\x0f\\xba\\x1c\\xfdg\\xaf\\xc1\\xe9\\x0e:\\x99\\x81\\x81!-t5/\\n(\\xe0\\xf4\\xe2\\x1c\\xbfv\\r\\x1e\\x0f\\xd4\\x84\\xfe&\\x81\\xd5\\x8d\\x9f\\x03\\xe7\\xd6Vn\\x8b\\xf9\\xb9#\\x8dUg\\xfdw\\xf0\\xc1\\x82Bo\\'\\xe7\\x07\\n(\\xfc\\x8c\\xc3\\x9f5\\x18hjJ\\xb2\\x05\\x04\\x01\\x05(g\\xa0\\xdd\\xec\\x1fp}\\xc0^?\\xc6\\xe1\\x91(\\x95\\x88\\x9a4i\\n\\n\\x10\\x04\\x14\\xc0\\xfe<L!?\\xf8\\xa4\\x00\\xea\\x02\\xb9\\xf0\\x0e\\x06\\x825\\xba[4i\\x8aq@P\\x80\\x01\\x87\\xb1\\xc2I\\x08v\\xd28\\x1f\\xea\\x80\\x83:q\\x80\\xc9L\\x06\\x83\\xc3\\xbaK4ijF\\x80\\xa0\\x00\\x03Lk8\\x84\\x04N#^\\xccS\\xf0\\x9d\\x86\\x86}\\x1e\\x03A\\x85\\xee\\nM\\x9a\\x9a1 (\\xc0\\x00\\xf1\\x01\\x9b1FRh\\xef7\\xbc\\xa9\\xa0Y\\r\\x1f`\\n%\\x19l\\xa78\\xf4\\xe33\\x0e\\x1fpX\\xc5 P\\xa4\\x9b_\\x93\\xa6\\x18\\x05\\x04M\\x9a4i\\x02\\xfd_\\x80\\x01\\x00\\xed$ky]PVU\\x00\\x00\\x00\\x00IEND\\xaeB`\\x82'\n"
     ]
    }
   ],
   "source": [
    "# 모듈을 읽어 들입니다.\n",
    "from urllib import request\n",
    "\n",
    "# urlopen() 함수로 구글의 메인 페이지를 읽습니다.\n",
    "target = request.urlopen(\"http://www.hanbit.co.kr/images/common/logo_hanbit.png\")\n",
    "output = target.read()\n",
    "print(output)\n",
    "\n",
    "# write binary[바이너리 쓰기] 모드로\n",
    "file = open(\"output.png\", \"wb\")\n",
    "file.write(output)\n",
    "file.close()"
   ]
  }
 ],
 "metadata": {
  "kernelspec": {
   "display_name": "Python 3",
   "language": "python",
   "name": "python3"
  },
  "language_info": {
   "codemirror_mode": {
    "name": "ipython",
    "version": 3
   },
   "file_extension": ".py",
   "mimetype": "text/x-python",
   "name": "python",
   "nbconvert_exporter": "python",
   "pygments_lexer": "ipython3",
   "version": "3.9.6"
  },
  "orig_nbformat": 4
 },
 "nbformat": 4,
 "nbformat_minor": 2
}
