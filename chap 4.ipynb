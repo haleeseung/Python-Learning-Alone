{
 "cells": [
  {
   "attachments": {},
   "cell_type": "markdown",
   "metadata": {},
   "source": [
    "# chapter - 04 반복문\n",
    "\n",
    "## 4.1 리스트와 반복문\n",
    "파이썬에서 리스트의 의미는 여러가지 자료를 저장할 수 있는 자료.  \n",
    "숫자나 문자, 수식등이 개별적인, 독립적인 '자료' 였다면 리스트는 이러한 자료들을 모아서 사용할 수 있게 해주는 특별한 형태의 자료.  \n",
    "리스트는 대괄호[] 내부에 여러 종류의 자료를 선언."
   ]
  },
  {
   "cell_type": "code",
   "execution_count": 1,
   "metadata": {},
   "outputs": [
    {
     "name": "stdout",
     "output_type": "stream",
     "text": [
      "[273, 32, 103, '문자열', True, False]\n"
     ]
    }
   ],
   "source": [
    "array = [273, 32, 103, \"문자열\", True, False]\n",
    "print(array)"
   ]
  },
  {
   "attachments": {},
   "cell_type": "markdown",
   "metadata": {},
   "source": [
    "### 리스트 선언하고 요소에 접근하기\n",
    "파이썬에서 리스트를 생성하는 방법은 다음과 같이 대괄호[]에 자료를 쉼표로 구분해서 입력.  \n",
    "대괄호[] 내부에 넣는 자룔르 요소."
   ]
  },
  {
   "cell_type": "code",
   "execution_count": 2,
   "metadata": {},
   "outputs": [
    {
     "data": {
      "text/plain": [
       "[273, 32, 103, '문자열', True, False]"
      ]
     },
     "execution_count": 2,
     "metadata": {},
     "output_type": "execute_result"
    }
   ],
   "source": [
    "[1, 2, 3, 4]\n",
    "[\"안\" , \"녕\", \"하\", \"세\", \"요\"]\n",
    "[273, 32, 103, \"문자열\", True, False]"
   ]
  },
  {
   "attachments": {},
   "cell_type": "markdown",
   "metadata": {},
   "source": [
    "리스트 기호인 대괄호[] 안에 들어간 숫자를 인덱스라고 부름. '요소'와 '인덱스'라는 이름을 꼭 기억."
   ]
  },
  {
   "attachments": {},
   "cell_type": "markdown",
   "metadata": {},
   "source": [
    "1. 대괄호 안에 음수를 넣어 뒤에서부터 요소를 선택 가능.\n",
    "2. 리스트 접근 연산자를 다음과 같이 이중으로 사용 가능.  \n",
    "-> list_a[3]을 지정하면 \"문자열\"을 꺼내오고, last_a[3][0]을 지정하면 3번째에서 가져온 \"문자열\"에서 다시 0번째를 가져와 출력.\n",
    "3. 리스트 안에 리스트를 사용할 수 있음."
   ]
  },
  {
   "attachments": {},
   "cell_type": "markdown",
   "metadata": {},
   "source": [
    "### 리스트 연산자: 연결(+), 반복(*), len()\n",
    "##### 직접 해보는 손코딩 (리스트 연산자)"
   ]
  },
  {
   "cell_type": "code",
   "execution_count": 5,
   "metadata": {},
   "outputs": [
    {
     "name": "stdout",
     "output_type": "stream",
     "text": [
      "# 리스트\n",
      "list_a: [1, 2, 3]\n",
      "list_b: [4, 5, 6]\n",
      "\n",
      "# 리스트 + 기본 연산자\n",
      "list_a + list_b: [1, 2, 3, 4, 5, 6]\n",
      "list_a * 3: [1, 2, 3, 1, 2, 3, 1, 2, 3]\n",
      "\n",
      "# 길이 구하기\n",
      "len(list_a): 3\n"
     ]
    }
   ],
   "source": [
    "# 리스트를 선언합니다.\n",
    "list_a = [1, 2, 3]\n",
    "list_b = [4, 5, 6]\n",
    "\n",
    "# 출력합니다.\n",
    "print(\"# 리스트\")\n",
    "print(\"list_a:\", list_a)\n",
    "print(\"list_b:\", list_b)\n",
    "print()\n",
    "\n",
    "# 기본 연산자\n",
    "print(\"# 리스트 + 기본 연산자\")\n",
    "print(\"list_a + list_b:\", list_a + list_b)\n",
    "print(\"list_a * 3:\", list_a * 3)\n",
    "print()\n",
    "\n",
    "# 함수\n",
    "print(\"# 길이 구하기\")\n",
    "print(\"len(list_a):\", len(list_a))"
   ]
  },
  {
   "attachments": {},
   "cell_type": "markdown",
   "metadata": {},
   "source": [
    "### 리스트에 요소 추가하기: append, insert\n",
    "리스트에 요소를 추가할 때 두가지 방법.  \n",
    "1. append() 함수 이용.\n",
    "2. insert() 함수 이용."
   ]
  },
  {
   "attachments": {},
   "cell_type": "markdown",
   "metadata": {},
   "source": [
    "##### 직접 해보는 손코딩 (리스트에 요소 추가하기)"
   ]
  },
  {
   "cell_type": "code",
   "execution_count": 2,
   "metadata": {},
   "outputs": [
    {
     "name": "stdout",
     "output_type": "stream",
     "text": [
      "# 리스트 뒤에 요소 추가하기\n",
      "[1, 2, 3, 4, 5]\n",
      "\n",
      "# 리스트 중간에 요소 추가하기\n",
      "[10, 1, 2, 3, 4, 5]\n"
     ]
    }
   ],
   "source": [
    "# 리스트를 선언합니다.\n",
    "list_a = [1, 2, 3]\n",
    "\n",
    "# 리스트 뒤에 요소 추가하기\n",
    "print(\"# 리스트 뒤에 요소 추가하기\")\n",
    "list_a.append(4)\n",
    "list_a.append(5)\n",
    "print(list_a)\n",
    "print()\n",
    "\n",
    "# 리스트 중간에 요소 추가하기\n",
    "print(\"# 리스트 중간에 요소 추가하기\")\n",
    "list_a.insert(0, 10)\n",
    "print(list_a)"
   ]
  },
  {
   "attachments": {},
   "cell_type": "markdown",
   "metadata": {},
   "source": [
    "append()와 insert()함수는 리스트에 요소 하나를 추가함. 한 번에 여러 요소를 추가하고 싶을 때, extend() 함수를 사용."
   ]
  },
  {
   "cell_type": "code",
   "execution_count": 3,
   "metadata": {},
   "outputs": [
    {
     "name": "stdout",
     "output_type": "stream",
     "text": [
      "[1, 2, 3, 4, 5, 6]\n"
     ]
    }
   ],
   "source": [
    "list_a = [1, 2, 3]\n",
    "list_a.extend([4, 5, 6])\n",
    "print(list_a)"
   ]
  },
  {
   "attachments": {},
   "cell_type": "markdown",
   "metadata": {},
   "source": [
    "#### 리스트 연결 연산자와 요소 추가의 차이"
   ]
  },
  {
   "cell_type": "code",
   "execution_count": 4,
   "metadata": {},
   "outputs": [
    {
     "data": {
      "text/plain": [
       "[1, 2, 3, 4, 5, 6]"
      ]
     },
     "execution_count": 4,
     "metadata": {},
     "output_type": "execute_result"
    }
   ],
   "source": [
    "list_a = [1, 2, 3]\n",
    "list_b = [4, 5, 6]\n",
    "list_a + list_b"
   ]
  },
  {
   "cell_type": "code",
   "execution_count": 5,
   "metadata": {},
   "outputs": [
    {
     "data": {
      "text/plain": [
       "[1, 2, 3]"
      ]
     },
     "execution_count": 5,
     "metadata": {},
     "output_type": "execute_result"
    }
   ],
   "source": [
    "list_a"
   ]
  },
  {
   "cell_type": "code",
   "execution_count": 6,
   "metadata": {},
   "outputs": [
    {
     "data": {
      "text/plain": [
       "[4, 5, 6]"
      ]
     },
     "execution_count": 6,
     "metadata": {},
     "output_type": "execute_result"
    }
   ],
   "source": [
    "list_b"
   ]
  },
  {
   "cell_type": "code",
   "execution_count": 7,
   "metadata": {},
   "outputs": [
    {
     "data": {
      "text/plain": [
       "[1, 2, 3, 4, 5, 6]"
      ]
     },
     "execution_count": 7,
     "metadata": {},
     "output_type": "execute_result"
    }
   ],
   "source": [
    "list_a = [1, 2, 3]\n",
    "list_b = [4, 5, 6]\n",
    "list_a.extend(list_b)\n",
    "list_a"
   ]
  },
  {
   "attachments": {},
   "cell_type": "markdown",
   "metadata": {},
   "source": [
    "리스트와 같이 우너본에 어떠한 영향도 주지 않는 것을 비파괴적이라고 표현.  \n",
    "리스트에 직접적인 영향을 주는 함수 또는 연산을 파괴적이라고 표현.  \n",
    "### 리스트에 요소 제거하기\n",
    "- 인덱스로 제거하기\n",
    "- 값으로 제거하기\n",
    "\n",
    "#### 인덱스로 제거하기: del, pop\n",
    "인덱스로 제거한다는 것은 요소의 위치를 기반으로 요소를 제거하는 것. del 키워드, pop() 함수를 사용.\n",
    "\n",
    "##### 직접 해보는 손코딩 (리스트 연결 연산자와 요소 추가의 차이)"
   ]
  },
  {
   "cell_type": "code",
   "execution_count": 8,
   "metadata": {},
   "outputs": [
    {
     "name": "stdout",
     "output_type": "stream",
     "text": [
      "# 리스트의 요소 하나 제거하기\n",
      "del list_a[1]: [0, 2, 3, 4, 5]\n",
      "pop(2): [0, 2, 4, 5]\n"
     ]
    }
   ],
   "source": [
    "list_a = [0, 1, 2, 3, 4, 5]\n",
    "print(\"# 리스트의 요소 하나 제거하기\")\n",
    "\n",
    "# 제거 방법[1] - del\n",
    "del list_a[1]\n",
    "print(\"del list_a[1]:\", list_a)\n",
    "\n",
    "# 제거 방법 [2] - pop()\n",
    "list_a.pop(2)\n",
    "print(\"pop(2):\", list_a)"
   ]
  },
  {
   "attachments": {},
   "cell_type": "markdown",
   "metadata": {},
   "source": [
    "pop() 함수의 매개변수에 아무 것도 입력하지 않으면 자동으로 -1이 들어가는 것으로 취급해서 마지막 요소를 제거합니다."
   ]
  },
  {
   "cell_type": "code",
   "execution_count": 10,
   "metadata": {},
   "outputs": [
    {
     "data": {
      "text/plain": [
       "[0, 1, 2, 6]"
      ]
     },
     "execution_count": 10,
     "metadata": {},
     "output_type": "execute_result"
    }
   ],
   "source": [
    "list_b = [0, 1, 2, 3, 4, 5, 6]\n",
    "del list_b[3:6]\n",
    "list_b"
   ]
  },
  {
   "attachments": {},
   "cell_type": "markdown",
   "metadata": {},
   "source": [
    "#### 값으로 제거하기: remove"
   ]
  },
  {
   "cell_type": "code",
   "execution_count": 11,
   "metadata": {},
   "outputs": [
    {
     "data": {
      "text/plain": [
       "[1, 1, 2]"
      ]
     },
     "execution_count": 11,
     "metadata": {},
     "output_type": "execute_result"
    }
   ],
   "source": [
    "list_c = [1, 2, 1, 2]   # 리스트 선언하기\n",
    "list_c.remove(2)\n",
    "list_c"
   ]
  },
  {
   "attachments": {},
   "cell_type": "markdown",
   "metadata": {},
   "source": [
    "remove() 함수로 지정한 값이 리스트 내부에 여러 개 있어도 가장 먼저 발견되는 하나만 제거."
   ]
  },
  {
   "attachments": {},
   "cell_type": "markdown",
   "metadata": {},
   "source": [
    "#### 모두 제거하기: clear\n",
    "리스트 내부의 요소를 모두 제거할 때는 clear() 함수를 사용."
   ]
  },
  {
   "cell_type": "code",
   "execution_count": 12,
   "metadata": {},
   "outputs": [
    {
     "data": {
      "text/plain": [
       "[]"
      ]
     },
     "execution_count": 12,
     "metadata": {},
     "output_type": "execute_result"
    }
   ],
   "source": [
    "list_d = [0, 1, 2, 3, 4, 5]\n",
    "list_d.clear()\n",
    "list_d"
   ]
  },
  {
   "attachments": {},
   "cell_type": "markdown",
   "metadata": {},
   "source": [
    "프로그래밍 언어에서는 내부에 있는 모든 것을 제거할 때 항상 clear라는 이름을 사용. -> clear는 모두 제거할 때 사용.\n",
    "### 리스트 내부에 있는지 확인하기 : in/not in 연산자"
   ]
  },
  {
   "cell_type": "code",
   "execution_count": 13,
   "metadata": {},
   "outputs": [
    {
     "data": {
      "text/plain": [
       "True"
      ]
     },
     "execution_count": 13,
     "metadata": {},
     "output_type": "execute_result"
    }
   ],
   "source": [
    "list_a = [273, 32, 103, 57, 52]\n",
    "273 in list_a"
   ]
  },
  {
   "cell_type": "code",
   "execution_count": 14,
   "metadata": {},
   "outputs": [
    {
     "data": {
      "text/plain": [
       "False"
      ]
     },
     "execution_count": 14,
     "metadata": {},
     "output_type": "execute_result"
    }
   ],
   "source": [
    "99 in list_a"
   ]
  },
  {
   "cell_type": "code",
   "execution_count": 15,
   "metadata": {},
   "outputs": [
    {
     "data": {
      "text/plain": [
       "False"
      ]
     },
     "execution_count": 15,
     "metadata": {},
     "output_type": "execute_result"
    }
   ],
   "source": [
    "273 not in list_a"
   ]
  },
  {
   "cell_type": "code",
   "execution_count": 16,
   "metadata": {},
   "outputs": [
    {
     "data": {
      "text/plain": [
       "True"
      ]
     },
     "execution_count": 16,
     "metadata": {},
     "output_type": "execute_result"
    }
   ],
   "source": [
    "99 not in list_a"
   ]
  },
  {
   "attachments": {},
   "cell_type": "markdown",
   "metadata": {},
   "source": [
    "### for 반복문\n",
    "컴퓨터에 반복을 지시하는 방법이 바로 반복문."
   ]
  },
  {
   "cell_type": "code",
   "execution_count": 17,
   "metadata": {},
   "outputs": [
    {
     "name": "stdout",
     "output_type": "stream",
     "text": [
      "출력\n",
      "출력\n",
      "출력\n",
      "출력\n",
      "출력\n",
      "출력\n",
      "출력\n",
      "출력\n",
      "출력\n",
      "출력\n",
      "출력\n",
      "출력\n",
      "출력\n",
      "출력\n",
      "출력\n",
      "출력\n",
      "출력\n",
      "출력\n",
      "출력\n",
      "출력\n",
      "출력\n",
      "출력\n",
      "출력\n",
      "출력\n",
      "출력\n",
      "출력\n",
      "출력\n",
      "출력\n",
      "출력\n",
      "출력\n",
      "출력\n",
      "출력\n",
      "출력\n",
      "출력\n",
      "출력\n",
      "출력\n",
      "출력\n",
      "출력\n",
      "출력\n",
      "출력\n",
      "출력\n",
      "출력\n",
      "출력\n",
      "출력\n",
      "출력\n",
      "출력\n",
      "출력\n",
      "출력\n",
      "출력\n",
      "출력\n",
      "출력\n",
      "출력\n",
      "출력\n",
      "출력\n",
      "출력\n",
      "출력\n",
      "출력\n",
      "출력\n",
      "출력\n",
      "출력\n",
      "출력\n",
      "출력\n",
      "출력\n",
      "출력\n",
      "출력\n",
      "출력\n",
      "출력\n",
      "출력\n",
      "출력\n",
      "출력\n",
      "출력\n",
      "출력\n",
      "출력\n",
      "출력\n",
      "출력\n",
      "출력\n",
      "출력\n",
      "출력\n",
      "출력\n",
      "출력\n",
      "출력\n",
      "출력\n",
      "출력\n",
      "출력\n",
      "출력\n",
      "출력\n",
      "출력\n",
      "출력\n",
      "출력\n",
      "출력\n",
      "출력\n",
      "출력\n",
      "출력\n",
      "출력\n",
      "출력\n",
      "출력\n",
      "출력\n",
      "출력\n",
      "출력\n",
      "출력\n"
     ]
    }
   ],
   "source": [
    "for i in range(100):\n",
    "    print(\"출력\")"
   ]
  },
  {
   "attachments": {},
   "cell_type": "markdown",
   "metadata": {},
   "source": [
    "### for 반복문 : 리스트와 함께 사용하기"
   ]
  },
  {
   "cell_type": "code",
   "execution_count": 18,
   "metadata": {},
   "outputs": [
    {
     "name": "stdout",
     "output_type": "stream",
     "text": [
      "273\n",
      "32\n",
      "103\n",
      "57\n",
      "52\n"
     ]
    }
   ],
   "source": [
    "# 리스트를 선언합니다.\n",
    "array = [273, 32, 103, 57, 52]\n",
    "\n",
    "# 리스트에 반복문을 적용합니다.\n",
    "for element in array:\n",
    "    # 출력합니다.\n",
    "    print(element)"
   ]
  },
  {
   "attachments": {},
   "cell_type": "markdown",
   "metadata": {},
   "source": [
    "## 4.2 딕셔너리와 반복문\n",
    "리스트가 '인덱스를 기반으로 값을 저장하는 것'이라면 딕셔너리는 '키를 기반으로 값을 저장하는 것'\n",
    "### 딕셔너리 선언하기\n",
    "딕셔너리는 중괄호{}로 선언. '키: 값' 형태를 쉼표(,)로 연결해서 만듬. 일반적으로 문자열로 사용하는 경우가 많음."
   ]
  },
  {
   "cell_type": "code",
   "execution_count": 19,
   "metadata": {},
   "outputs": [],
   "source": [
    "dict_a = {\n",
    "    \"name\": \"어벤져스 엔드게임\",\n",
    "    \"type\": \"히어로 무비\"\n",
    "}"
   ]
  },
  {
   "attachments": {},
   "cell_type": "markdown",
   "metadata": {},
   "source": [
    "### 딕셔너리의 요소에 접근하기"
   ]
  },
  {
   "cell_type": "code",
   "execution_count": 20,
   "metadata": {},
   "outputs": [
    {
     "data": {
      "text/plain": [
       "{'name': '어벤져스 엔드게임', 'type': '히어로 무비'}"
      ]
     },
     "execution_count": 20,
     "metadata": {},
     "output_type": "execute_result"
    }
   ],
   "source": [
    "dict_a"
   ]
  },
  {
   "attachments": {},
   "cell_type": "markdown",
   "metadata": {},
   "source": [
    "딕셔너리의 요소에 접근할 때는 리스트처럼 딕셔너리 뒤에 대괄호[]를 입력하고 내부에 인덱스처럼 키를 입력. 대괄호[]를 입력하고 내부에 인덱스처럼 키를 입력한다는 것."
   ]
  },
  {
   "cell_type": "code",
   "execution_count": 21,
   "metadata": {},
   "outputs": [
    {
     "data": {
      "text/plain": [
       "'어벤져스 엔드게임'"
      ]
     },
     "execution_count": 21,
     "metadata": {},
     "output_type": "execute_result"
    }
   ],
   "source": [
    "dict_a[\"name\"]"
   ]
  },
  {
   "cell_type": "code",
   "execution_count": 22,
   "metadata": {},
   "outputs": [
    {
     "data": {
      "text/plain": [
       "'히어로 무비'"
      ]
     },
     "execution_count": 22,
     "metadata": {},
     "output_type": "execute_result"
    }
   ],
   "source": [
    "dict_a[\"type\"]"
   ]
  },
  {
   "cell_type": "code",
   "execution_count": 24,
   "metadata": {},
   "outputs": [],
   "source": [
    "dict_b = {\n",
    "    \"director\": [\"안소니 루소\", \"조 루소\"],\n",
    "    \"cast\": [\"아이언맨\", \"타노스\", \"토르\", \"닥터스트레인지\", \"헐크\"]\n",
    "    }"
   ]
  },
  {
   "cell_type": "code",
   "execution_count": 25,
   "metadata": {},
   "outputs": [
    {
     "data": {
      "text/plain": [
       "{'director': ['안소니 루소', '조 루소'],\n",
       " 'cast': ['아이언맨', '타노스', '토르', '닥터스트레인지', '헐크']}"
      ]
     },
     "execution_count": 25,
     "metadata": {},
     "output_type": "execute_result"
    }
   ],
   "source": [
    "dict_b"
   ]
  },
  {
   "cell_type": "code",
   "execution_count": 26,
   "metadata": {},
   "outputs": [
    {
     "data": {
      "text/plain": [
       "['안소니 루소', '조 루소']"
      ]
     },
     "execution_count": 26,
     "metadata": {},
     "output_type": "execute_result"
    }
   ],
   "source": [
    "dict_b[\"director\"]"
   ]
  },
  {
   "attachments": {},
   "cell_type": "markdown",
   "metadata": {},
   "source": [
    "##### 직접 해보는 손코딩 (딕셔너리의 요소에 접근하기)"
   ]
  },
  {
   "cell_type": "code",
   "execution_count": 27,
   "metadata": {},
   "outputs": [
    {
     "name": "stdout",
     "output_type": "stream",
     "text": [
      "name: 7D 건조 망고\n",
      "type: 당절임\n",
      "ingredient: ['망고', '설탕', '메타중아황산나트륨', '치자황색소']\n",
      "origin: 필리핀\n",
      "\n",
      "name: 8D 건조 망고\n"
     ]
    }
   ],
   "source": [
    "# 딕셔너리를 선언합니다.\n",
    "dictionary = {\n",
    "    \"name\": \"7D 건조 망고\",\n",
    "    \"type\": \"당절임\",\n",
    "    \"ingredient\": [\"망고\", \"설탕\", \"메타중아황산나트륨\", \"치자황색소\"],\n",
    "    \"origin\": \"필리핀\"\n",
    "}\n",
    "\n",
    "# 출력합니다.\n",
    "print(\"name:\", dictionary[\"name\"])\n",
    "print(\"type:\", dictionary[\"type\"])\n",
    "print(\"ingredient:\", dictionary[\"ingredient\"])\n",
    "print(\"origin:\", dictionary[\"origin\"])\n",
    "print()\n",
    "\n",
    "# 값을 변경합니다.\n",
    "dictionary[\"name\"] = \"8D 건조 망고\"\n",
    "print(\"name:\", dictionary[\"name\"])\n"
   ]
  },
  {
   "attachments": {},
   "cell_type": "markdown",
   "metadata": {},
   "source": [
    "인덱스를 지정하여 리스트 안의 특정 값을 출력할 수 있음.  \n",
    "#### 딕셔너리의 문장려 키와 관련된 실수 (NameError)"
   ]
  },
  {
   "cell_type": "code",
   "execution_count": 28,
   "metadata": {},
   "outputs": [
    {
     "ename": "NameError",
     "evalue": "name 'name' is not defined",
     "output_type": "error",
     "traceback": [
      "\u001b[0;31m---------------------------------------------------------------------------\u001b[0m",
      "\u001b[0;31mNameError\u001b[0m                                 Traceback (most recent call last)",
      "Cell \u001b[0;32mIn[28], line 2\u001b[0m\n\u001b[1;32m      1\u001b[0m dict_key \u001b[39m=\u001b[39m {\n\u001b[0;32m----> 2\u001b[0m     name: \u001b[39m\"\u001b[39m\u001b[39m7D 건조 망고\u001b[39m\u001b[39m\"\u001b[39m,\n\u001b[1;32m      3\u001b[0m     \u001b[39mtype\u001b[39m: \u001b[39m\"\u001b[39m\u001b[39m당절임\u001b[39m\u001b[39m\"\u001b[39m\n\u001b[1;32m      4\u001b[0m }\n",
      "\u001b[0;31mNameError\u001b[0m: name 'name' is not defined"
     ]
    }
   ],
   "source": [
    "dict_key = {\n",
    "    name: \"7D 건조 망고\",\n",
    "    type: \"당절임\"\n",
    "}"
   ]
  },
  {
   "attachments": {},
   "cell_type": "markdown",
   "metadata": {},
   "source": [
    "키를 문장려로 사용할 때는 반드시 따옴표를 붙여주세요.  \n",
    "### 딕셔너리에 값 추가하기/제거하기제거하기"
   ]
  },
  {
   "cell_type": "code",
   "execution_count": 30,
   "metadata": {},
   "outputs": [
    {
     "data": {
      "text/plain": [
       "{'name': '8D 건조 망고',\n",
       " 'type': '당절임',\n",
       " 'ingredient': ['망고', '설탕', '메타중아황산나트륨', '치자황색소'],\n",
       " 'origin': '필리핀',\n",
       " 'price': 5000}"
      ]
     },
     "execution_count": 30,
     "metadata": {},
     "output_type": "execute_result"
    }
   ],
   "source": [
    "dictionary[\"price\"] = 5000\n",
    "dictionary"
   ]
  },
  {
   "cell_type": "code",
   "execution_count": 31,
   "metadata": {},
   "outputs": [
    {
     "data": {
      "text/plain": [
       "{'name': '8D 건조 망고',\n",
       " 'type': '당절임',\n",
       " 'ingredient': ['망고', '설탕', '메타중아황산나트륨', '치자황색소'],\n",
       " 'origin': '필리핀',\n",
       " 'price': 5000}"
      ]
     },
     "execution_count": 31,
     "metadata": {},
     "output_type": "execute_result"
    }
   ],
   "source": [
    "dictionary[\"name\"] = \"8D 건조 망고\"\n",
    "dictionary"
   ]
  },
  {
   "cell_type": "code",
   "execution_count": 32,
   "metadata": {},
   "outputs": [
    {
     "data": {
      "text/plain": [
       "{'name': '8D 건조 망고', 'type': '당절임', 'origin': '필리핀', 'price': 5000}"
      ]
     },
     "execution_count": 32,
     "metadata": {},
     "output_type": "execute_result"
    }
   ],
   "source": [
    "del dictionary[\"ingredient\"]\n",
    "dictionary"
   ]
  },
  {
   "attachments": {},
   "cell_type": "markdown",
   "metadata": {},
   "source": [
    "##### 직접 해보는 손코딩 (딕셔너리에 요소 추가하기)"
   ]
  },
  {
   "cell_type": "code",
   "execution_count": 33,
   "metadata": {},
   "outputs": [
    {
     "name": "stdout",
     "output_type": "stream",
     "text": [
      "요소 추가 이전: {}\n",
      "요소 추가 이후: {'name': '새로운 이름', 'head': '새로운 정신', 'body': '새로운 몸'}\n"
     ]
    }
   ],
   "source": [
    "# 딕셔너리를 선언합니다\n",
    "dictionary = {}\n",
    "\n",
    "# 요소 추가 전에 내용을 출력해 봅니다.\n",
    "print(\"요소 추가 이전:\", dictionary)\n",
    "\n",
    "# 딕셔너리에 요소를 추가합니다.\n",
    "dictionary[\"name\"] = \"새로운 이름\"\n",
    "dictionary[\"head\"] = \"새로운 정신\"\n",
    "dictionary[\"body\"] = \"새로운 몸\"\n",
    "\n",
    "# 출력합니다.\n",
    "print(\"요소 추가 이후:\", dictionary)"
   ]
  },
  {
   "attachments": {},
   "cell_type": "markdown",
   "metadata": {},
   "source": [
    "##### 직접 해보는 손코딩 (딕셔너리에 요소 제거하기)"
   ]
  },
  {
   "cell_type": "code",
   "execution_count": 34,
   "metadata": {},
   "outputs": [
    {
     "name": "stdout",
     "output_type": "stream",
     "text": [
      "요소 추가 이전: {'name': '7D 건조 망고', 'type': '당절임'}\n",
      "요소 추가 이후: {}\n"
     ]
    }
   ],
   "source": [
    "# 딕셔너리를 선언합니다.\n",
    "dictionary = {\n",
    "    \"name\": \"7D 건조 망고\",\n",
    "    \"type\": \"당절임\"\n",
    "}\n",
    "\n",
    "# 요소 제거 전에 내용을 출력해 봅니다.\n",
    "print(\"요소 추가 이전:\", dictionary)\n",
    "\n",
    "# 딕셔너리의 요소를 제거합니다.\n",
    "del dictionary[\"name\"]\n",
    "del dictionary[\"type\"]\n",
    "\n",
    "# 요소 제거 후에 내용을 출력해 봅니다.\n",
    "print(\"요소 추가 이후:\", dictionary)"
   ]
  },
  {
   "attachments": {},
   "cell_type": "markdown",
   "metadata": {},
   "source": [
    "#### KeyError 예외\n",
    "리스트이 길이를 넘는 인덱스에 접근하면 indexError가 발생. 딕셔너리도 존재하지 않는 키에 접근하면 마찬가지로 KeyError가 발생."
   ]
  },
  {
   "attachments": {},
   "cell_type": "markdown",
   "metadata": {},
   "source": [
    "### 딕셔너리 내부에 키가 있는지 확인하기\n",
    "\n",
    "#### in 키워드\n",
    "딕셔너리 내부에 키가 있는지 없는지 확인할 때도 in키워드를 사용.\n",
    "##### 직접 해보는 손코딩 (키가 존재하는지 확인하고 값에 접근하기)"
   ]
  },
  {
   "cell_type": "code",
   "execution_count": 37,
   "metadata": {},
   "outputs": [
    {
     "name": "stdout",
     "output_type": "stream",
     "text": [
      "존재하지 않는 키에 접근하고 있습니다.\n"
     ]
    }
   ],
   "source": [
    "# 딕셔너리를 선언합니다.\n",
    "dictionary = {\n",
    "    \"name\": \"7D 건조 망고\",\n",
    "    \"type\": \"당절임\",\n",
    "    \"ingredient\": [\"망고\", \"설탕\", \"메타중아황산나트륨\", \"치자황색소\"],\n",
    "    \"origin\": \"필리핀\"\n",
    "}\n",
    "\n",
    "# 사용자로부터 입력을 받습니다.\n",
    "key = input(\"> 접근하고자 하는 키: \")\n",
    "\n",
    "# 출력합니다.\n",
    "if key in dictionary:\n",
    "    print(dictionary[key])\n",
    "else:\n",
    "    print(\"존재하지 않는 키에 접근하고 있습니다.\")"
   ]
  },
  {
   "attachments": {},
   "cell_type": "markdown",
   "metadata": {},
   "source": [
    "#### get() 함수\n",
    "get() 함수는 딕셔너리의 키로 값을 추출하는 기능으로 딕셔너리[키]를 입력할 때와 같은 기능을 수행하지만, 존재하지 않는 키에 접근할 경우 KeyError를 발생시키지 않고 None을 출력.\n",
    "##### 직접 해보는 손코딩 (키가 존재하지 않을 때 None을 출력하는지 확인하기)"
   ]
  },
  {
   "cell_type": "code",
   "execution_count": 38,
   "metadata": {},
   "outputs": [
    {
     "name": "stdout",
     "output_type": "stream",
     "text": [
      "값: None\n",
      "존재하지 않는 키에 접근하고 있습니다.\n"
     ]
    }
   ],
   "source": [
    "# 딕셔너리를 선언합니다.\n",
    "dictionary = {\n",
    "    \"name\": \"7D 건조 망고\",\n",
    "    \"type\": \"당절임\",\n",
    "    \"ingredient\": [\"망고\", \"설탕\", \"메타중아황산나트륨\", \"치자황색소\"],\n",
    "    \"origin\": \"필리핀\"\n",
    "}\n",
    "\n",
    "# 존재하지 않는 키에 접근해 봅니다.\n",
    "value = dictionary.get(\"존재하지 않는 키\")\n",
    "print(\"값:\", value)\n",
    "\n",
    "# None 확인 방법\n",
    "if value == None:\n",
    "    print(\"존재하지 않는 키에 접근하고 있습니다.\")"
   ]
  },
  {
   "attachments": {},
   "cell_type": "markdown",
   "metadata": {},
   "source": [
    "### for 반복문: 딕셔너리와 함께 사용하기"
   ]
  },
  {
   "cell_type": "code",
   "execution_count": 39,
   "metadata": {},
   "outputs": [
    {
     "name": "stdout",
     "output_type": "stream",
     "text": [
      "name : 7D 건조 망고\n",
      "type : 당절임\n",
      "ingredient : ['망고', '설탕', '메타중아황산나트륨', '치자황색소']\n",
      "origin : 필리핀\n"
     ]
    }
   ],
   "source": [
    "# 딕셔너리를 선언합니다.\n",
    "dictionary = {\n",
    "    \"name\": \"7D 건조 망고\",\n",
    "    \"type\": \"당절임\",\n",
    "    \"ingredient\": [\"망고\", \"설탕\", \"메타중아황산나트륨\", \"치자황색소\"],\n",
    "    \"origin\": \"필리핀\"\n",
    "}\n",
    "\n",
    "# for 반복문을 사용합니다.\n",
    "for key in dictionary:\n",
    "    # 출력합니다.\n",
    "    print(key, \":\", dictionary[key])"
   ]
  },
  {
   "attachments": {},
   "cell_type": "markdown",
   "metadata": {},
   "source": [
    "## 4.3 반복문과 while 반복문\n",
    "### 범위\n",
    "1. 매개변수에 숫자를 한 개 넣는 방법\n",
    "> range(A)\n",
    "2. 매개변수에 숫자를 두 개 넣는 방법\n",
    "> range(A, B)\n",
    "3. 매개변수에 숫자를 세 개 넣는 방법\n",
    "> range(A, B, C)  \n",
    "\n",
    "\n",
    "list() 함수를 이용해 범위를 리스트로 변경하면 범위 내부에 어떤 값이 들어 있는지 확인."
   ]
  },
  {
   "cell_type": "code",
   "execution_count": 40,
   "metadata": {},
   "outputs": [
    {
     "data": {
      "text/plain": [
       "[0, 1, 2, 3, 4, 5, 6, 7, 8, 9]"
      ]
     },
     "execution_count": 40,
     "metadata": {},
     "output_type": "execute_result"
    }
   ],
   "source": [
    "list(range(10))"
   ]
  },
  {
   "attachments": {},
   "cell_type": "markdown",
   "metadata": {},
   "source": [
    "range() 함수의 매개변수로는 반드시 정수를 입력해야 함. -> int() 함수 등으로 실수를 정수로 바꾸는 방법도 있지만, 정수 나누기 연산자를 많이 사용."
   ]
  },
  {
   "attachments": {},
   "cell_type": "markdown",
   "metadata": {},
   "source": [
    "### for 반복문 : 범위와 함께 사용하기\n",
    "##### 직접 해보는 손코딩 (for 반복문과 범위)"
   ]
  },
  {
   "cell_type": "code",
   "execution_count": 41,
   "metadata": {},
   "outputs": [
    {
     "name": "stdout",
     "output_type": "stream",
     "text": [
      "0=반복 변수\n",
      "1=반복 변수\n",
      "2=반복 변수\n",
      "3=반복 변수\n",
      "4=반복 변수\n",
      "\n",
      "5=반복 변수\n",
      "6=반복 변수\n",
      "7=반복 변수\n",
      "8=반복 변수\n",
      "9=반복 변수\n",
      "\n",
      "0=반복 변수\n",
      "3=반복 변수\n",
      "6=반복 변수\n",
      "9=반복 변수\n",
      "\n"
     ]
    }
   ],
   "source": [
    "# for 반복문과 범위를 함께 조합해서 사용합니다.\n",
    "for i in range(5):\n",
    "    print(str(i) + \"=반복 변수\")\n",
    "print()\n",
    "\n",
    "for i in range(5, 10):\n",
    "    print(str(i) + \"=반복 변수\")\n",
    "print()\n",
    "\n",
    "for i in range(0, 10, 3):\n",
    "    print(str(i) + \"=반복 변수\")\n",
    "print()"
   ]
  },
  {
   "attachments": {},
   "cell_type": "markdown",
   "metadata": {},
   "source": [
    "### for 반복문 : 리스트와 범위 조합하기\n",
    "##### 직접 해보는 손코딩 (리스트와 범위를 조합해서 사용하기)"
   ]
  },
  {
   "cell_type": "code",
   "execution_count": 42,
   "metadata": {},
   "outputs": [
    {
     "name": "stdout",
     "output_type": "stream",
     "text": [
      "0번째 반복: 273\n",
      "1번째 반복: 32\n",
      "2번째 반복: 103\n",
      "3번째 반복: 57\n",
      "4번째 반복: 52\n"
     ]
    }
   ],
   "source": [
    "# 리스트를 선언합니다.\n",
    "array = [273, 32, 103, 57, 52]\n",
    "\n",
    "# 리스트에 반복문을 적용합니다.\n",
    "for i in range(len(array)):\n",
    "    # 출력합니다.\n",
    "    print(\"{}번째 반복: {}\".format(i, array[i]))"
   ]
  },
  {
   "attachments": {},
   "cell_type": "markdown",
   "metadata": {},
   "source": [
    "### for 반복문 : 반대로 반복하기\n",
    "큰 숫자에서 작은 숫자로 반복문을 적용해야 하는 경우가 있음 -> 역반복문이라고 함.\n",
    "##### 직접 해보는 손코딩 (반대로 반복하기(1))"
   ]
  },
  {
   "cell_type": "code",
   "execution_count": 44,
   "metadata": {},
   "outputs": [
    {
     "name": "stdout",
     "output_type": "stream",
     "text": [
      "현재 반복 변수: 4\n",
      "현재 반복 변수: 3\n",
      "현재 반복 변수: 2\n",
      "현재 반복 변수: 1\n",
      "현재 반복 변수: 0\n"
     ]
    }
   ],
   "source": [
    "# 역반복문\n",
    "for i in range(4, 0 - 1, -1):\n",
    "    # 출력합니다.\n",
    "    print(\"현재 반복 변수: {}\". format(i))"
   ]
  },
  {
   "attachments": {},
   "cell_type": "markdown",
   "metadata": {},
   "source": [
    "##### 직접 해보는 손코딩 (반대로 반복하기(2))"
   ]
  },
  {
   "cell_type": "code",
   "execution_count": 45,
   "metadata": {},
   "outputs": [
    {
     "name": "stdout",
     "output_type": "stream",
     "text": [
      "현재 반복 변수: 4\n",
      "현재 반복 변수: 3\n",
      "현재 반복 변수: 2\n",
      "현재 반복 변수: 1\n",
      "현재 반복 변수: 0\n"
     ]
    }
   ],
   "source": [
    "# 역반복문\n",
    "for i in reversed(range(5)):\n",
    "    # 출력합니다.\n",
    "    print(\"현재 반복 변수: {}\". format(i))"
   ]
  },
  {
   "attachments": {},
   "cell_type": "markdown",
   "metadata": {},
   "source": [
    "### while 반복문\n",
    "특정 횟수만큼 반복하는 경우에는 for 반복문을 사용합니다. 파이썬에는 for 반복문 이외에도 범용적으로 사용할 수 있는 while 반복문이 있음.\n",
    "\n",
    "##### 직접 해보는 손코딩 (무한 반복)"
   ]
  },
  {
   "cell_type": "code",
   "execution_count": null,
   "metadata": {},
   "outputs": [],
   "source": [
    "# while 반복문을 사용합니다.\n",
    "while True:\n",
    "    # \".\"을 출력합니다.\n",
    "    # 기본적으로 end가 \"\\n\"이라 줄바꿈이 일어나는데\n",
    "    # 빈 문자열 \"\"로 바꿔서 줄바꿈이 일어나지 않게 합니다.\n",
    "    print(\".\", end=\"\")"
   ]
  },
  {
   "attachments": {},
   "cell_type": "markdown",
   "metadata": {},
   "source": [
    "### while 반복문 : for 반복문처럼 사용하기\n",
    "##### 직접 해보는 손코딩 (while 반복문을 for 반복문처럼 사용하기)"
   ]
  },
  {
   "cell_type": "code",
   "execution_count": 1,
   "metadata": {},
   "outputs": [
    {
     "name": "stdout",
     "output_type": "stream",
     "text": [
      "0번째 반복입니다.\n",
      "1번째 반복입니다.\n",
      "2번째 반복입니다.\n",
      "3번째 반복입니다.\n",
      "4번째 반복입니다.\n",
      "5번째 반복입니다.\n",
      "6번째 반복입니다.\n",
      "7번째 반복입니다.\n",
      "8번째 반복입니다.\n",
      "9번째 반복입니다.\n"
     ]
    }
   ],
   "source": [
    "# 반복 변수를 기바능로 반복하기\n",
    "i = 0\n",
    "while i < 10:\n",
    "    print(\"{}번째 반복입니다.\".format(i))\n",
    "    i += 1"
   ]
  },
  {
   "attachments": {},
   "cell_type": "markdown",
   "metadata": {},
   "source": [
    "### while 반복문: 상태를 기반으로 반복하기\n",
    "리스트의 remove() 함수는 리스트 내부에서 해당하는 값을 하나만 제거할 수 있었습니다.\n",
    "##### 직접 해보는 손코딩 (해당하는 값 모두 제거하기)"
   ]
  },
  {
   "cell_type": "code",
   "execution_count": 2,
   "metadata": {},
   "outputs": [
    {
     "name": "stdout",
     "output_type": "stream",
     "text": [
      "[1, 1]\n"
     ]
    }
   ],
   "source": [
    "# 변수를 선언합니다.\n",
    "list_test = [1, 2, 1, 2]\n",
    "value = 2\n",
    "\n",
    "# list_test 내부에 value가 있다면 반복\n",
    "while value in list_test:\n",
    "    list_test.remove(value)\n",
    "    \n",
    "# 출력합니다.\n",
    "print(list_test)"
   ]
  },
  {
   "attachments": {},
   "cell_type": "markdown",
   "metadata": {},
   "source": [
    "### while 반복문 : 시간을 기반으로 반복하기\n",
    "유닉스 타임이란 세계 표준시로 1970년 1우러 1일 0시 0분 0초를 기준으로 몇 초가 지낫는지를 정수로 나타낸 것을 말함."
   ]
  },
  {
   "cell_type": "code",
   "execution_count": 3,
   "metadata": {},
   "outputs": [
    {
     "data": {
      "text/plain": [
       "1688111558.6158998"
      ]
     },
     "execution_count": 3,
     "metadata": {},
     "output_type": "execute_result"
    }
   ],
   "source": [
    "import time\n",
    "time.time()"
   ]
  },
  {
   "attachments": {},
   "cell_type": "markdown",
   "metadata": {},
   "source": [
    "##### 직접 해보는 손코딩 (5초 동안 반복하기)"
   ]
  },
  {
   "cell_type": "code",
   "execution_count": 4,
   "metadata": {},
   "outputs": [
    {
     "name": "stdout",
     "output_type": "stream",
     "text": [
      "5초 동안 35669913번 반복했습니다.\n"
     ]
    }
   ],
   "source": [
    "# 시간과 관련된 기능을 가져옵니다.\n",
    "import time\n",
    "\n",
    "# 변수를 선언합니다.\n",
    "number = 0\n",
    "\n",
    "# 5초 동안 반복합니다.\n",
    "target_tick = time.time() + 5\n",
    "while time.time() < target_tick:\n",
    "    number += 1\n",
    "    \n",
    "# 출력합니다.\n",
    "print(\"5초 동안 {}번 반복했습니다.\".format(number))"
   ]
  },
  {
   "attachments": {},
   "cell_type": "markdown",
   "metadata": {},
   "source": [
    "시간을 기반으로 조건을 걸 때는 while 반복문을 활용한다고 기억해주세요."
   ]
  },
  {
   "attachments": {},
   "cell_type": "markdown",
   "metadata": {},
   "source": [
    "### while 반복문 : break 키워드 / continue 키워드\n",
    "break 키워드는 반복문을 벗어날 때 사용하는 키워드.\n",
    "\n",
    "##### 직접 해보는 손코딩 (break 키워드)"
   ]
  },
  {
   "cell_type": "code",
   "execution_count": 5,
   "metadata": {},
   "outputs": [
    {
     "name": "stdout",
     "output_type": "stream",
     "text": [
      "0번째 반복문입니다.\n",
      "1번째 반복문입니다.\n",
      "2번째 반복문입니다.\n",
      "3번째 반복문입니다.\n",
      "4번째 반복문입니다.\n",
      "반복을 종료합니다.\n"
     ]
    }
   ],
   "source": [
    "# 변수를 선언합니다.\n",
    "i = 0\n",
    "\n",
    "# 무한 반복합니다.\n",
    "while True:\n",
    "    # 몇 번째 반복인지 출력합니다.\n",
    "    print(\"{}번째 반복문입니다.\".format(i))\n",
    "    i = i + 1\n",
    "    # 반복을 종료합니다.\n",
    "    input_text = input(\"> 종료하시겠습니까?(y): \")\n",
    "    if input_text in [\"y\", \"Y\"]:\n",
    "        print(\"반복을 종료합니다.\")\n",
    "        break"
   ]
  },
  {
   "attachments": {},
   "cell_type": "markdown",
   "metadata": {},
   "source": [
    "continue 키워드는 현재 반복을 생략하고, 다음 반복으로 넘어갈때 사용하는 키워드입니다.\n",
    "##### 직접 해보는 손코딩 (continue 키워드)"
   ]
  },
  {
   "cell_type": "code",
   "execution_count": 6,
   "metadata": {},
   "outputs": [
    {
     "name": "stdout",
     "output_type": "stream",
     "text": [
      "15\n",
      "20\n",
      "25\n"
     ]
    }
   ],
   "source": [
    "# 변수를 선언합니다.\n",
    "numbers = [5, 15, 6, 20, 7, 25]\n",
    "\n",
    "# 반복을 돌립니다.\n",
    "for number in numbers:\n",
    "    # number가 10보다 작으면 다음 반복으로 넘어갑니다.\n",
    "    if number < 10:\n",
    "        continue\n",
    "    # 출력합니다.\n",
    "    print(number)"
   ]
  },
  {
   "attachments": {},
   "cell_type": "markdown",
   "metadata": {},
   "source": [
    "## 4.4 문자열, 리스트, 딕셔너리와 관련된 기본 함수\n",
    "- 리스트에 적용할 수 있는 기본 함수 : min(), max(), sum()\n",
    "- 리스트 뒤집기 : reversed()\n",
    "- 현재 인덱스가 몇 번째 인지 확인하기 : enumberate()\n",
    "- 딕셔너리로 쉽게 반복문 작성하기 : items()\n",
    "- 리스트 안에 for문 사용하기 : 리스트 내포"
   ]
  },
  {
   "attachments": {},
   "cell_type": "markdown",
   "metadata": {},
   "source": [
    "### 리스트에 적용할 수 있는 기본 함수 : min(), max(), sum()"
   ]
  },
  {
   "cell_type": "code",
   "execution_count": 7,
   "metadata": {},
   "outputs": [
    {
     "data": {
      "text/plain": [
       "32"
      ]
     },
     "execution_count": 7,
     "metadata": {},
     "output_type": "execute_result"
    }
   ],
   "source": [
    "numbers = [103, 52, 273, 32, 77]\n",
    "min(numbers)"
   ]
  },
  {
   "cell_type": "code",
   "execution_count": 8,
   "metadata": {},
   "outputs": [
    {
     "data": {
      "text/plain": [
       "273"
      ]
     },
     "execution_count": 8,
     "metadata": {},
     "output_type": "execute_result"
    }
   ],
   "source": [
    "max(numbers)"
   ]
  },
  {
   "cell_type": "code",
   "execution_count": 9,
   "metadata": {},
   "outputs": [
    {
     "data": {
      "text/plain": [
       "537"
      ]
     },
     "execution_count": 9,
     "metadata": {},
     "output_type": "execute_result"
    }
   ],
   "source": [
    "sum(numbers)"
   ]
  },
  {
   "attachments": {},
   "cell_type": "markdown",
   "metadata": {},
   "source": [
    "### revesed() 함수로 리스트 뒤집기\n",
    "리스트에서 요소의 순서를 뒤집고 싶을 때는 revered() 함수를 사용.\n",
    "##### 직접 해보는 손코딩 (reversed()함수)"
   ]
  },
  {
   "cell_type": "code",
   "execution_count": 12,
   "metadata": {},
   "outputs": [
    {
     "name": "stdout",
     "output_type": "stream",
     "text": [
      "# reversed() 함수\n",
      "reversed([1, 2, 3, 4, 5]): <list_reverseiterator object at 0x10344c760>\n",
      "list(reversed([1, 2, 3, 4, 5])): [5, 4, 3, 2, 1]\n",
      "\n",
      "# reversed() 함수와 반복문\n",
      "for i in reversed([1, 2, 3, 4, 5]):\n",
      "- 5\n",
      "- 4\n",
      "- 3\n",
      "- 2\n",
      "- 1\n"
     ]
    }
   ],
   "source": [
    "# 리스트를 선언하고 뒤집습니다.\n",
    "list_a = [1, 2, 3, 4, 5]\n",
    "list_reversd = reversed(list_a)\n",
    "\n",
    "# 출력합니다.\n",
    "print(\"# reversed() 함수\")\n",
    "print(\"reversed([1, 2, 3, 4, 5]):\", list_reversd)\n",
    "print(\"list(reversed([1, 2, 3, 4, 5])):\", list(list_reversd))\n",
    "print()\n",
    "\n",
    "# 반복문을 적용해 봅시다.\n",
    "print(\"# reversed() 함수와 반복문\")\n",
    "print(\"for i in reversed([1, 2, 3, 4, 5]):\")\n",
    "for i in reversed(list_a):\n",
    "    print(\"-\", i)"
   ]
  },
  {
   "attachments": {},
   "cell_type": "markdown",
   "metadata": {},
   "source": [
    "reversed() 함수의 결과가 제너레이터이기 때문. 제너레이터는 파이썬의 특별한 기능. reversed() 함수와 반복문을 조합할 때는 함수의 결과를 여러 번 활용하지 않고 다음과 같이 for 구문 내부에 reversed() 함수를 곧바로 넣어서 사용."
   ]
  },
  {
   "attachments": {},
   "cell_type": "markdown",
   "metadata": {},
   "source": [
    "#### 확장 슬라이싱\n",
    "리스트에[::-1]을 붙이면 리스트의 내용이 뒤집힘."
   ]
  },
  {
   "cell_type": "code",
   "execution_count": 13,
   "metadata": {},
   "outputs": [
    {
     "data": {
      "text/plain": [
       "[1, 2, 3, 4, 5]"
      ]
     },
     "execution_count": 13,
     "metadata": {},
     "output_type": "execute_result"
    }
   ],
   "source": [
    "numbers = [1, 2, 3, 4, 5]\n",
    "numbers"
   ]
  },
  {
   "cell_type": "code",
   "execution_count": 14,
   "metadata": {},
   "outputs": [
    {
     "data": {
      "text/plain": [
       "[5, 4, 3, 2, 1]"
      ]
     },
     "execution_count": 14,
     "metadata": {},
     "output_type": "execute_result"
    }
   ],
   "source": [
    "numbers[::-1]"
   ]
  },
  {
   "attachments": {},
   "cell_type": "markdown",
   "metadata": {},
   "source": [
    "### enumerate() 함수와 반복문 조합하기\n",
    "##### 직접 해보는 손코딩 (enumerate()함수와 리스트)"
   ]
  },
  {
   "cell_type": "code",
   "execution_count": 15,
   "metadata": {},
   "outputs": [
    {
     "name": "stdout",
     "output_type": "stream",
     "text": [
      "# 단순 출력\n",
      "['요소A', '요소B', '요소C']\n",
      "\n",
      "# enumerate() 함수 적용 출력\n",
      "<enumerate object at 0x10346af40>\n",
      "\n",
      "# list() 함수로 강제 변환 출력\n",
      "[(0, '요소A'), (1, '요소B'), (2, '요소C')]\n",
      "\n",
      "# 반복문과 조합하기\n",
      "0번째 요소는 요소A입니다.\n",
      "1번째 요소는 요소B입니다.\n",
      "2번째 요소는 요소C입니다.\n"
     ]
    }
   ],
   "source": [
    "# 변수를 선언합니다.\n",
    "example_list = [\"요소A\", \"요소B\", \"요소C\"]\n",
    "\n",
    "# 그냥 출력합니다.\n",
    "print(\"# 단순 출력\")\n",
    "print(example_list)\n",
    "print()\n",
    "\n",
    "# enumerate() 함수를 적용해 출력합니다.\n",
    "print(\"# enumerate() 함수 적용 출력\")\n",
    "print(enumerate(example_list))\n",
    "print()\n",
    "\n",
    "# list() 함수로 강제 변환해 출력합니다.\n",
    "print(\"# list() 함수로 강제 변환 출력\")\n",
    "print(list(enumerate(example_list)))\n",
    "print()\n",
    "\n",
    "# for 반복문과 enumerate() 함수 조합해서 사용하기\n",
    "print(\"# 반복문과 조합하기\")\n",
    "for i, value in enumerate(example_list):\n",
    "    print(\"{}번째 요소는 {}입니다.\".format(i, value))"
   ]
  },
  {
   "attachments": {},
   "cell_type": "markdown",
   "metadata": {},
   "source": [
    "### 딕셔너리의 items() 함수와 반복문 조합하기\n",
    "딕셔너리는 items() 함수와 함께 사용하면 키와 값을 조합해서 쉽게 반복문을 작성할 수 있음.\n",
    "##### 직접 해보는 손코딩 (딕셔너리의 items() 함수와 반복문)"
   ]
  },
  {
   "cell_type": "code",
   "execution_count": 16,
   "metadata": {},
   "outputs": [
    {
     "name": "stdout",
     "output_type": "stream",
     "text": [
      "# 딕셔너리의 items() 함수\n",
      "items(): dict_items([('키A', '값A'), ('키B', '값B'), ('키C', '값C')])\n",
      "\n",
      "# 딕셔너리의 items() 함수와 반복문 조합하기\n",
      "dictionary[키A] = 값A\n",
      "dictionary[키B] = 값B\n",
      "dictionary[키C] = 값C\n"
     ]
    }
   ],
   "source": [
    "# 변수를 선언합니다.\n",
    "example_dictionary = {\n",
    "    \"키A\": \"값A\",\n",
    "    \"키B\": \"값B\",\n",
    "    \"키C\": \"값C\"\n",
    "}\n",
    "\n",
    "# 딕셔너리의 items() 함수 결과 출력하기\n",
    "print(\"# 딕셔너리의 items() 함수\")\n",
    "print(\"items():\", example_dictionary.items())\n",
    "print()\n",
    "\n",
    "# for 반복문과 items() 함수 조합해서 사용하기\n",
    "print(\"# 딕셔너리의 items() 함수와 반복문 조합하기\")\n",
    "\n",
    "for key, element in example_dictionary.items():\n",
    "    print(\"dictionary[{}] = {}\".format(key, element))"
   ]
  },
  {
   "attachments": {},
   "cell_type": "markdown",
   "metadata": {},
   "source": [
    "### 리스트 내포\n",
    "##### 직접 해보는 손코딩 (반복문을 사용한 리스트 생성)"
   ]
  },
  {
   "cell_type": "code",
   "execution_count": 17,
   "metadata": {},
   "outputs": [
    {
     "name": "stdout",
     "output_type": "stream",
     "text": [
      "[0, 4, 16, 36, 64, 100, 144, 196, 256, 324]\n"
     ]
    }
   ],
   "source": [
    "# 변수를 선언합니다.\n",
    "array = []\n",
    "\n",
    "# 반복문을 적용합니다.\n",
    "for i in range(0, 20, 2):\n",
    "    array.append(i * i)\n",
    "    \n",
    "# 출력합니다.\n",
    "print(array)"
   ]
  },
  {
   "attachments": {},
   "cell_type": "markdown",
   "metadata": {},
   "source": [
    "##### 직접 해보는 손코딩 (리스트 안에 for문 사용하기)"
   ]
  },
  {
   "cell_type": "code",
   "execution_count": 18,
   "metadata": {},
   "outputs": [
    {
     "name": "stdout",
     "output_type": "stream",
     "text": [
      "[0, 4, 16, 36, 64, 100, 144, 196, 256, 324]\n"
     ]
    }
   ],
   "source": [
    "# 리스트를 선언합니다.\n",
    "array = [i * i for i in range(0, 20, 2)]\n",
    "\n",
    "# 출력합니다.\n",
    "print(array)"
   ]
  },
  {
   "attachments": {},
   "cell_type": "markdown",
   "metadata": {},
   "source": [
    "range(0, 20, 2)의 요소를 i라고 할 때, i * i로 리스트를 제조합해주세요 라는 코드. -> 리스트 내포라고 부름.\n",
    "##### 직접 해보는 손코딩 (조건을 활용한 리스트 내포)"
   ]
  },
  {
   "cell_type": "code",
   "execution_count": 19,
   "metadata": {},
   "outputs": [
    {
     "name": "stdout",
     "output_type": "stream",
     "text": [
      "['사과', '자두', '바나나', '체리']\n"
     ]
    }
   ],
   "source": [
    "# 리스트를 선언합니다.\n",
    "array = [\"사과\", \"자두\", \"초콜릿\", \"바나나\", \"체리\"]\n",
    "output = [fruit for fruit in array if fruit != \"초콜릿\"]\n",
    "\n",
    "# 출력합니다.\n",
    "print(output)"
   ]
  },
  {
   "attachments": {},
   "cell_type": "markdown",
   "metadata": {},
   "source": [
    "#### 좀더 알아보기 (1) 구문 내부에 여러 줄 문자열을 사용했을 때의 문제점.\n",
    "##### 직접 해보는 손코딩 (if 조건문과 여러 줄 문자열(1))"
   ]
  },
  {
   "cell_type": "code",
   "execution_count": 20,
   "metadata": {},
   "outputs": [
    {
     "name": "stdout",
     "output_type": "stream",
     "text": [
      "        입력한 문자열은 10입니다.\n",
      "        10는(은) 짝수입니다.\n"
     ]
    }
   ],
   "source": [
    "# 변수를 선언합니다.\n",
    "number = int(input(\"정수 입력> \"))\n",
    "\n",
    "# if 조건문으로 홀수 짝수를 구분합니다.\n",
    "if number % 2 == 0:\n",
    "    print(\"\"\"\\\n",
    "        입력한 문자열은 {}입니다.\n",
    "        {}는(은) 짝수입니다.\"\"\".format(number, number))\n",
    "else:\n",
    "    print(\"\"\"\\\n",
    "        입력한 문자열은 {}입니다.\n",
    "        {}는(은) 홀수입니다.\"\"\".format(number, number))"
   ]
  },
  {
   "attachments": {},
   "cell_type": "markdown",
   "metadata": {},
   "source": [
    "##### 직접 해보는 손코딩 (if 조건문과 여러 줄 문자열(2))"
   ]
  },
  {
   "cell_type": "code",
   "execution_count": 21,
   "metadata": {},
   "outputs": [
    {
     "name": "stdout",
     "output_type": "stream",
     "text": [
      "입력한 문자열은 10입니다.\n",
      "10는(은) 짝수입니다.\n"
     ]
    }
   ],
   "source": [
    "# 변수를 선언합니다.\n",
    "number = int(input(\"정수 입력> \"))\n",
    "\n",
    "# if 조건문으로 홀수 짝수를 구분합니다.\n",
    "if number % 2 == 0:\n",
    "    print(\"\"\"입력한 문자열은 {}입니다.\n",
    "{}는(은) 짝수입니다.\"\"\".format(number, number))\n",
    "else:\n",
    "    print(\"\"\"입력한 문자열은 {}입니다.\n",
    "{}는(은) 홀수입니다.\"\"\".format(number, number))"
   ]
  },
  {
   "attachments": {},
   "cell_type": "markdown",
   "metadata": {},
   "source": [
    "##### 직접 해보는 손코딩 (if 조건문과 긴 문자열)"
   ]
  },
  {
   "cell_type": "code",
   "execution_count": 27,
   "metadata": {},
   "outputs": [
    {
     "name": "stdout",
     "output_type": "stream",
     "text": [
      "입력한 문자열은 10입니다.\n",
      "10는(은) 짝수입니다.\n"
     ]
    }
   ],
   "source": [
    "# 변수를 선언합니다.\n",
    "number = int(input(\"정수 입력> \"))\n",
    "\n",
    "# if 조건문으로 홀수 짝수를 구분합니다.\n",
    "if number % 2 == 0:\n",
    "    print(\"입력한 문자열은 {}입니다.\\n{}는(은) 짝수입니다.\".format(number, number))\n",
    "else:\n",
    "    print(\"입력한 문자열은 {}입니다.\\n{}는(은) 홀수입니다.\".format(number, number))"
   ]
  },
  {
   "attachments": {},
   "cell_type": "markdown",
   "metadata": {},
   "source": [
    "#### 괄호로 문자열 연결하기\n",
    "괄호 내부에 문자열을 여러개 입력하면 모든 문자열을 합친 새로운 문자열이 만들어짐.\n",
    "##### 직접 해보는 손코딩 (괄호로 문자열 연결하기)"
   ]
  },
  {
   "cell_type": "code",
   "execution_count": 23,
   "metadata": {},
   "outputs": [
    {
     "name": "stdout",
     "output_type": "stream",
     "text": [
      "test: 이렇게 입력해도 하나의 문자열로 연결되어 생성됩니다.\n",
      "type(test): <class 'str'>\n"
     ]
    }
   ],
   "source": [
    "# 변수를 선언합니다.\n",
    "test = (\n",
    "    \"이렇게 입력해도 \"\n",
    "    \"하나의 문자열로 연결되어 \"\n",
    "    \"생성됩니다.\"\n",
    ")\n",
    "\n",
    "# 출력합니다.\n",
    "print(\"test:\", test)\n",
    "print(\"type(test):\", type(test))"
   ]
  },
  {
   "attachments": {},
   "cell_type": "markdown",
   "metadata": {},
   "source": [
    "쉼표로 연결하면 문자열이 아니라 튜플로 생성됨.\n",
    "##### 직접 해보는 손코딩 (여러 줄 문자열과 if 구문을 조합했을 때의 문제 해결(1))"
   ]
  },
  {
   "cell_type": "code",
   "execution_count": 26,
   "metadata": {},
   "outputs": [
    {
     "name": "stdout",
     "output_type": "stream",
     "text": [
      "입력한 문자열은 10입니다.\n",
      "10는(은) 짝수입니다.\n"
     ]
    }
   ],
   "source": [
    "# 변수를 선언합니다.\n",
    "number = int(input(\"정수 입력> \"))\n",
    "\n",
    "# if 조건문으로 홀수 짝수를 구분합니다.\n",
    "if number % 2 == 0:\n",
    "    print((\n",
    "        \"입력한 문자열은 {}입니다.\\n\"\n",
    "        \"{}는(은) 짝수입니다.\"\n",
    "    ).format(number, number))\n",
    "else:\n",
    "    print((\n",
    "        \"입력한 문자열은 {}입니다.\\n\"\n",
    "        \"{}는(은) 홀수입니다.\"\n",
    "    ).format(number, number))"
   ]
  },
  {
   "attachments": {},
   "cell_type": "markdown",
   "metadata": {},
   "source": [
    "#### 문자열의 join() 함수\n",
    "##### 직접 해보는 손코딩 (여러 줄 문자열과 if 구문을 조합했을 때의 문제 해결(2))"
   ]
  },
  {
   "cell_type": "code",
   "execution_count": 28,
   "metadata": {},
   "outputs": [
    {
     "name": "stdout",
     "output_type": "stream",
     "text": [
      "입력한 문자열은 10입니다.\n",
      "10는(은) 짝수입니다.\n"
     ]
    }
   ],
   "source": [
    "# 변수를 선언합니다.\n",
    "number = int(input(\"정수 입력> \"))\n",
    "\n",
    "# if 조건문으로 홀수 짝수를 구분합니다.\n",
    "if number % 2 == 0:\n",
    "    print(\"\\n\".join([\n",
    "        \"입력한 문자열은 {}입니다.\",\n",
    "        \"{}는(은) 짝수입니다.\"\n",
    "    ]).format(number, number))\n",
    "else:\n",
    "    print(\"\\n\".join([\n",
    "        \"입력한 문자열은 {}입니다.\",\n",
    "        \"{}는(은) 홀수입니다.\"\n",
    "    ]).format(number, number))"
   ]
  },
  {
   "attachments": {},
   "cell_type": "markdown",
   "metadata": {},
   "source": [
    "### 좀 더 알아보기(2) 이터레이터\n",
    "'반복할 수 있는 것'을 프로그래밍 용어로 이터러블 이라고 함. -> 리스트, 딕셔너리, 문자열 튜플등 모두 이터러블.  \n",
    "이터러블 중에서 Next() 함수를 적용해 하나하나 꺼낼 수 있는 요소를 이터레이터라고 함.\n",
    "\n",
    "##### 직접 해보는 손코딩 (reversed() 함수와 이터레이터)"
   ]
  },
  {
   "cell_type": "code",
   "execution_count": 29,
   "metadata": {},
   "outputs": [
    {
     "name": "stdout",
     "output_type": "stream",
     "text": [
      "reversed_numbers : <list_reverseiterator object at 0x1032cef40>\n",
      "6\n",
      "5\n",
      "4\n",
      "3\n",
      "2\n"
     ]
    }
   ],
   "source": [
    "# 변수를 선언합니다.\n",
    "numbers = [1, 2, 3, 4, 5, 6]\n",
    "r_num = reversed(numbers)\n",
    "\n",
    "# reversed_numbers를 출력합니다.\n",
    "print(\"reversed_numbers :\", r_num)\n",
    "print(next(r_num))\n",
    "print(next(r_num))\n",
    "print(next(r_num))\n",
    "print(next(r_num))\n",
    "print(next(r_num))"
   ]
  },
  {
   "attachments": {},
   "cell_type": "markdown",
   "metadata": {},
   "source": [
    "reversed() 함수의 리턴 값이 바로 'reversediterator'.  \n",
    "next() 함수로 내부의 요소를 하나하나 꺼낼 수 있음.  \n",
    "왜 reversed()함수는 리스트를 바로 리턴해 주지 않고 이터레이터를 리턴해 주는 것일까?  \n",
    "이는 메모리의 효율성을 위해서.  -> 기존에 있던 리스트를 활용해서 작업하는 것이 훨씬 효율적이라고 판단."
   ]
  }
 ],
 "metadata": {
  "kernelspec": {
   "display_name": "Python 3",
   "language": "python",
   "name": "python3"
  },
  "language_info": {
   "codemirror_mode": {
    "name": "ipython",
    "version": 3
   },
   "file_extension": ".py",
   "mimetype": "text/x-python",
   "name": "python",
   "nbconvert_exporter": "python",
   "pygments_lexer": "ipython3",
   "version": "3.9.6"
  },
  "orig_nbformat": 4
 },
 "nbformat": 4,
 "nbformat_minor": 2
}
