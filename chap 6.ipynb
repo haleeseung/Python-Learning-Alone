{
 "cells": [
  {
   "attachments": {},
   "cell_type": "markdown",
   "metadata": {},
   "source": [
    "# chapter - 06 예외 처리\n",
    "\n",
    "## 6.1 구문 오류와 예외\n",
    "\n",
    "### 오류의 종류"
   ]
  },
  {
   "attachments": {},
   "cell_type": "markdown",
   "metadata": {},
   "source": []
  }
 ],
 "metadata": {
  "language_info": {
   "name": "python"
  },
  "orig_nbformat": 4
 },
 "nbformat": 4,
 "nbformat_minor": 2
}
