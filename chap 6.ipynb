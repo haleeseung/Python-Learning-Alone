{
 "cells": [
  {
   "attachments": {},
   "cell_type": "markdown",
   "metadata": {},
   "source": [
    "# chapter - 06 예외 처리\n",
    "\n",
    "## 6.1 구문 오류와 예외\n",
    "\n",
    "### 오류의 종류\n",
    "프로그래밍 언어의 오류에는 크게 두 가지 종류가 있음.\n",
    "- 프로그램 실행 전에 발생하는 오류 -> 구문 오류\n",
    "- 프로그램 실행 중에 발생하는 오류 -> 예외 또는 런타임 오류"
   ]
  },
  {
   "attachments": {},
   "cell_type": "markdown",
   "metadata": {},
   "source": [
    "#### 구문 오류\n",
    "구문 오류는 괄호의 개수, 들여쓰기 문 등으로 인해 프로그램이 실행되기도 전에 발생하는 오류."
   ]
  },
  {
   "cell_type": "code",
   "execution_count": 1,
   "metadata": {},
   "outputs": [
    {
     "ename": "SyntaxError",
     "evalue": "EOL while scanning string literal (4031292549.py, line 5)",
     "output_type": "error",
     "traceback": [
      "\u001b[0;36m  Cell \u001b[0;32mIn[1], line 5\u001b[0;36m\u001b[0m\n\u001b[0;31m    print(\"# 예외를 강제로 발생시켜 볼게요!)\u001b[0m\n\u001b[0m                               ^\u001b[0m\n\u001b[0;31mSyntaxError\u001b[0m\u001b[0;31m:\u001b[0m EOL while scanning string literal\n"
     ]
    }
   ],
   "source": [
    "# 프로그램 시작\n",
    "print(\"# 프로그램이 시작되었습니다!\")\n",
    "\n",
    "# 구문 오류 발생 코드\n",
    "print(\"# 예외를 강제로 발생시켜 볼게요!)"
   ]
  },
  {
   "attachments": {},
   "cell_type": "markdown",
   "metadata": {},
   "source": [
    "#### 예외\n",
    "예외 또는 런타임 오류는 실행 중에 발생하는 오류를 의미."
   ]
  },
  {
   "cell_type": "code",
   "execution_count": 2,
   "metadata": {},
   "outputs": [
    {
     "name": "stdout",
     "output_type": "stream",
     "text": [
      "# 프로그램이 시작되었습니다!\n"
     ]
    },
    {
     "ename": "NameError",
     "evalue": "name 'list_a' is not defined",
     "output_type": "error",
     "traceback": [
      "\u001b[0;31m---------------------------------------------------------------------------\u001b[0m",
      "\u001b[0;31mNameError\u001b[0m                                 Traceback (most recent call last)",
      "Cell \u001b[0;32mIn[2], line 5\u001b[0m\n\u001b[1;32m      2\u001b[0m \u001b[39mprint\u001b[39m(\u001b[39m\"\u001b[39m\u001b[39m# 프로그램이 시작되었습니다!\u001b[39m\u001b[39m\"\u001b[39m)\n\u001b[1;32m      4\u001b[0m \u001b[39m# 예외 발생 코드\u001b[39;00m\n\u001b[0;32m----> 5\u001b[0m list_a[\u001b[39m1\u001b[39m]\n",
      "\u001b[0;31mNameError\u001b[0m: name 'list_a' is not defined"
     ]
    }
   ],
   "source": [
    "# 프로그램 시작\n",
    "print(\"# 프로그램이 시작되었습니다!\")\n",
    "\n",
    "# 예외 발생 코드\n",
    "list_a[1]"
   ]
  },
  {
   "attachments": {},
   "cell_type": "markdown",
   "metadata": {},
   "source": [
    "### 기본 예외 처리\n",
    "예외를 해결하는 모든 것을 예외 처리라고 부름. 예외를 처리하는 방법은 두 가지로 나뉨.  \n",
    "- 조건문을 사용하는 방법\n",
    "- try 구문을 사용하는 방법"
   ]
  },
  {
   "attachments": {},
   "cell_type": "markdown",
   "metadata": {},
   "source": [
    "#### 예외 상황 확인하기"
   ]
  },
  {
   "cell_type": "code",
   "execution_count": 4,
   "metadata": {},
   "outputs": [
    {
     "ename": "ValueError",
     "evalue": "invalid literal for int() with base 10: '7 센티미터'",
     "output_type": "error",
     "traceback": [
      "\u001b[0;31m---------------------------------------------------------------------------\u001b[0m",
      "\u001b[0;31mValueError\u001b[0m                                Traceback (most recent call last)",
      "Cell \u001b[0;32mIn[4], line 2\u001b[0m\n\u001b[1;32m      1\u001b[0m \u001b[39m# 숫자를 입력받습니다.\u001b[39;00m\n\u001b[0;32m----> 2\u001b[0m number_input_a \u001b[39m=\u001b[39m \u001b[39mint\u001b[39;49m(\u001b[39minput\u001b[39;49m(\u001b[39m\"\u001b[39;49m\u001b[39m정수 입력> \u001b[39;49m\u001b[39m\"\u001b[39;49m))\n\u001b[1;32m      4\u001b[0m \u001b[39m# 출력합니다.\u001b[39;00m\n\u001b[1;32m      5\u001b[0m \u001b[39mprint\u001b[39m(\u001b[39m\"\u001b[39m\u001b[39m원의 반지름:\u001b[39m\u001b[39m\"\u001b[39m, number_input_a)\n",
      "\u001b[0;31mValueError\u001b[0m: invalid literal for int() with base 10: '7 센티미터'"
     ]
    }
   ],
   "source": [
    "# 숫자를 입력받습니다.\n",
    "number_input_a = int(input(\"정수 입력> \"))\n",
    "\n",
    "# 출력합니다.\n",
    "print(\"원의 반지름:\", number_input_a)\n",
    "print(\"원의 둘레:\", 2 * 3.14 * number_input_a)\n",
    "print(\"원의 넓이:\", 3.14 * number_input_a * number_input_a)"
   ]
  },
  {
   "attachments": {},
   "cell_type": "markdown",
   "metadata": {},
   "source": [
    "#### 조건문으로 예외 처리하기\n",
    "문자열의 isdigit()함수를 사용해서 숫자로만 구성된 글자인지 확인.  \n",
    "##### 직접 해보는 손코딩 (조건문으로 예외 처리하기)"
   ]
  },
  {
   "cell_type": "code",
   "execution_count": 5,
   "metadata": {},
   "outputs": [
    {
     "name": "stdout",
     "output_type": "stream",
     "text": [
      "원의 반지름: 8\n",
      "원의 둘레: 50.24\n",
      "원의 넓이: 200.96\n"
     ]
    }
   ],
   "source": [
    "# 숫자를 입력받습니다.\n",
    "user_input_a = input(\"정수 입력> \")\n",
    "\n",
    "# 사용자 입력이 숫자로만 구성되어 있을 때\n",
    "if user_input_a.isdigit():\n",
    "    # 숫자로 변환합니다.\n",
    "    number_input_a = int(user_input_a)\n",
    "    # 출력합니다.\n",
    "    print(\"원의 반지름:\", number_input_a)\n",
    "    print(\"원의 둘레:\", 2 * 3.14 * number_input_a)\n",
    "    print(\"원의 넓이:\", 3.14 * number_input_a * number_input_a)\n",
    "else:\n",
    "    print(\"정수를 입력하지 않았습니다.\")"
   ]
  },
  {
   "attachments": {},
   "cell_type": "markdown",
   "metadata": {},
   "source": [
    "### try except 구문\n",
    "> try:  \n",
    ">   예외가 발생할 가능성이 있는 코드  \n",
    "> except:  \n",
    ">   예외가 발생했을 대 실행할 코드  "
   ]
  },
  {
   "attachments": {},
   "cell_type": "markdown",
   "metadata": {},
   "source": [
    "##### 직접 해보는 손코딩 (try except 구문)"
   ]
  },
  {
   "cell_type": "code",
   "execution_count": 6,
   "metadata": {},
   "outputs": [
    {
     "name": "stdout",
     "output_type": "stream",
     "text": [
      "무언가 잘못되었습니다.\n"
     ]
    }
   ],
   "source": [
    "# try except 구문으로 예외를 처리합니다.\n",
    "try:\n",
    "    # 숫자로 변환합니다.\n",
    "    number_input_a = int(input(\"정수 입력> \"))\n",
    "    # 출력합니다.\n",
    "    print(\"원의 반지름:\", number_input_a)\n",
    "    print(\"원의 둘레:\", 2 * 3.14 * number_input_a)\n",
    "    print(\"원의 넓이:\", 3.14 * number_input_a * number_input_a)\n",
    "except:\n",
    "    print(\"무언가 잘못되었습니다.\")"
   ]
  },
  {
   "attachments": {},
   "cell_type": "markdown",
   "metadata": {},
   "source": [
    "#### try except 구문과 pass 키워드 조합하기\n",
    "프로그래밍을 하다 보면 이유는 정확히 모르겠지만, 어떤 부분에서 예외가 발생하는지 정도는 파악할 수 있는 상황이 있습니다.  \n",
    "예외가 발생하면 일단 처리해야 하지만, 해당 코드가 딱히 중요한 부분이 아니라면 일단 프로그램이 강제 종료되는 것부터 막자는 목적으로 except 구문에 아무것도 넣지 않고 try 구문을 사용하게 됩니다.  \n",
    "하지만 구문 내부에 아무것도 넣지 않으면 구문 오류가 발생하므로 pass 키워드를 넣어줍니다."
   ]
  },
  {
   "attachments": {},
   "cell_type": "markdown",
   "metadata": {},
   "source": [
    "##### 직접 해보는 손코딩 (숫자로 변환되는 것들만 리스트에 넣기)"
   ]
  },
  {
   "cell_type": "code",
   "execution_count": 7,
   "metadata": {},
   "outputs": [
    {
     "name": "stdout",
     "output_type": "stream",
     "text": [
      "['52', '273', '32', '스파이', '103'] 내부에 있는 숫자는\n",
      "['52', '273', '32', '103']입니다.\n"
     ]
    }
   ],
   "source": [
    "# 변수를 선언합니다.\n",
    "list_input_a = [\"52\", \"273\", \"32\", \"스파이\", \"103\"]\n",
    "\n",
    "# 반복을 적용합니다.\n",
    "list_number = []\n",
    "for item in list_input_a:\n",
    "    # 숫자로 변환해서 리스트에 추가합니다.\n",
    "    try:\n",
    "        float(item)\n",
    "        list_number.append(item)\n",
    "    except:\n",
    "        pass\n",
    "    \n",
    "# 출력합니다.\n",
    "print(\"{} 내부에 있는 숫자는\".format(list_input_a))\n",
    "print(\"{}입니다.\".format(list_number))"
   ]
  },
  {
   "attachments": {},
   "cell_type": "markdown",
   "metadata": {},
   "source": [
    "### try except else 구문\n",
    "##### 직접 해보는 손코딩 (try except else 구문)"
   ]
  },
  {
   "cell_type": "code",
   "execution_count": 8,
   "metadata": {},
   "outputs": [
    {
     "name": "stdout",
     "output_type": "stream",
     "text": [
      "원의 반지름: 7\n",
      "원의 둘레: 43.96\n",
      "원의 넓이: 153.86\n"
     ]
    }
   ],
   "source": [
    "# try except else 구문으로 예외를 처리합니다.\n",
    "try:\n",
    "    # 숫자로 변환합니다.\n",
    "    number_input_a = int(input(\"정수 입력> \"))\n",
    "except:\n",
    "    print(\"정수를 입력하지 않았습니다.\")\n",
    "else:\n",
    "    # 출력합니다.\n",
    "    print(\"원의 반지름:\", number_input_a)\n",
    "    print(\"원의 둘레:\", 2 * 3.14 * number_input_a)\n",
    "    print(\"원의 넓이:\", 3.14 * number_input_a * number_input_a)"
   ]
  },
  {
   "attachments": {},
   "cell_type": "markdown",
   "metadata": {},
   "source": [
    "### finally 구문\n",
    "finally 구문은 예외 처리 구문에서 가장 마지막에 사용할 수 있는 구문. 예외가 발생하든 발생하지 않든 무조건 실행할 때 사용하는 코드.\n",
    "##### 직접해보는 손코딩 (finally 구문)"
   ]
  },
  {
   "cell_type": "code",
   "execution_count": 9,
   "metadata": {},
   "outputs": [
    {
     "name": "stdout",
     "output_type": "stream",
     "text": [
      "원의 반지름: 273\n",
      "원의 둘레: 1714.44\n",
      "원의 넓이: 234021.06\n",
      "예외가 발생하지 않았습니다.\n",
      "일단 프로그램이 어떻게든 끝났습니다.\n"
     ]
    }
   ],
   "source": [
    "# try except 구문으로 예외를 처리합니다.\n",
    "try:\n",
    "    # 숫자로 변환합니다.\n",
    "    number_input_a = int(input(\"정수 입력> \"))\n",
    "    # 출력합니다.\n",
    "    print(\"원의 반지름:\", number_input_a)\n",
    "    print(\"원의 둘레:\", 2 * 3.14 * number_input_a)\n",
    "    print(\"원의 넓이:\", 3.14 * number_input_a * number_input_a)\n",
    "except:\n",
    "    print(\"정수를 입력해달라고 했잖아요?!\")\n",
    "else:\n",
    "    print(\"예외가 발생하지 않았습니다.\")\n",
    "finally:\n",
    "    print(\"일단 프로그램이 어떻게든 끝났습니다.\")"
   ]
  },
  {
   "attachments": {},
   "cell_type": "markdown",
   "metadata": {},
   "source": [
    "#### try, except, finally 구문의 조합\n",
    "예외 처리 구문은 다음과 같은 규칙을 지켜야 합니다.\n",
    "- try 구문은 단독으로 사용할 수 없으며, 반드시 except 구문 또는 finally 구문과 함꼐 사용해야 합니다.\n",
    "- else 구문은 반드시 except 구문 뒤에 사용해야 합니다."
   ]
  },
  {
   "attachments": {},
   "cell_type": "markdown",
   "metadata": {},
   "source": [
    "#### finally에 대한 오해\n",
    "일반적으로 finally 키워드를 설명하는 예제로 '파일 처리'를 많이 사용. 초보자를 위해 쉽게 설명하기 위한 용도로 좋기는 하지만, 실제 finally 구문을 사용하는 것과는 전혀 관련이 없음.\n",
    "##### 직접 해보는 손코딩 (파일이 제대로 닫혔는지 확인하기)"
   ]
  },
  {
   "cell_type": "code",
   "execution_count": 10,
   "metadata": {},
   "outputs": [
    {
     "name": "stdout",
     "output_type": "stream",
     "text": [
      "# 파일이 제대로 닫혔는지 확인하기\n",
      "file.closed: True\n"
     ]
    }
   ],
   "source": [
    "# try except 구문을 사용합니다.\n",
    "try:\n",
    "    # 파일을 엽니다.\n",
    "    file = open(\"info.txt\", \"w\")\n",
    "    # 여러 가지 처리를 수행합니다.\n",
    "    # 파일을 닫습니다.\n",
    "    file.close()\n",
    "except Exception as e:\n",
    "    print(e)\n",
    "    \n",
    "print(\"# 파일이 제대로 닫혔는지 확인하기\")\n",
    "print(\"file.closed:\", file.closed)"
   ]
  },
  {
   "attachments": {},
   "cell_type": "markdown",
   "metadata": {},
   "source": [
    "##### 직접 해보는 손코딩 (파일 처리 중간에 예외 발생)"
   ]
  },
  {
   "cell_type": "code",
   "execution_count": 11,
   "metadata": {},
   "outputs": [
    {
     "name": "stdout",
     "output_type": "stream",
     "text": [
      "name '예외' is not defined\n",
      "# 파일이 제대로 닫혔는지 확인하기\n",
      "file.closed: False\n"
     ]
    }
   ],
   "source": [
    "# try except 구문을 사용합니다.\n",
    "try:\n",
    "    # 파일을 엽니다.\n",
    "    file = open(\"info.txt\", \"w\")\n",
    "    # 여러 가지 처리를 수행합니다.\n",
    "    예외.발생해라()\n",
    "    # 파일을 닫습니다.\n",
    "    file.close()\n",
    "except Exception as e:\n",
    "    print(e)\n",
    "    \n",
    "print(\"# 파일이 제대로 닫혔는지 확인하기\")\n",
    "print(\"file.closed:\", file.closed)"
   ]
  },
  {
   "attachments": {},
   "cell_type": "markdown",
   "metadata": {},
   "source": [
    "##### 직접 해보는 손코딩 (finally 구문 사용해 파일 닫기)"
   ]
  },
  {
   "cell_type": "code",
   "execution_count": 13,
   "metadata": {},
   "outputs": [
    {
     "name": "stdout",
     "output_type": "stream",
     "text": [
      "name '예외' is not defined\n",
      "# 파일이 제대로 닫혔는지 확인하기\n",
      "file.closed: True\n"
     ]
    }
   ],
   "source": [
    "# try except 구문을 사용합니다.\n",
    "try:\n",
    "    # 파일을 엽니다.\n",
    "    file = open(\"info.txt\", \"w\")\n",
    "    # 여러 가지 처리를 수행합니다.\n",
    "    예외.발생해라()\n",
    "except Exception as e:\n",
    "    print(e)\n",
    "finally:\n",
    "    # 파일을 닫습니다.\n",
    "    file.close()\n",
    "    \n",
    "print(\"# 파일이 제대로 닫혔는지 확인하기\")\n",
    "print(\"file.closed:\", file.closed)"
   ]
  },
  {
   "attachments": {},
   "cell_type": "markdown",
   "metadata": {},
   "source": [
    "##### 직접 해보는 손코딩 (try except 구문 끝난 후 파일 닫기)"
   ]
  },
  {
   "cell_type": "code",
   "execution_count": 14,
   "metadata": {},
   "outputs": [
    {
     "name": "stdout",
     "output_type": "stream",
     "text": [
      "name '예외' is not defined\n",
      "# 파일이 제대로 닫혔는지 확인하기\n",
      "file.closed: True\n"
     ]
    }
   ],
   "source": [
    "# try except 구문을 사용합니다.\n",
    "try:\n",
    "    # 파일을 엽니다.\n",
    "    file = open(\"info.txt\", \"w\")\n",
    "    # 여러 가지 처리를 수행합니다.\n",
    "    예외.발생해라()\n",
    "except Exception as e:\n",
    "    print(e)\n",
    "    \n",
    "# 파일을 닫습니다.\n",
    "file.close()    \n",
    "print(\"# 파일이 제대로 닫혔는지 확인하기\")\n",
    "print(\"file.closed:\", file.closed)"
   ]
  },
  {
   "attachments": {},
   "cell_type": "markdown",
   "metadata": {},
   "source": [
    "그냥 try except 구문이 모두 끝난 후에 파일을 닫으면 아무 문제 없음.  \n",
    "한마디로 파일 처리를 할 때 무조건 finally 키워드를 사용해야 한다는 것은 말도 안 되는 이야기.  \n",
    "finally 키워드는 어떤 조건에 무조건 사용해야 하는 게 아니라 finally 키워드를 사용하면 코드가 깔끔해질 것 같다고 생각되는 경우에 사용합니다."
   ]
  },
  {
   "attachments": {},
   "cell_type": "markdown",
   "metadata": {},
   "source": [
    "#### try 구문 내부에서 return 키워드를 사용하는 경우"
   ]
  },
  {
   "attachments": {},
   "cell_type": "markdown",
   "metadata": {},
   "source": [
    "##### 직접 해보는 손코딩 (try 구문 내부에서 return 키워드를 사용하는 경우)"
   ]
  },
  {
   "cell_type": "code",
   "execution_count": 15,
   "metadata": {},
   "outputs": [
    {
     "name": "stdout",
     "output_type": "stream",
     "text": [
      "test() 함수의 첫 줄입니다.\n",
      "try 구문이 실행되었습니다.\n",
      "finally 구문이 실행되었습니다.\n"
     ]
    }
   ],
   "source": [
    "# test() 함수를 선언합니다.\n",
    "def test():\n",
    "    print(\"test() 함수의 첫 줄입니다.\")\n",
    "    try:\n",
    "        print(\"try 구문이 실행되었습니다.\")\n",
    "        return\n",
    "        print(\"try 구문의 return 키워드 뒤입니다.\")\n",
    "    except:\n",
    "        print(\"except 구문이 실행되었습니다.\")\n",
    "    finally:\n",
    "        print(\"finally 구문이 실행되었습니다.\")\n",
    "    print(\"test() 함수의 마지막 줄입니다.\")\n",
    "\n",
    "# test() 함수를 호출합니다.\n",
    "test()"
   ]
  },
  {
   "attachments": {},
   "cell_type": "markdown",
   "metadata": {},
   "source": [
    "try 구문 중간에서 탈출해도 Finally 구문은 무조건 실행됨. 따라서 함수 내부에서 파일 처리 코드를 깔끔하게 만들고 싶을 때 finally 구문을 활용하는 경우가 많음."
   ]
  },
  {
   "attachments": {},
   "cell_type": "markdown",
   "metadata": {},
   "source": [
    "#### 반복문과 함꼐 사용하는 경우\n",
    "finally 구문은 무조건 실행됩니다. 따라서 반복문에서 break로 빠져나갈 때도 마찬가지."
   ]
  },
  {
   "attachments": {},
   "cell_type": "markdown",
   "metadata": {},
   "source": [
    "##### 직접 해보는 손코딩 (반복문과 함께 사용하는 경우)"
   ]
  },
  {
   "cell_type": "code",
   "execution_count": 16,
   "metadata": {},
   "outputs": [
    {
     "name": "stdout",
     "output_type": "stream",
     "text": [
      "프로그램이 시작되었습니다.\n",
      "try 구문이 실행되었습니다.\n",
      "finally 구문이 실행되었습니다.\n",
      "프로그램이 종료되었습니다.\n"
     ]
    }
   ],
   "source": [
    "print(\"프로그램이 시작되었습니다.\")\n",
    "\n",
    "while True:\n",
    "    try:\n",
    "        print(\"try 구문이 실행되었습니다.\")\n",
    "        break\n",
    "        print(\"try 구문의 break 키워드 뒤입니다.\")\n",
    "    except:\n",
    "        print(\"except 구문이 실행되었습니다.\")\n",
    "    finally:\n",
    "        print(\"finally 구문이 실행되었습니다.\")\n",
    "    print(\"while 반복문의 마지막 줄입니다.\")\n",
    "print(\"프로그램이 종료되었습니다.\")"
   ]
  },
  {
   "attachments": {},
   "cell_type": "markdown",
   "metadata": {},
   "source": [
    "## 6.2 예외 고급\n",
    "프로그래밍 언어에서 예외가 발생하면 예외와 관련된 정보가 생김. 이러한 예외 정보는 예외 객체에 저장.\n",
    "\n",
    "### 예외 객체\n",
    "처음 예외 객체를 사용해 보면 '예외의 종류'가 뭔지 몰라 당황하는 경우가 있음. 그럴 때는 모든 '예외의 어머니'라고 불리는 Exception을 사용.\n"
   ]
  },
  {
   "attachments": {},
   "cell_type": "markdown",
   "metadata": {},
   "source": [
    "##### 직접 해보는 손코딩 (예외 객체)"
   ]
  },
  {
   "cell_type": "code",
   "execution_count": 17,
   "metadata": {},
   "outputs": [
    {
     "name": "stdout",
     "output_type": "stream",
     "text": [
      "type(exception): <class 'ValueError'>\n",
      "exception: invalid literal for int() with base 10: 'yes!!'\n"
     ]
    }
   ],
   "source": [
    "# try except 구문으로 예외를 처리합니다.\n",
    "try:\n",
    "    # 숫자로 변환합니다.\n",
    "    number_input_a = int(input(\"정수 입력> \"))\n",
    "    # 출력합니다.\n",
    "    print(\"원의 반지름:\", number_input_a)\n",
    "    print(\"원의 둘레:\", 2 * 3.14 * number_input_a)\n",
    "    print(\"원의 넓이:\", 3.14 * number_input_a * number_input_a)\n",
    "except Exception as exception:\n",
    "    # 예외 객체를 출력해봅니다.\n",
    "    print(\"type(exception):\", type(exception))\n",
    "    print(\"exception:\", exception)"
   ]
  },
  {
   "attachments": {},
   "cell_type": "markdown",
   "metadata": {},
   "source": [
    "만약 큰 규모의 웹 서비스를 구축한다면 내부에서 다양한 예외가 발생함. 예외가 발생할 때 이러한 정보를 메일 등으로 보내도록 해서 수집하면 이후에 프로그램을 개선하는 데 도움이 됨."
   ]
  },
  {
   "attachments": {},
   "cell_type": "markdown",
   "metadata": {},
   "source": [
    "### 예외 구분하기\n",
    "예외 객체를 사용하면 except 구문을 if 조건문처럼 사용해서 예외를 구분할 수 있습니다.\n",
    "#### 여러 가지 예외가 발생할 수 있는 상황\n",
    "##### 직접해보는 손코딩 (여러 가지 예외가 발생할 수 있는 코드)"
   ]
  },
  {
   "cell_type": "code",
   "execution_count": 20,
   "metadata": {},
   "outputs": [
    {
     "name": "stdout",
     "output_type": "stream",
     "text": [
      "type(exception): <class 'IndexError'>\n",
      "exception: list index out of range\n"
     ]
    }
   ],
   "source": [
    "# 변수를 선언합니다.\n",
    "list_number = [52, 273, 32, 72, 100]\n",
    "\n",
    "# try except 구문으로 예외를 처리합니다.\n",
    "try:\n",
    "    # 숫자를 입력받습니다.\n",
    "    number_input = int(input(\"정수 입력> \"))\n",
    "    # 리스트의 요소를 출력합니다.\n",
    "    print(\"{}번째 요소: {}\". format(number_input, list_number[number_input]))\n",
    "except Exception as exception:\n",
    "    # 예외 객체를 출력해봅니다.\n",
    "    print(\"type(exception):\", type(exception))\n",
    "    print(\"exception:\", exception)"
   ]
  },
  {
   "attachments": {},
   "cell_type": "markdown",
   "metadata": {},
   "source": [
    "#### 예외 구분하기\n",
    "파이썬은 except 구문 뒤에 예외의 종류를 입력해서 예외를 구분할 수 있음."
   ]
  },
  {
   "attachments": {},
   "cell_type": "markdown",
   "metadata": {},
   "source": [
    "##### 직접 해보는 손코딩 (예외 구분하기)"
   ]
  },
  {
   "cell_type": "code",
   "execution_count": 22,
   "metadata": {},
   "outputs": [
    {
     "name": "stdout",
     "output_type": "stream",
     "text": [
      "리스트의 인덱스를 벗어났어요!\n"
     ]
    }
   ],
   "source": [
    "# 변수를 선언합니다.\n",
    "list_number = [52, 273, 32, 72, 100]\n",
    "\n",
    "# try except 구문으로 예외를 처리합니다.\n",
    "try:\n",
    "    # 숫자를 입력받습니다.\n",
    "    number_input = int(input(\"정수 입력> \"))\n",
    "    # 리스트의 요소를 출력합니다.\n",
    "    print(\"{}번째 요소: {}\". format(number_input, list_number[number_input]))\n",
    "except ValueError:\n",
    "    # ValueError가 발생하는 경우\n",
    "    print(\"정수를 입력해 주세요!\")\n",
    "except IndexError:\n",
    "    # IndexError가 발생하는 경우\n",
    "    print(\"리스트의 인덱스를 벗어났어요!\")"
   ]
  },
  {
   "attachments": {},
   "cell_type": "markdown",
   "metadata": {},
   "source": [
    "#### 예외 구분 구문과 예외 객체\n",
    "예외를 구분할 때 각각의 except 구문 뒤에 예외 객체를 붙여 활용할 수 있음. 마찬가지로 as 키워드를 사용하면 됌.\n",
    "##### 직접 해보는 손코딩 (예외 구문과 예외 객체)"
   ]
  },
  {
   "cell_type": "code",
   "execution_count": 24,
   "metadata": {},
   "outputs": [
    {
     "name": "stdout",
     "output_type": "stream",
     "text": [
      "리스트의 인덱스를 벗어났어요!\n"
     ]
    },
    {
     "ename": "NameError",
     "evalue": "name 'exception' is not defined",
     "output_type": "error",
     "traceback": [
      "\u001b[0;31m---------------------------------------------------------------------------\u001b[0m",
      "\u001b[0;31mIndexError\u001b[0m                                Traceback (most recent call last)",
      "Cell \u001b[0;32mIn[24], line 9\u001b[0m\n\u001b[1;32m      8\u001b[0m     \u001b[39m# 리스트의 요소를 출력합니다.\u001b[39;00m\n\u001b[0;32m----> 9\u001b[0m     \u001b[39mprint\u001b[39m(\u001b[39m\"\u001b[39m\u001b[39m{}\u001b[39;00m\u001b[39m번째 요소: \u001b[39m\u001b[39m{}\u001b[39;00m\u001b[39m\"\u001b[39m\u001b[39m.\u001b[39m \u001b[39mformat\u001b[39m(number_input, list_number[number_input]))\n\u001b[1;32m     10\u001b[0m \u001b[39mexcept\u001b[39;00m \u001b[39mValueError\u001b[39;00m:\n\u001b[1;32m     11\u001b[0m     \u001b[39m# ValueError가 발생하는 경우\u001b[39;00m\n",
      "\u001b[0;31mIndexError\u001b[0m: list index out of range",
      "\nDuring handling of the above exception, another exception occurred:\n",
      "\u001b[0;31mNameError\u001b[0m                                 Traceback (most recent call last)",
      "Cell \u001b[0;32mIn[24], line 17\u001b[0m\n\u001b[1;32m     14\u001b[0m \u001b[39mexcept\u001b[39;00m \u001b[39mIndexError\u001b[39;00m:\n\u001b[1;32m     15\u001b[0m     \u001b[39m# IndexError가 발생하는 경우\u001b[39;00m\n\u001b[1;32m     16\u001b[0m     \u001b[39mprint\u001b[39m(\u001b[39m\"\u001b[39m\u001b[39m리스트의 인덱스를 벗어났어요!\u001b[39m\u001b[39m\"\u001b[39m)\n\u001b[0;32m---> 17\u001b[0m     \u001b[39mprint\u001b[39m(\u001b[39m\"\u001b[39m\u001b[39mexception:\u001b[39m\u001b[39m\"\u001b[39m, exception)\n",
      "\u001b[0;31mNameError\u001b[0m: name 'exception' is not defined"
     ]
    }
   ],
   "source": [
    "# 변수를 선언합니다.\n",
    "list_number = [52, 273, 32, 72, 100]\n",
    "\n",
    "# try except 구문으로 예외를 처리합니다.\n",
    "try:\n",
    "    # 숫자를 입력받습니다.\n",
    "    number_input = int(input(\"정수 입력> \"))\n",
    "    # 리스트의 요소를 출력합니다.\n",
    "    print(\"{}번째 요소: {}\". format(number_input, list_number[number_input]))\n",
    "except ValueError:\n",
    "    # ValueError가 발생하는 경우\n",
    "    print(\"정수를 입력해 주세요!\")\n",
    "    print(\"exception:\", exception)\n",
    "except IndexError:\n",
    "    # IndexError가 발생하는 경우\n",
    "    print(\"리스트의 인덱스를 벗어났어요!\")\n",
    "    print(\"exception:\", exception)"
   ]
  },
  {
   "attachments": {},
   "cell_type": "markdown",
   "metadata": {},
   "source": [
    "### 모든 예외 잡기\n",
    "except 구문으로 예외를 구분하면 if, elif, else 조건문처럼 차례대로 오류를 검출하면서 확인.  \n",
    "만약 예외 조건에 일치하는 것이 없다면 당연히 예외가 발생하며 프로그램이 강제 종료됨.  \n",
    "##### 직접 해보는 손코딩 (예외 처리를 했지만 예외를 못 잡는 경우)"
   ]
  },
  {
   "cell_type": "code",
   "execution_count": 27,
   "metadata": {},
   "outputs": [
    {
     "name": "stdout",
     "output_type": "stream",
     "text": [
      "1번째 요소: 273\n"
     ]
    },
    {
     "ename": "NameError",
     "evalue": "name '예외' is not defined",
     "output_type": "error",
     "traceback": [
      "\u001b[0;31m---------------------------------------------------------------------------\u001b[0m",
      "\u001b[0;31mNameError\u001b[0m                                 Traceback (most recent call last)",
      "Cell \u001b[0;32mIn[27], line 10\u001b[0m\n\u001b[1;32m      8\u001b[0m     \u001b[39m# 리스트의 요소를 출력합니다.\u001b[39;00m\n\u001b[1;32m      9\u001b[0m     \u001b[39mprint\u001b[39m(\u001b[39m\"\u001b[39m\u001b[39m{}\u001b[39;00m\u001b[39m번째 요소: \u001b[39m\u001b[39m{}\u001b[39;00m\u001b[39m\"\u001b[39m\u001b[39m.\u001b[39m \u001b[39mformat\u001b[39m(number_input, list_number[number_input]))\n\u001b[0;32m---> 10\u001b[0m     예외\u001b[39m.\u001b[39m발생해주세요()\n\u001b[1;32m     11\u001b[0m \u001b[39mexcept\u001b[39;00m \u001b[39mValueError\u001b[39;00m:\n\u001b[1;32m     12\u001b[0m     \u001b[39m# ValueError가 발생하는 경우\u001b[39;00m\n\u001b[1;32m     13\u001b[0m     \u001b[39mprint\u001b[39m(\u001b[39m\"\u001b[39m\u001b[39m정수를 입력해 주세요!\u001b[39m\u001b[39m\"\u001b[39m)\n",
      "\u001b[0;31mNameError\u001b[0m: name '예외' is not defined"
     ]
    }
   ],
   "source": [
    "# 변수를 선언합니다.\n",
    "list_number = [52, 273, 32, 72, 100]\n",
    "\n",
    "# try except 구문으로 예외를 처리합니다.\n",
    "try:\n",
    "    # 숫자를 입력받습니다.\n",
    "    number_input = int(input(\"정수 입력> \"))\n",
    "    # 리스트의 요소를 출력합니다.\n",
    "    print(\"{}번째 요소: {}\". format(number_input, list_number[number_input]))\n",
    "    예외.발생해주세요()\n",
    "except ValueError:\n",
    "    # ValueError가 발생하는 경우\n",
    "    print(\"정수를 입력해 주세요!\")\n",
    "    print(type(exception), exception)\n",
    "except IndexError:\n",
    "    # IndexError가 발생하는 경우\n",
    "    print(\"리스트의 인덱스를 벗어났어요!\")\n",
    "    print(type(exception), exception)"
   ]
  },
  {
   "attachments": {},
   "cell_type": "markdown",
   "metadata": {},
   "source": [
    "이렇게 되면 예외가 발생해 프로그램이 강제 종료됩니다. 그래서 else 구문처럼 마지막에는 모든 예외의 부모라고 할 수 있는 Exception을 넣어서 프로그램이 죽지 않게 하는 것이 좋습니다.\n",
    "##### 직접 해보는 손코딩 (모든 예외 잡기)"
   ]
  },
  {
   "cell_type": "code",
   "execution_count": 28,
   "metadata": {},
   "outputs": [
    {
     "name": "stdout",
     "output_type": "stream",
     "text": [
      "1번째 요소: 273\n",
      "미리 파악하지 못한 예외가 발생했습니다.\n",
      "<class 'NameError'> name '예외' is not defined\n"
     ]
    }
   ],
   "source": [
    "# 변수를 선언합니다.\n",
    "list_number = [52, 273, 32, 72, 100]\n",
    "\n",
    "# try except 구문으로 예외를 처리합니다.\n",
    "try:\n",
    "    # 숫자를 입력받습니다.\n",
    "    number_input = int(input(\"정수 입력> \"))\n",
    "    # 리스트의 요소를 출력합니다.\n",
    "    print(\"{}번째 요소: {}\". format(number_input, list_number[number_input]))\n",
    "    예외.발생해주세요()\n",
    "except ValueError:\n",
    "    # ValueError가 발생하는 경우\n",
    "    print(\"정수를 입력해 주세요!\")\n",
    "    print(type(exception), exception)\n",
    "except IndexError:\n",
    "    # IndexError가 발생하는 경우\n",
    "    print(\"리스트의 인덱스를 벗어났어요!\")\n",
    "    print(type(exception), exception)\n",
    "except Exception as exception:\n",
    "    # 이외의 예외가 발생한 경우\n",
    "    print(\"미리 파악하지 못한 예외가 발생했습니다.\")\n",
    "    print(type(exception), exception)"
   ]
  },
  {
   "attachments": {},
   "cell_type": "markdown",
   "metadata": {},
   "source": [
    "큰 규모의 프로그램을 개발할 때는 '예외 처리로 떡칠을 한다'라고 표현할 정도로 예외 처리를 많이 사용.  \n",
    "예외 처리에서 가장 중요한 것은 '이 코드에서 어떤 예외가 발생할 것인가?'를 잘 예측하는 것."
   ]
  },
  {
   "attachments": {},
   "cell_type": "markdown",
   "metadata": {},
   "source": [
    "### raise 구문\n",
    "프로그램이 강제 종료되는 것을 막기 위해 예외는 꼭 처리해야 함. 하지만 프로그램을 개발하는 동안에는 '아직 구현하지 않은 부분이니까 확실하게 문제가 생기게 만들자' 또는 '이 부분을 그냥 넘어가면 나중에 큰 문제가 발생하니까 여기에서 강제 종료시키자'라는 경우도 있음.  \n",
    "아직 구현되지 않은 부분은 일부로 예외를 발생시켜 프로그램을 죽게 만들어 잊어버리지 않도록 하는 것. 이때 사용한 raise 키워드가 바로 예외를 강제로 발생시키는 기능을 함."
   ]
  }
 ],
 "metadata": {
  "kernelspec": {
   "display_name": "Python 3",
   "language": "python",
   "name": "python3"
  },
  "language_info": {
   "codemirror_mode": {
    "name": "ipython",
    "version": 3
   },
   "file_extension": ".py",
   "mimetype": "text/x-python",
   "name": "python",
   "nbconvert_exporter": "python",
   "pygments_lexer": "ipython3",
   "version": "3.9.6"
  },
  "orig_nbformat": 4
 },
 "nbformat": 4,
 "nbformat_minor": 2
}
