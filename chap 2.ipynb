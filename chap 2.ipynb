{
 "cells": [
  {
   "attachments": {},
   "cell_type": "markdown",
   "metadata": {},
   "source": [
    "# chapter - 02 자료형\n",
    "\n",
    "## 2.1 자료형과 문자열\n",
    "\n",
    "프로그래밍에서는 프로그램이 처리할 수 있는 모든 것을 자료(data)라고 부름.\n",
    "\n",
    "### 자료형과 기본 자료형\n",
    "\n",
    "파이썬 프로그램에서 수많은 자료를 다룸. 개발자들이 쉽게 사용할 수 있도록 기능과 역할에 따라서 자료를 구분. -> 자료형(data type)이라고 함.  \n",
    "- 문자열(string) : 메일, 제목, 메시지 내용 등\n",
    "- 숫자(number) : 물건의 가격, 학생의 성적 등\n",
    "- 불(boolean) : 친구의 로그인 상태 등"
   ]
  },
  {
   "attachments": {},
   "cell_type": "markdown",
   "metadata": {},
   "source": [
    "#### 자료를 알아야 하는 이유\n",
    "\n",
    "자료를 자료형에 맞게 모으고, 처리 과정을 거쳐 차근차근 더 큰 자료형을 만들어 나가다 보면 거대한 프로글매이 만들어짐.\n",
    "\n",
    "#### 자료형 확인하기\n",
    "\n",
    "자료형이란 자료의 형식을 말함. 파이썬에서 자료의 형식을 확인할 때는 type() 함수를 이용함."
   ]
  },
  {
   "cell_type": "code",
   "execution_count": 1,
   "metadata": {},
   "outputs": [
    {
     "name": "stdout",
     "output_type": "stream",
     "text": [
      "<class 'str'>\n",
      "<class 'int'>\n"
     ]
    }
   ],
   "source": [
    "print(type(\"안녕하세요\"))\n",
    "\n",
    "print(type(273))"
   ]
  },
  {
   "attachments": {},
   "cell_type": "markdown",
   "metadata": {},
   "source": [
    "string -> str 문자열  \n",
    "integer -> int 정수"
   ]
  },
  {
   "attachments": {},
   "cell_type": "markdown",
   "metadata": {},
   "source": [
    "### 문자열 만들기\n",
    "\n",
    "프로그래밍 언어에서는 글자들이 이처럼 나열된 것을 '문자열'이라고 부름. 문자열은 영어로 string(스트링)이라고 부름\n",
    "\n",
    "> \"Hello\" 'String' '안녕하세요' \"Hello Python Programming\""
   ]
  },
  {
   "attachments": {},
   "cell_type": "markdown",
   "metadata": {},
   "source": [
    "#### 큰 따옴표로 문자열 만들기"
   ]
  },
  {
   "cell_type": "code",
   "execution_count": 2,
   "metadata": {},
   "outputs": [
    {
     "name": "stdout",
     "output_type": "stream",
     "text": [
      "안녕하세요\n"
     ]
    }
   ],
   "source": [
    "print(\"안녕하세요\")"
   ]
  },
  {
   "attachments": {},
   "cell_type": "markdown",
   "metadata": {},
   "source": [
    "#### 작은 따옴표로 문자열 만들기"
   ]
  },
  {
   "cell_type": "code",
   "execution_count": 3,
   "metadata": {},
   "outputs": [
    {
     "name": "stdout",
     "output_type": "stream",
     "text": [
      "안녕하세요\n"
     ]
    }
   ],
   "source": [
    "print('안녕하세요')"
   ]
  },
  {
   "attachments": {},
   "cell_type": "markdown",
   "metadata": {},
   "source": [
    "#### 문자열 내부에 따옴표 넣기\n",
    "\n",
    "\"안녕하세요\"라고 말했습니다."
   ]
  },
  {
   "cell_type": "code",
   "execution_count": 4,
   "metadata": {},
   "outputs": [
    {
     "ename": "SyntaxError",
     "evalue": "invalid syntax (2168074507.py, line 1)",
     "output_type": "error",
     "traceback": [
      "\u001b[0;36m  Cell \u001b[0;32mIn[4], line 1\u001b[0;36m\u001b[0m\n\u001b[0;31m    print(\"\"안녕하세요\"라고 말했습니다.\")\u001b[0m\n\u001b[0m            ^\u001b[0m\n\u001b[0;31mSyntaxError\u001b[0m\u001b[0;31m:\u001b[0m invalid syntax\n"
     ]
    }
   ],
   "source": [
    "print(\"\"안녕하세요\"라고 말했습니다.\")"
   ]
  },
  {
   "attachments": {},
   "cell_type": "markdown",
   "metadata": {},
   "source": [
    "파이썬 프로그래밍 언어는 자료(문자열)와 자료(문자열)를 단순하게 나열할 수 없음. 구문 오류 (Syntax Error) 발생 -> 작성한 코드에 문제가 발생해 실행조차 되지 않는다는 의미."
   ]
  },
  {
   "cell_type": "code",
   "execution_count": 5,
   "metadata": {},
   "outputs": [
    {
     "name": "stdout",
     "output_type": "stream",
     "text": [
      "\"안녕하세요\"라고 말했습니다\n"
     ]
    }
   ],
   "source": [
    "print('\"안녕하세요\"라고 말했습니다')"
   ]
  },
  {
   "cell_type": "code",
   "execution_count": 6,
   "metadata": {},
   "outputs": [
    {
     "name": "stdout",
     "output_type": "stream",
     "text": [
      "'배가 고픕니다'라고 생각했습니다\n"
     ]
    }
   ],
   "source": [
    "print(\"'배가 고픕니다'라고 생각했습니다\")"
   ]
  },
  {
   "attachments": {},
   "cell_type": "markdown",
   "metadata": {},
   "source": [
    "#### 이스케이프 문자를 사용해 문자열 만들기\n",
    "\n",
    "이스케이프 문자(escape character)는 역슬래시(\\) 기호와 함께 조합해서 사용하는 특수한 문자를 의미.\n",
    "\n",
    "- \\\" : 큰 따옴표를 의미\n",
    "- \\' : 작은 따옴표를 의미"
   ]
  },
  {
   "cell_type": "code",
   "execution_count": 7,
   "metadata": {},
   "outputs": [
    {
     "name": "stdout",
     "output_type": "stream",
     "text": [
      "\"안녕하세요\"라고 말했습니다\n",
      "'배가 고픕니다'라고 생각했습니다\n"
     ]
    }
   ],
   "source": [
    "print(\"\\\"안녕하세요\\\"라고 말했습니다\")\n",
    "print('\\'배가 고픕니다\\'라고 생각했습니다')"
   ]
  },
  {
   "attachments": {},
   "cell_type": "markdown",
   "metadata": {},
   "source": [
    "- \\n : 줄바꿈을 의미함.\n",
    "- \\t : 탭을 의미."
   ]
  },
  {
   "cell_type": "code",
   "execution_count": 8,
   "metadata": {},
   "outputs": [
    {
     "name": "stdout",
     "output_type": "stream",
     "text": [
      "안녕하세요\n",
      "안녕하세요\n",
      "안녕하세요\t안녕하세요\n"
     ]
    }
   ],
   "source": [
    "print(\"안녕하세요\\n안녕하세요\")\n",
    "\n",
    "print(\"안녕하세요\\t안녕하세요\")"
   ]
  },
  {
   "attachments": {},
   "cell_type": "markdown",
   "metadata": {},
   "source": [
    "##### 직접해보는 손코딩 (이스케이프 문자(\\t)로 탭 사용하기)"
   ]
  },
  {
   "cell_type": "code",
   "execution_count": 9,
   "metadata": {},
   "outputs": [
    {
     "name": "stdout",
     "output_type": "stream",
     "text": [
      "이름\t나이\t지역\n",
      "윤인성\t25\t강서구\n",
      "윤아린\t24\t강서구\n",
      "구름\t3\t강서구\n"
     ]
    }
   ],
   "source": [
    "print(\"이름\\t나이\\t지역\")\n",
    "print(\"윤인성\\t25\\t강서구\")\n",
    "print(\"윤아린\\t24\\t강서구\")\n",
    "print(\"구름\\t3\\t강서구\")"
   ]
  },
  {
   "attachments": {},
   "cell_type": "markdown",
   "metadata": {},
   "source": [
    "- \\\\\\ : 역슬래시(\\)를 의미."
   ]
  },
  {
   "cell_type": "code",
   "execution_count": 11,
   "metadata": {},
   "outputs": [
    {
     "name": "stdout",
     "output_type": "stream",
     "text": [
      "\\ \\ \\ \\\n"
     ]
    }
   ],
   "source": [
    "print(\"\\\\ \\\\ \\\\ \\\\\")"
   ]
  },
  {
   "attachments": {},
   "cell_type": "markdown",
   "metadata": {},
   "source": [
    "#### 여러 줄 문자열 만들기"
   ]
  },
  {
   "cell_type": "code",
   "execution_count": 13,
   "metadata": {},
   "outputs": [
    {
     "name": "stdout",
     "output_type": "stream",
     "text": [
      "동해물과 백두산이 마르고 닳도록\n",
      "하느님이 보우하사 우리나라 만세\n",
      "무궁화 삼천리 화려강산 대한사람\n",
      "대한으로 길이 보전하세\n"
     ]
    }
   ],
   "source": [
    "print(\"동해물과 백두산이 마르고 닳도록\\n하느님이 보우하사 우리나라 만세\\n무궁화 삼천리 화려강산 대한사람\\n대한으로 길이 보전하세\")"
   ]
  },
  {
   "attachments": {},
   "cell_type": "markdown",
   "metadata": {},
   "source": [
    "파이썬은 여러 줄 문자열이라는 기능을 지원합니다. 여러 줄 문자열은 큰따옴표 또는 작은 따옴표를 세번 반복한 기호를 사용."
   ]
  },
  {
   "cell_type": "code",
   "execution_count": 15,
   "metadata": {},
   "outputs": [
    {
     "name": "stdout",
     "output_type": "stream",
     "text": [
      "동해물과 백두산이 마르고 닳도록\n",
      "하느님이 보우하사 우리나라 만세\n",
      "무궁화 삼천리 화려강산 대한사람\n",
      "대한으로 길이 보전하세\n"
     ]
    }
   ],
   "source": [
    "print(\"\"\"동해물과 백두산이 마르고 닳도록\n",
    "하느님이 보우하사 우리나라 만세\n",
    "무궁화 삼천리 화려강산 대한사람\n",
    "대한으로 길이 보전하세\"\"\")"
   ]
  },
  {
   "attachments": {},
   "cell_type": "markdown",
   "metadata": {},
   "source": [
    "#### 줄바꿈 없이 문자열 만들기"
   ]
  },
  {
   "cell_type": "code",
   "execution_count": 17,
   "metadata": {},
   "outputs": [
    {
     "name": "stdout",
     "output_type": "stream",
     "text": [
      "\n",
      "동해물과 백두산이 마르고 닳도록\n",
      "하느님이 보우하사 우리나라 만세\n",
      "무궁화 삼천리 화려강산 대한사람\n",
      "대한으로 길이 보전하세\n",
      "\n"
     ]
    }
   ],
   "source": [
    "print(\"\"\"\n",
    "동해물과 백두산이 마르고 닳도록\n",
    "하느님이 보우하사 우리나라 만세\n",
    "무궁화 삼천리 화려강산 대한사람\n",
    "대한으로 길이 보전하세\n",
    "\"\"\")"
   ]
  },
  {
   "attachments": {},
   "cell_type": "markdown",
   "metadata": {},
   "source": [
    "위아래로 의도하지 않은 줄바꿈이 들어가버림.  \n",
    "줄바꿈을 하지 않고 코드를 입력하고 싶다면 다음과 같이 \\ 기호를 사용."
   ]
  },
  {
   "cell_type": "code",
   "execution_count": 18,
   "metadata": {},
   "outputs": [
    {
     "name": "stdout",
     "output_type": "stream",
     "text": [
      "동해물과 백두산이 마르고 닳도록\n",
      "하느님이 보우하사 우리나라 만세\n",
      "무궁화 삼천리 화려강산 대한사람\n",
      "대한으로 길이 보전하세\n"
     ]
    }
   ],
   "source": [
    "print(\"\"\"\\\n",
    "동해물과 백두산이 마르고 닳도록\n",
    "하느님이 보우하사 우리나라 만세\n",
    "무궁화 삼천리 화려강산 대한사람\n",
    "대한으로 길이 보전하세\\\n",
    "\"\"\")"
   ]
  },
  {
   "attachments": {},
   "cell_type": "markdown",
   "metadata": {},
   "source": [
    "### 문자열 연산자\n",
    "\n",
    "'숫자'라는 자료에는 더하기, 빼기, 곱하기, 나누기라는 연산자를 적용.  \n",
    "합집합, 교집합, 차집합이라는 연산자는 적용할 수 없음.\n",
    "\n",
    "숫자에는 숫자에만 적용할 수 있는 연산자가 있고, 문자열에는 문자열에만 적용할 수 있는 연산자가 있음."
   ]
  },
  {
   "attachments": {},
   "cell_type": "markdown",
   "metadata": {},
   "source": [
    "#### 문자열 연결 연산자 : +\n",
    "\n",
    "\"문자열\" + \"문자열\"  \n",
    "문자열 연결 연산자는 두 문자열을 연결해서 새로운 문자열을 만들어 내는 것."
   ]
  },
  {
   "cell_type": "code",
   "execution_count": 19,
   "metadata": {},
   "outputs": [
    {
     "name": "stdout",
     "output_type": "stream",
     "text": [
      "안녕하세요\n",
      "안녕하세요!\n"
     ]
    }
   ],
   "source": [
    "print(\"안녕\" + \"하세요\")\n",
    "\n",
    "print(\"안녕하세요\" + \"!\")"
   ]
  },
  {
   "cell_type": "code",
   "execution_count": 20,
   "metadata": {},
   "outputs": [
    {
     "ename": "TypeError",
     "evalue": "can only concatenate str (not \"int\") to str",
     "output_type": "error",
     "traceback": [
      "\u001b[0;31m---------------------------------------------------------------------------\u001b[0m",
      "\u001b[0;31mTypeError\u001b[0m                                 Traceback (most recent call last)",
      "Cell \u001b[0;32mIn[20], line 1\u001b[0m\n\u001b[0;32m----> 1\u001b[0m \u001b[39mprint\u001b[39m(\u001b[39m\"\u001b[39;49m\u001b[39m안녕하세요\u001b[39;49m\u001b[39m\"\u001b[39;49m \u001b[39m+\u001b[39;49m \u001b[39m1\u001b[39;49m)\n",
      "\u001b[0;31mTypeError\u001b[0m: can only concatenate str (not \"int\") to str"
     ]
    }
   ],
   "source": [
    "print(\"안녕하세요\" + 1)"
   ]
  },
  {
   "attachments": {},
   "cell_type": "markdown",
   "metadata": {},
   "source": [
    "문자열은 무조건 문자열끼리 + 기호를 사용해서 연결.  \n",
    "숫자라 하더라도 문자열과 함께 + 연산하려면 큰따옴표를 붙여 문자열로 인식.   \n",
    "숫자를 더할 때는 반드시 숫자와 숫자 사이에 + 기호를 사용해서 연산해야 함."
   ]
  },
  {
   "attachments": {},
   "cell_type": "markdown",
   "metadata": {},
   "source": [
    "#### 문자열 반복 연산자 : *"
   ]
  },
  {
   "cell_type": "code",
   "execution_count": 22,
   "metadata": {},
   "outputs": [
    {
     "name": "stdout",
     "output_type": "stream",
     "text": [
      "안녕하세요안녕하세요안녕하세요\n"
     ]
    }
   ],
   "source": [
    "print(\"안녕하세요\" * 3)"
   ]
  },
  {
   "cell_type": "code",
   "execution_count": 23,
   "metadata": {},
   "outputs": [
    {
     "name": "stdout",
     "output_type": "stream",
     "text": [
      "안녕하세요안녕하세요안녕하세요\n"
     ]
    }
   ],
   "source": [
    "print(3 * \"안녕하세요\")"
   ]
  },
  {
   "attachments": {},
   "cell_type": "markdown",
   "metadata": {},
   "source": [
    "#### 문자 선택 연산자(인덱싱):[]\n",
    "\n",
    "문자 선택 연산자는 문자열 내부의 문자 하나를 선택하는 연산자. 대괄호[] 안에는 선택할 문자의 위치를 지정. 이 숫자를 인덱스(Index)라고 부름.  \n",
    "  \n",
    "숫자를 0부터 세는 제로 인덱스(zero index), 다른 하나는 숫자를 1부터 세는 원 인덱스(one index)로 구분. 파이썬은 제로 인덱스 사용."
   ]
  },
  {
   "attachments": {},
   "cell_type": "markdown",
   "metadata": {},
   "source": [
    "##### 직접 해보는 손코딩 (문자 선택 연산자의 결과 출력하기)"
   ]
  },
  {
   "cell_type": "code",
   "execution_count": 25,
   "metadata": {},
   "outputs": [
    {
     "name": "stdout",
     "output_type": "stream",
     "text": [
      "문자 선택 연산자에 대해 알아볼까요?\n",
      "안\n",
      "녕\n",
      "하\n",
      "세\n",
      "요\n"
     ]
    }
   ],
   "source": [
    "print(\"문자 선택 연산자에 대해 알아볼까요?\")\n",
    "print(\"안녕하세요\"[0])\n",
    "print(\"안녕하세요\"[1])\n",
    "print(\"안녕하세요\"[2])\n",
    "print(\"안녕하세요\"[3])\n",
    "print(\"안녕하세요\"[4])"
   ]
  },
  {
   "attachments": {},
   "cell_type": "markdown",
   "metadata": {},
   "source": [
    "대괄호 안의 숫자를 음수로 입력하면 뒤에서부터 선택할 수 있음."
   ]
  },
  {
   "attachments": {},
   "cell_type": "markdown",
   "metadata": {},
   "source": [
    "##### 직접해보는 손코딩 (뒤에서 부터 선택하기)"
   ]
  },
  {
   "cell_type": "code",
   "execution_count": 26,
   "metadata": {},
   "outputs": [
    {
     "name": "stdout",
     "output_type": "stream",
     "text": [
      "문자를 뒤에서부터 선택해 볼까요?\n",
      "요\n",
      "세\n",
      "하\n",
      "녕\n",
      "안\n"
     ]
    }
   ],
   "source": [
    "print(\"문자를 뒤에서부터 선택해 볼까요?\")\n",
    "print(\"안녕하세요\"[-1])\n",
    "print(\"안녕하세요\"[-2])\n",
    "print(\"안녕하세요\"[-3])\n",
    "print(\"안녕하세요\"[-4])\n",
    "print(\"안녕하세요\"[-5])"
   ]
  },
  {
   "attachments": {},
   "cell_type": "markdown",
   "metadata": {},
   "source": [
    "##### 문자열 범위 선택 연산자 (슬라이싱): [:]"
   ]
  },
  {
   "cell_type": "code",
   "execution_count": 27,
   "metadata": {},
   "outputs": [
    {
     "name": "stdout",
     "output_type": "stream",
     "text": [
      "녕하세\n"
     ]
    }
   ],
   "source": [
    "print(\"안녕하세요\"[1:4])"
   ]
  },
  {
   "attachments": {},
   "cell_type": "markdown",
   "metadata": {},
   "source": [
    "파이썬은 '마지막 숫자를 포함하지 않음'으로 적용."
   ]
  },
  {
   "cell_type": "code",
   "execution_count": 28,
   "metadata": {},
   "outputs": [
    {
     "name": "stdout",
     "output_type": "stream",
     "text": [
      "안녕\n",
      "녕하\n",
      "하세\n"
     ]
    }
   ],
   "source": [
    "print(\"안녕하세요\"[0:2])\n",
    "print(\"안녕하세요\"[1:3])\n",
    "print(\"안녕하세요\"[2:4])"
   ]
  },
  {
   "attachments": {},
   "cell_type": "markdown",
   "metadata": {},
   "source": [
    "뒤의 값을 생략할 때는 자동으로 가장 최대 위치(마지막 글자)까지, 앞의 값을 생략할 때는 가장 앞쪽의 위치(첫번째 글자)까지 지정.  \n",
    "[1:]  \n",
    "[:3]"
   ]
  },
  {
   "cell_type": "code",
   "execution_count": 29,
   "metadata": {},
   "outputs": [
    {
     "name": "stdout",
     "output_type": "stream",
     "text": [
      "녕하세요\n",
      "안녕하\n"
     ]
    }
   ],
   "source": [
    "print(\"안녕하세요\"[1:])\n",
    "print(\"안녕하세요\"[:3])"
   ]
  },
  {
   "attachments": {},
   "cell_type": "markdown",
   "metadata": {},
   "source": [
    "[]기호를 이용해 문자열의 특정위치에 있는 문자를 참조하는 것을 인덱싱(indexing)이라고 함. [:] 기호를 이용해 문자열의 일부를 추출하는 것을 슬라이싱(slicing)이라고 함.  \n",
    "\n",
    "  \n",
    "문자열 선택 연산자로 슬라이스를 하더라도 원본은 변하지 않는 것을 기억해야 함."
   ]
  },
  {
   "cell_type": "code",
   "execution_count": 31,
   "metadata": {},
   "outputs": [
    {
     "name": "stdout",
     "output_type": "stream",
     "text": [
      "안녕\n"
     ]
    }
   ],
   "source": [
    "hello = \"안녕하세요\"\n",
    "print(hello[0:2])"
   ]
  },
  {
   "cell_type": "code",
   "execution_count": 32,
   "metadata": {},
   "outputs": [
    {
     "data": {
      "text/plain": [
       "'안녕하세요'"
      ]
     },
     "execution_count": 32,
     "metadata": {},
     "output_type": "execute_result"
    }
   ],
   "source": [
    "hello"
   ]
  },
  {
   "attachments": {},
   "cell_type": "markdown",
   "metadata": {},
   "source": [
    "#### IndexError(index out of range) 예외\n",
    "\n",
    "프로그래밍을 할 때 가장 많이 만나는 예외 중에 하나를 꼽으라면 바로 IndexError 예외.  \n",
    "IndexError 예외는 리스트 / 문자열의 수를 넘는 요소/글자를 선택할 때 발생."
   ]
  },
  {
   "cell_type": "code",
   "execution_count": 33,
   "metadata": {},
   "outputs": [
    {
     "ename": "IndexError",
     "evalue": "string index out of range",
     "output_type": "error",
     "traceback": [
      "\u001b[0;31m---------------------------------------------------------------------------\u001b[0m",
      "\u001b[0;31mIndexError\u001b[0m                                Traceback (most recent call last)",
      "Cell \u001b[0;32mIn[33], line 1\u001b[0m\n\u001b[0;32m----> 1\u001b[0m \u001b[39mprint\u001b[39m(\u001b[39m\"\u001b[39;49m\u001b[39m안녕하세요\u001b[39;49m\u001b[39m\"\u001b[39;49m[\u001b[39m10\u001b[39;49m])\n",
      "\u001b[0;31mIndexError\u001b[0m: string index out of range"
     ]
    }
   ],
   "source": [
    "print(\"안녕하세요\"[10])"
   ]
  },
  {
   "attachments": {},
   "cell_type": "markdown",
   "metadata": {},
   "source": [
    "### 문자열의 길이 구하기\n",
    "\n",
    "문자열의 길이를 구할 때는 len() 함수를 사용.  \n",
    "'문자열에 들어있는 문자의 개수(=문자열의 길이)'를 세어 줍니다."
   ]
  },
  {
   "cell_type": "code",
   "execution_count": 35,
   "metadata": {},
   "outputs": [
    {
     "name": "stdout",
     "output_type": "stream",
     "text": [
      "5\n"
     ]
    }
   ],
   "source": [
    "print(len(\"안녕하세요\"))"
   ]
  },
  {
   "attachments": {},
   "cell_type": "markdown",
   "metadata": {},
   "source": [
    "## 2.2 숫자\n",
    "\n",
    "소수점이 없는 숫자를 정수형이라 하고, 소수점이 있는 숫자를 실수형이라 함.  \n",
    "  \n",
    "주의할 점은 0은 소수점이 없는 숫자이고, 0.0은 소수점이 있는 숫자.  \n",
    "소수점이 있느냐에 따라서 숫자의 자료형이 달라지기 때문에 주의해야합니다.  \n",
    "'소수점이 움직이는 숫자'라는 의미로 부동 소수점\n",
    "\n",
    "### 숫자의 종류"
   ]
  },
  {
   "cell_type": "code",
   "execution_count": 36,
   "metadata": {},
   "outputs": [
    {
     "name": "stdout",
     "output_type": "stream",
     "text": [
      "273\n",
      "52.273\n"
     ]
    }
   ],
   "source": [
    "print(273)\n",
    "\n",
    "print(52.273)"
   ]
  },
  {
   "attachments": {},
   "cell_type": "markdown",
   "metadata": {},
   "source": [
    "type()은 괄호 안에 입력한 자료의 유형을 알려주는 함수"
   ]
  },
  {
   "cell_type": "code",
   "execution_count": 37,
   "metadata": {},
   "outputs": [
    {
     "name": "stdout",
     "output_type": "stream",
     "text": [
      "<class 'int'>\n",
      "<class 'float'>\n"
     ]
    }
   ],
   "source": [
    "print(type(52))\n",
    "print(type(52.273))"
   ]
  },
  {
   "attachments": {},
   "cell_type": "markdown",
   "metadata": {},
   "source": [
    "int는 integer의 앞 세 글자를 떼어낸 것으로 정수를 의미.  \n",
    "float는 floating point의 앞 단어에서 가져온 것으로 부동 소수점(실수)를 의미."
   ]
  },
  {
   "cell_type": "code",
   "execution_count": 38,
   "metadata": {},
   "outputs": [
    {
     "name": "stdout",
     "output_type": "stream",
     "text": [
      "0\n",
      "<class 'int'>\n",
      "0.0\n",
      "<class 'float'>\n"
     ]
    }
   ],
   "source": [
    "print(0)\n",
    "print(type(0))\n",
    "print(0.0)\n",
    "print(type(0.0))"
   ]
  },
  {
   "cell_type": "code",
   "execution_count": 39,
   "metadata": {},
   "outputs": [
    {
     "name": "stdout",
     "output_type": "stream",
     "text": [
      "5 + 7 =  12\n",
      "5 - 7 =  -2\n",
      "5 * 7 =  35\n",
      "5 / 7 =  0.7142857142857143\n"
     ]
    }
   ],
   "source": [
    "print(\"5 + 7 = \", 5 + 7)\n",
    "print(\"5 - 7 = \", 5 - 7)\n",
    "print(\"5 * 7 = \", 5 * 7)\n",
    "print(\"5 / 7 = \", 5 / 7)"
   ]
  },
  {
   "attachments": {},
   "cell_type": "markdown",
   "metadata": {},
   "source": [
    "#### 정수 나누기 연산자: //\n",
    "\n",
    "숫자를 나누고 소수점 이하의 자릿수를 떼어 버린 후, 정수 부분만 남기는 정수 나누기 연산자."
   ]
  },
  {
   "cell_type": "code",
   "execution_count": 40,
   "metadata": {},
   "outputs": [
    {
     "name": "stdout",
     "output_type": "stream",
     "text": [
      "3 / 2 =  1.5\n",
      "3 // 2 =  1\n"
     ]
    }
   ],
   "source": [
    "print(\"3 / 2 = \", 3 / 2)\n",
    "print(\"3 // 2 = \", 3 // 2)"
   ]
  },
  {
   "attachments": {},
   "cell_type": "markdown",
   "metadata": {},
   "source": [
    "// 연산자를 사용한 수식의 결과는 소수점 아래를 떼어 버린 값이 출력되는 것을 확인 할 수 있습니다."
   ]
  },
  {
   "attachments": {},
   "cell_type": "markdown",
   "metadata": {},
   "source": [
    "#### 나머지 연산자 : %\n",
    "\n",
    "나머지 연산자는 A를 B로 나누었을 때 남은 나머지를 구하는 연산자."
   ]
  },
  {
   "cell_type": "code",
   "execution_count": 41,
   "metadata": {},
   "outputs": [
    {
     "name": "stdout",
     "output_type": "stream",
     "text": [
      "5 % 2 =  1\n"
     ]
    }
   ],
   "source": [
    "print(\"5 % 2 = \", 5 % 2)"
   ]
  },
  {
   "attachments": {},
   "cell_type": "markdown",
   "metadata": {},
   "source": [
    "#### 제곱 연산자 : **\n",
    "\n",
    "파이썬에는 숫자를 제곱하는 **연산자가 있음."
   ]
  },
  {
   "cell_type": "code",
   "execution_count": 44,
   "metadata": {},
   "outputs": [
    {
     "name": "stdout",
     "output_type": "stream",
     "text": [
      "2 ** 1 = 2\n",
      "2 ** 2 = 4\n",
      "2 ** 3 = 8\n",
      "2 ** 4 = 16\n"
     ]
    }
   ],
   "source": [
    "print(\"2 ** 1 =\", 2 ** 1)\n",
    "print(\"2 ** 2 =\", 2 ** 2)\n",
    "print(\"2 ** 3 =\", 2 ** 3)\n",
    "print(\"2 ** 4 =\", 2 ** 4)"
   ]
  },
  {
   "attachments": {},
   "cell_type": "markdown",
   "metadata": {},
   "source": [
    "### 연산자의 우선순위"
   ]
  },
  {
   "cell_type": "code",
   "execution_count": 47,
   "metadata": {},
   "outputs": [
    {
     "name": "stdout",
     "output_type": "stream",
     "text": [
      "0.0\n",
      "4.0\n"
     ]
    }
   ],
   "source": [
    "print(2 + 2 - 2 * 2 / 2 * 2)\n",
    "print(2 - 2 + 2 / 2 * 2 + 2)"
   ]
  },
  {
   "cell_type": "code",
   "execution_count": 48,
   "metadata": {},
   "outputs": [
    {
     "data": {
      "text/plain": [
       "16"
      ]
     },
     "execution_count": 48,
     "metadata": {},
     "output_type": "execute_result"
    }
   ],
   "source": [
    "(5 + 3) * 2"
   ]
  },
  {
   "cell_type": "code",
   "execution_count": 49,
   "metadata": {},
   "outputs": [
    {
     "data": {
      "text/plain": [
       "11"
      ]
     },
     "execution_count": 49,
     "metadata": {},
     "output_type": "execute_result"
    }
   ],
   "source": [
    "5 + (3 * 2)"
   ]
  },
  {
   "attachments": {},
   "cell_type": "markdown",
   "metadata": {},
   "source": [
    "#### TypeError 예외\n",
    "\n",
    "서로 다른 자료를 연산하면 TypeError라는 예외가 발생."
   ]
  },
  {
   "cell_type": "code",
   "execution_count": 50,
   "metadata": {},
   "outputs": [
    {
     "ename": "TypeError",
     "evalue": "can only concatenate str (not \"int\") to str",
     "output_type": "error",
     "traceback": [
      "\u001b[0;31m---------------------------------------------------------------------------\u001b[0m",
      "\u001b[0;31mTypeError\u001b[0m                                 Traceback (most recent call last)",
      "Cell \u001b[0;32mIn[50], line 3\u001b[0m\n\u001b[1;32m      1\u001b[0m string \u001b[39m=\u001b[39m \u001b[39m\"\u001b[39m\u001b[39m문자열\u001b[39m\u001b[39m\"\u001b[39m\n\u001b[1;32m      2\u001b[0m number \u001b[39m=\u001b[39m \u001b[39m273\u001b[39m\n\u001b[0;32m----> 3\u001b[0m string \u001b[39m+\u001b[39;49m number\n",
      "\u001b[0;31mTypeError\u001b[0m: can only concatenate str (not \"int\") to str"
     ]
    }
   ],
   "source": [
    "string = \"문자열\"\n",
    "number = 273\n",
    "string + number"
   ]
  },
  {
   "attachments": {},
   "cell_type": "markdown",
   "metadata": {},
   "source": [
    "문자열은 + 연산자를 '문자열 연결 연산자'로 사용하려고 하고, 숫자는 + 연산자를 '덧셈 연산자'로 사용하려다 보니 충돌이 발생."
   ]
  },
  {
   "attachments": {},
   "cell_type": "markdown",
   "metadata": {},
   "source": [
    "##### 문자열 연산자의 우선순위\n",
    "\n",
    "문자열에 적용하는 연산자도 우선순위를 갖습니다.\n",
    "\n",
    "문자열도 곱셈 연산자와 같은 * 기호가 우선한다는 것을 알 수 있음."
   ]
  },
  {
   "attachments": {},
   "cell_type": "markdown",
   "metadata": {},
   "source": [
    "## 2.3 변수와 입력\n",
    "\n",
    "변수는 값을 저장할 때 사용하는 식별자.\n",
    "\n",
    "### 변수 만들기/사용하기"
   ]
  },
  {
   "cell_type": "code",
   "execution_count": 51,
   "metadata": {},
   "outputs": [
    {
     "data": {
      "text/plain": [
       "3.14159265"
      ]
     },
     "execution_count": 51,
     "metadata": {},
     "output_type": "execute_result"
    }
   ],
   "source": [
    "pi = 3.14159265\n",
    "pi"
   ]
  },
  {
   "attachments": {},
   "cell_type": "markdown",
   "metadata": {},
   "source": [
    "##### 첫째, 변수를 선언하는 방법\n",
    "\n",
    "##### 둘째, 변수에 값을 할당하는 방법\n",
    "\n",
    "= 기호는 '같다'는 의미가 아니라 우변의 값을 좌변에 '넣겠다', '할당하겠다'를 의미.\n",
    "\n",
    "##### 셋째, 변수를 참조하는 방법\n",
    "\n",
    "변수에서 값을 꺼내는 것을 의미. 변수 안에 있는 값을 사용하는 것을 '변수 참조'\n",
    "\n",
    "변수 = 값"
   ]
  },
  {
   "cell_type": "code",
   "execution_count": 52,
   "metadata": {},
   "outputs": [],
   "source": [
    "pi = 3.14159265"
   ]
  },
  {
   "attachments": {},
   "cell_type": "markdown",
   "metadata": {},
   "source": [
    "- 변수에 저장된 값을 출력합니다.\n",
    "> 변수\n",
    "- 변수에 저장된 값으로 연산합니다.\n",
    "> 변수 + 변수\n",
    "- 변수에 저장된 값을 출력합니다.\n",
    "> print(변수)"
   ]
  },
  {
   "cell_type": "code",
   "execution_count": 53,
   "metadata": {},
   "outputs": [
    {
     "data": {
      "text/plain": [
       "5.14159265"
      ]
     },
     "execution_count": 53,
     "metadata": {},
     "output_type": "execute_result"
    }
   ],
   "source": [
    "pi = 3.14159265\n",
    "pi + 2"
   ]
  },
  {
   "cell_type": "code",
   "execution_count": 55,
   "metadata": {},
   "outputs": [
    {
     "data": {
      "text/plain": [
       "1.1415926500000002"
      ]
     },
     "execution_count": 55,
     "metadata": {},
     "output_type": "execute_result"
    }
   ],
   "source": [
    "pi - 2"
   ]
  },
  {
   "cell_type": "code",
   "execution_count": 57,
   "metadata": {},
   "outputs": [
    {
     "data": {
      "text/plain": [
       "6.2831853"
      ]
     },
     "execution_count": 57,
     "metadata": {},
     "output_type": "execute_result"
    }
   ],
   "source": [
    "pi * 2"
   ]
  },
  {
   "cell_type": "code",
   "execution_count": 59,
   "metadata": {},
   "outputs": [
    {
     "data": {
      "text/plain": [
       "1.570796325"
      ]
     },
     "execution_count": 59,
     "metadata": {},
     "output_type": "execute_result"
    }
   ],
   "source": [
    "pi / 2"
   ]
  },
  {
   "cell_type": "code",
   "execution_count": 60,
   "metadata": {},
   "outputs": [
    {
     "data": {
      "text/plain": [
       "1.1415926500000002"
      ]
     },
     "execution_count": 60,
     "metadata": {},
     "output_type": "execute_result"
    }
   ],
   "source": [
    "pi % 2"
   ]
  },
  {
   "cell_type": "code",
   "execution_count": 61,
   "metadata": {},
   "outputs": [
    {
     "data": {
      "text/plain": [
       "9.869604378534024"
      ]
     },
     "execution_count": 61,
     "metadata": {},
     "output_type": "execute_result"
    }
   ],
   "source": [
    "pi * pi"
   ]
  },
  {
   "attachments": {},
   "cell_type": "markdown",
   "metadata": {},
   "source": [
    "pi는 숫자 자료이기 때문에 숫자와 문자열을 연산하는 것은 당연히 안됩니다.\n",
    "> pi + \"문자열\""
   ]
  },
  {
   "attachments": {},
   "cell_type": "markdown",
   "metadata": {},
   "source": [
    "##### 직접 해보는 손코딩 (원의 둘레와 넓이 구하기)"
   ]
  },
  {
   "cell_type": "code",
   "execution_count": 62,
   "metadata": {},
   "outputs": [
    {
     "name": "stdout",
     "output_type": "stream",
     "text": [
      "원주율 = 3.14159265\n",
      "반지름 = 10\n",
      "원의 둘레 = 62.831853\n",
      "원의 넓이 = 314.159265\n"
     ]
    }
   ],
   "source": [
    "# 변수 선언과 할당\n",
    "pi = 3.14159265\n",
    "r = 10\n",
    "\n",
    "# 변수 참조\n",
    "print(\"원주율 =\", pi)\n",
    "print(\"반지름 =\", r)\n",
    "print(\"원의 둘레 =\", 2 * pi * r) # 원의 둘레\n",
    "print(\"원의 넓이 =\", pi * r * r) # 원의 넓이"
   ]
  },
  {
   "attachments": {},
   "cell_type": "markdown",
   "metadata": {},
   "source": [
    "##### 여기서 잠깐 (파이썬의 유연성)\n",
    "\n",
    "자바, c의 경우에는 기본적으로 변수를 사용할 때 변수의 자료형에 대해 미리 선언해 주어야 함.\n",
    "\n",
    "파이썬은 다른 프로그래밍 언어와는 다르게 변수에 자료형을 지정하지 않습니다. 이러한 유연성 때문에 변수에 어떠한 자료형이 들어 있는지 모르고 실수해서 실행 중에 TypeError를 발생할 확률이 높습니다.  \n",
    "그러므로 하나의 변수에는 되도록 하나의 자료형을 넣어 활용하는 것이 좋습니다."
   ]
  },
  {
   "attachments": {},
   "cell_type": "markdown",
   "metadata": {},
   "source": [
    "### 복합 대입 연산자\n",
    "\n",
    "변수를 활용하면 기존의 연산자와 조합해서 사용할 수 있는 연산자가 있습니다. 이를 복합 대입 연산자라고 부릅니다.\n",
    "\n",
    "복합 대입 연산자는 자료형에 적용하는 기본 연산자와 = 연산자를 함께 사용해 다음과 같이 구성하는 연산자.\n",
    "\n",
    "> a += 10"
   ]
  },
  {
   "cell_type": "code",
   "execution_count": 63,
   "metadata": {},
   "outputs": [
    {
     "name": "stdout",
     "output_type": "stream",
     "text": [
      "number: 160\n"
     ]
    }
   ],
   "source": [
    "number = 100\n",
    "number += 10\n",
    "number += 20\n",
    "number += 30\n",
    "print(\"number:\", number)"
   ]
  },
  {
   "cell_type": "code",
   "execution_count": 64,
   "metadata": {},
   "outputs": [
    {
     "name": "stdout",
     "output_type": "stream",
     "text": [
      "string: 안녕하세요!!\n"
     ]
    }
   ],
   "source": [
    "string = \"안녕하세요\"\n",
    "string += \"!\"\n",
    "string += \"!\"\n",
    "print(\"string:\", string)"
   ]
  },
  {
   "attachments": {},
   "cell_type": "markdown",
   "metadata": {},
   "source": [
    "### 사용자 입력 : input()\n",
    "\n",
    "파이썬은 명령 프롬프트에서 사용자로부터 데이터를 입력받을 때 input() 함수를 사용.\n",
    "\n",
    "#### input() 함수로 사용자 입력받기\n",
    "input 함수 괄호 안에 입력한 내용을 프롬프트 문자열이라고 합니다."
   ]
  },
  {
   "cell_type": "code",
   "execution_count": 69,
   "metadata": {},
   "outputs": [
    {
     "data": {
      "text/plain": [
       "'안녕하세요'"
      ]
     },
     "execution_count": 69,
     "metadata": {},
     "output_type": "execute_result"
    }
   ],
   "source": [
    "input(\"인사말을 입력하세요> \")"
   ]
  },
  {
   "attachments": {},
   "cell_type": "markdown",
   "metadata": {},
   "source": [
    "프로그램이 실행 도중 잠시 멈추는 것을 블록(block)이라고 함. input() 함수가 사용자에게 자료 입력을 요구하면서 코드 진행을 블록하고 있다고 할 수 있음."
   ]
  },
  {
   "cell_type": "code",
   "execution_count": 71,
   "metadata": {},
   "outputs": [
    {
     "name": "stdout",
     "output_type": "stream",
     "text": [
      "안녕하세요\n"
     ]
    }
   ],
   "source": [
    "string = input(\"인사말을 입력하세요> \")\n",
    "print(string)"
   ]
  },
  {
   "attachments": {},
   "cell_type": "markdown",
   "metadata": {},
   "source": [
    "input과 같이 함수의 결과로 나오는 값을 리턴값이라고 합ㄴ디ㅏ.\n",
    "\n",
    "#### input() 함수의 입력 자료형"
   ]
  },
  {
   "cell_type": "code",
   "execution_count": 72,
   "metadata": {},
   "outputs": [
    {
     "name": "stdout",
     "output_type": "stream",
     "text": [
      "<class 'str'>\n"
     ]
    }
   ],
   "source": [
    "print(type(string))"
   ]
  },
  {
   "cell_type": "code",
   "execution_count": 73,
   "metadata": {},
   "outputs": [
    {
     "name": "stdout",
     "output_type": "stream",
     "text": [
      "12345\n"
     ]
    }
   ],
   "source": [
    "number = input(\"숫자를 입력하세요> \")\n",
    "\n",
    "print(number)"
   ]
  },
  {
   "cell_type": "code",
   "execution_count": 74,
   "metadata": {},
   "outputs": [
    {
     "name": "stdout",
     "output_type": "stream",
     "text": [
      "<class 'str'>\n"
     ]
    }
   ],
   "source": [
    "print(type(number))"
   ]
  },
  {
   "attachments": {},
   "cell_type": "markdown",
   "metadata": {},
   "source": [
    "input()함수는 사용자가 무엇을 입력해도 결과는 무조건 문자열 자료형입니다. number에 대입한 12345도 'str'로 확인됩니다. True나 False와 같은 불(boolean)값도 모두 문자열로 나옴."
   ]
  },
  {
   "attachments": {},
   "cell_type": "markdown",
   "metadata": {},
   "source": [
    "##### 직접 해보는 손코딩 (입력 자료형 확인하기)"
   ]
  },
  {
   "cell_type": "code",
   "execution_count": 77,
   "metadata": {},
   "outputs": [
    {
     "name": "stdout",
     "output_type": "stream",
     "text": [
      "자료: True\n",
      "자료형 <class 'str'>\n"
     ]
    }
   ],
   "source": [
    "# 입력을 받습니다\n",
    "string = input(\"입력 > \")\n",
    "\n",
    "# 출력합니다\n",
    "print(\"자료:\", string)\n",
    "print(\"자료형\", type(string))"
   ]
  },
  {
   "attachments": {},
   "cell_type": "markdown",
   "metadata": {},
   "source": [
    "파이썬은 문자열은 문자열끼리 연산, 숫자는 숫자끼리 연산\n",
    "\n",
    "##### 직접 해보는 손코딩 (입력받고 더하기)"
   ]
  },
  {
   "cell_type": "code",
   "execution_count": 78,
   "metadata": {},
   "outputs": [
    {
     "ename": "TypeError",
     "evalue": "can only concatenate str (not \"int\") to str",
     "output_type": "error",
     "traceback": [
      "\u001b[0;31m---------------------------------------------------------------------------\u001b[0m",
      "\u001b[0;31mTypeError\u001b[0m                                 Traceback (most recent call last)",
      "Cell \u001b[0;32mIn[78], line 5\u001b[0m\n\u001b[1;32m      2\u001b[0m string \u001b[39m=\u001b[39m \u001b[39minput\u001b[39m(\u001b[39m\"\u001b[39m\u001b[39m입력> \u001b[39m\u001b[39m\"\u001b[39m)\n\u001b[1;32m      4\u001b[0m \u001b[39m# 출력합니다\u001b[39;00m\n\u001b[0;32m----> 5\u001b[0m \u001b[39mprint\u001b[39m(\u001b[39m\"\u001b[39m\u001b[39m입력 + 100:\u001b[39m\u001b[39m\"\u001b[39m, string \u001b[39m+\u001b[39;49m \u001b[39m100\u001b[39;49m)\n",
      "\u001b[0;31mTypeError\u001b[0m: can only concatenate str (not \"int\") to str"
     ]
    }
   ],
   "source": [
    "# 입력을 받습니다\n",
    "string = input(\"입력> \")\n",
    "\n",
    "# 출력합니다\n",
    "print(\"입력 + 100:\", string + 100)\n"
   ]
  },
  {
   "attachments": {},
   "cell_type": "markdown",
   "metadata": {},
   "source": [
    "input()함수로 입력받은 자료는 모두 문자열로 저장되므로 \"300\" + 100이 되어 문자열과 숫자는 더할 수 없어 발생한 에러입니다."
   ]
  },
  {
   "attachments": {},
   "cell_type": "markdown",
   "metadata": {},
   "source": [
    "### 문자열을 숫자로 바꾸기\n",
    "\n",
    "input() 함수의 입력 자료형은 항상 문자열이기 때문에 입력받은 문장령르 숫자로 변환해야 숫자연산에 활용할 수 있음. -> 캐스트(cast)\n",
    "\n",
    "- int() 함수 : 문자열을 int 자료형으로 변환합니다.\n",
    "- float() 함수 : 문자열을 float 자료형으로 변환합니다.\n",
    "\n",
    "##### 직접 해보는 손코딩 (int()함수 활용하기)"
   ]
  },
  {
   "cell_type": "code",
   "execution_count": 79,
   "metadata": {},
   "outputs": [
    {
     "name": "stdout",
     "output_type": "stream",
     "text": [
      "문자열 자료: 27352\n",
      "숫자 자료: 325\n"
     ]
    }
   ],
   "source": [
    "string_a = input(\"입력A> \")\n",
    "int_a = int(string_a)\n",
    "\n",
    "string_b = input(\"입력B> \")\n",
    "int_b = int(string_b)\n",
    "\n",
    "print(\"문자열 자료:\", string_a + string_b)\n",
    "print(\"숫자 자료:\", int_a + int_b)"
   ]
  },
  {
   "attachments": {},
   "cell_type": "markdown",
   "metadata": {},
   "source": [
    "##### 직접 해보는 손코딩 (int()함수와 float()함수 활용하기)"
   ]
  },
  {
   "cell_type": "code",
   "execution_count": 80,
   "metadata": {},
   "outputs": [
    {
     "name": "stdout",
     "output_type": "stream",
     "text": [
      "<class 'int'> 52\n",
      "<class 'float'> 52.273\n"
     ]
    }
   ],
   "source": [
    "output_a = int(\"52\")\n",
    "output_b = float(\"52.273\")\n",
    "\n",
    "print(type(output_a), output_a)\n",
    "print(type(output_b), output_b)"
   ]
  },
  {
   "attachments": {},
   "cell_type": "markdown",
   "metadata": {},
   "source": [
    "##### 직접 해보는 손코딩 (int()함수와 float()함수 조합하기)"
   ]
  },
  {
   "cell_type": "code",
   "execution_count": 81,
   "metadata": {},
   "outputs": [
    {
     "name": "stdout",
     "output_type": "stream",
     "text": [
      "덧셈 결과: 325.0\n",
      "뺄셈 결과: 221.0\n",
      "곱셈 결과: 14196.0\n",
      "나눗셈 결과: 5.25\n"
     ]
    }
   ],
   "source": [
    "input_a = float(input(\"첫 번째 숫자> \"))\n",
    "input_b = float(input(\"두 번째 숫자> \"))\n",
    "\n",
    "print(\"덧셈 결과:\", input_a + input_b)\n",
    "print(\"뺄셈 결과:\", input_a - input_b)\n",
    "print(\"곱셈 결과:\", input_a * input_b)\n",
    "print(\"나눗셈 결과:\", input_a / input_b)"
   ]
  },
  {
   "attachments": {},
   "cell_type": "markdown",
   "metadata": {},
   "source": [
    "#### ValueError 예외\n",
    "\n",
    "자료형을 변환할 때 '변환할 수 없는 것'을 변환하려고 하면 ValueError 예외가 발생.\n",
    "\n",
    "첫째, 숫자가 아닌 것을 숫자로 변환하려고 할 때\n",
    "> int(\"안녕하세요\")\n",
    "> float(\"안녕하세요\")\n",
    "\n",
    "\"안녕하세요\"라는 문자열은 int() 함수로 변환할 수 없는 값이기 때문. int() 함수와 float() 함수는 매개변수로 변환할 수 없는 형태가 들어가면 항상 오류를 발생시킴."
   ]
  },
  {
   "attachments": {},
   "cell_type": "markdown",
   "metadata": {},
   "source": [
    "둘째, 소수점이 있는 숫자 형식의 문자열을 int() 함수로 변환하려고 할 때\n",
    "> int(\"52.273)\n",
    "\n",
    "int는 정수인데, 부동 소수점이 있는 자료를 정수로 바꾸라 하면, 이 또한 에러가 발생."
   ]
  },
  {
   "attachments": {},
   "cell_type": "markdown",
   "metadata": {},
   "source": [
    "##### 문제 해결\n",
    "\n",
    "int() 함수는 부동 소수점 자료형을 정수로 변환하지 못하지만, float() 함수가 의미하는 실수는 정수도 포함하고 있기 때문에 정수, 실수 구분없이 사용할 수 있음.\n",
    "\n",
    "### 숫자를 문자열로 바꾸기\n",
    "\n",
    "str() 함수는 앞서 했던 int() 그리고 float() 함수와 비슷한 형태를 가집니다. 즉, 다른 자료형의 값을 str() 함수의 매개변수에 넣으면 문자열로 변환됩니다.\n",
    "> str(다른 자료형)\n",
    "\n",
    "##### 직접 해보는 손코딩 (str() 함수를 사용해 숫자를 문자열로 변환하기)"
   ]
  },
  {
   "cell_type": "code",
   "execution_count": 82,
   "metadata": {},
   "outputs": [
    {
     "name": "stdout",
     "output_type": "stream",
     "text": [
      "<class 'str'> 52\n",
      "<class 'str'> 52.273\n"
     ]
    }
   ],
   "source": [
    "output_a = str(52)\n",
    "output_b = str(52.273)\n",
    "print(type(output_a), output_a)\n",
    "print(type(output_b), output_b)"
   ]
  },
  {
   "attachments": {},
   "cell_type": "markdown",
   "metadata": {},
   "source": [
    "## 2.4 숫자와 문자열의 다양한 기능\n",
    "\n",
    "문자열 뒤에 마침표(.)를 입력해 보면 자동 완성 기능으로 다양한 것들이 나옵니다.\n",
    "\n",
    "### 문자열의 format() 함수\n",
    "\n",
    "#### format()\n",
    "\n",
    "format() 함수는 문자열이 가지고 있는 함수.  \n",
    "중괄호{}를 포함한 문자열 뒤 마침표(.)를 찍고 format() 함수를 사용하는데, 중괄호의 개수와 format 함수 괄호 안 매개변수의 개수는 반드시 같아야 함.\n",
    "\n",
    "> \"{}\".format(10)  \n",
    "> \"{} {}\".format(10, 20)  \n",
    "> \"{} {} {} {} {}\".format(101, 202, 303, 404, 505)"
   ]
  },
  {
   "attachments": {},
   "cell_type": "markdown",
   "metadata": {},
   "source": [
    "##### 직접 해보는 손코딩 (format()함수로 숫자를 문자열로 반환하기)"
   ]
  },
  {
   "cell_type": "code",
   "execution_count": 1,
   "metadata": {},
   "outputs": [
    {
     "name": "stdout",
     "output_type": "stream",
     "text": [
      "10\n",
      "<class 'str'>\n"
     ]
    }
   ],
   "source": [
    "# format()함수로 숫자를 문자열로 변환하기\n",
    "string_a = \"{}\".format(10)\n",
    "\n",
    "# 출력하기\n",
    "print(string_a)\n",
    "print(type(string_a))"
   ]
  },
  {
   "attachments": {},
   "cell_type": "markdown",
   "metadata": {},
   "source": [
    "##### 직접 해보는 손코딩 (format()함수의 다양한 형태)"
   ]
  },
  {
   "cell_type": "code",
   "execution_count": 2,
   "metadata": {},
   "outputs": [
    {
     "name": "stdout",
     "output_type": "stream",
     "text": [
      "5000만 원\n",
      "파이썬 열공하여 첫 연봉 5000만 원 만들기\n",
      "3000 4000 5000\n",
      "1 문자열 True\n"
     ]
    }
   ],
   "source": [
    "# format() 함수로 숫자를 문자열로 변환하기\n",
    "format_a = \"{}만 원\".format(5000)\n",
    "format_b = \"파이썬 열공하여 첫 연봉 {}만 원 만들기\".format(5000)\n",
    "format_c = \"{} {} {}\".format(3000, 4000, 5000)\n",
    "format_d = \"{} {} {}\".format(1, \"문자열\", True)\n",
    "\n",
    "# 출력하기\n",
    "print(format_a)\n",
    "print(format_b)\n",
    "print(format_c)\n",
    "print(format_d)"
   ]
  },
  {
   "attachments": {},
   "cell_type": "markdown",
   "metadata": {},
   "source": [
    "##### IndexError 예외\n",
    "{} 기호의 개수가 format()함수의 매개변수 개수보다 많으면 indexError 예외가 발생.  \n",
    "매개변수가 {}보다 많은 경우로 {}개수 만큼 적용. 나머지 매개 변수는 버려짐."
   ]
  },
  {
   "cell_type": "code",
   "execution_count": 4,
   "metadata": {},
   "outputs": [
    {
     "data": {
      "text/plain": [
       "'1 2'"
      ]
     },
     "execution_count": 4,
     "metadata": {},
     "output_type": "execute_result"
    }
   ],
   "source": [
    "\"{} {}\".format(1,2,3,4,5)"
   ]
  },
  {
   "cell_type": "code",
   "execution_count": 5,
   "metadata": {},
   "outputs": [
    {
     "ename": "IndexError",
     "evalue": "Replacement index 2 out of range for positional args tuple",
     "output_type": "error",
     "traceback": [
      "\u001b[0;31m---------------------------------------------------------------------------\u001b[0m",
      "\u001b[0;31mIndexError\u001b[0m                                Traceback (most recent call last)",
      "Cell \u001b[0;32mIn[5], line 1\u001b[0m\n\u001b[0;32m----> 1\u001b[0m \u001b[39m\"\u001b[39;49m\u001b[39m{}\u001b[39;49;00m\u001b[39m \u001b[39;49m\u001b[39m{}\u001b[39;49;00m\u001b[39m \u001b[39;49m\u001b[39m{}\u001b[39;49;00m\u001b[39m\"\u001b[39;49m\u001b[39m.\u001b[39;49mformat(\u001b[39m1\u001b[39;49m,\u001b[39m2\u001b[39;49m)\n",
      "\u001b[0;31mIndexError\u001b[0m: Replacement index 2 out of range for positional args tuple"
     ]
    }
   ],
   "source": [
    "\"{} {} {}\".format(1,2)"
   ]
  },
  {
   "attachments": {},
   "cell_type": "markdown",
   "metadata": {},
   "source": [
    "### format() 함수의 다양한 기능"
   ]
  },
  {
   "cell_type": "code",
   "execution_count": 6,
   "metadata": {},
   "outputs": [
    {
     "name": "stdout",
     "output_type": "stream",
     "text": [
      "# 기본\n",
      "52\n",
      "# 특정 칸에 출력하기\n",
      "   52\n",
      "        52\n",
      "# 빈칸을 0으로 채우기\n",
      "00052\n",
      "-0052\n"
     ]
    }
   ],
   "source": [
    "# 정수\n",
    "output_a = \"{:d}\".format(52)\n",
    "\n",
    "# 특정 칸에 처리하기\n",
    "output_b = \"{:5d}\".format(52)   # 5칸\n",
    "output_c = \"{:10d}\".format(52)  # 10칸\n",
    "\n",
    "# 빈칸을 0으로 채우기\n",
    "output_d = \"{:05d}\".format(52)  # 양수\n",
    "output_e = \"{:05d}\".format(-52)  # 음수\n",
    "\n",
    "print(\"# 기본\")\n",
    "print(output_a)\n",
    "\n",
    "print(\"# 특정 칸에 출력하기\")\n",
    "print(output_b)\n",
    "print(output_c)\n",
    "print(\"# 빈칸을 0으로 채우기\")\n",
    "print(output_d)\n",
    "print(output_e)"
   ]
  },
  {
   "attachments": {},
   "cell_type": "markdown",
   "metadata": {},
   "source": [
    "{:d}를 사용했을 때는 매개변수로 정수만 올 수 있습니다.  \n",
    "{:5d}라고 입력하면 5칸을 잡고 뒤에서 부터 52라는 숫자를 채웁니다. {:10d}도 마찬가지로 10칸을 잡고 뒤에서 부터 52라는 숫자를 채움.  \n",
    "{:05d}라고 지정하면 5칸을 잡고 뒤에서부터 52라는 숫자를 넣은 후, 앞의 빈 곳을 0으로 채움. 부호가 있을 때는 맨 앞자리를 부호로 채우고 나머지 빈곳을 0으로 채움."
   ]
  },
  {
   "attachments": {},
   "cell_type": "markdown",
   "metadata": {},
   "source": [
    "##### 직접 해보는 손코딩 (기호 붙여 출력하기)"
   ]
  },
  {
   "cell_type": "code",
   "execution_count": 7,
   "metadata": {},
   "outputs": [
    {
     "name": "stdout",
     "output_type": "stream",
     "text": [
      "# 기호와 함께 출력하기\n",
      "+52\n",
      "-52\n",
      " 52\n",
      "-52\n"
     ]
    }
   ],
   "source": [
    "# 기호와 함께 출력하기\n",
    "output_f = \"{:+d}\".format(52)   # 양수\n",
    "output_g = \"{:+d}\".format(-52)   # 음수\n",
    "output_h = \"{: d}\".format(52)   # 양수 : 기호 부분 공백\n",
    "output_i = \"{: d}\".format(-52)   # 음수 : 기호 부분 공백\n",
    "\n",
    "print(\"# 기호와 함께 출력하기\")\n",
    "print(output_f)\n",
    "print(output_g)\n",
    "print(output_h)\n",
    "print(output_i)"
   ]
  },
  {
   "attachments": {},
   "cell_type": "markdown",
   "metadata": {},
   "source": [
    "##### 직접 해보는 손코딩 (조합해보기)"
   ]
  },
  {
   "cell_type": "code",
   "execution_count": 8,
   "metadata": {},
   "outputs": [
    {
     "name": "stdout",
     "output_type": "stream",
     "text": [
      "# 조합하기\n",
      "  +52\n",
      "  -52\n",
      "+  52\n",
      "-  52\n",
      "+0052\n",
      "-0052\n"
     ]
    }
   ],
   "source": [
    "# 조합하기\n",
    "output_h = \"{:+5d}\".format(52)  # 기호를 뒤로 밀기 : 양수\n",
    "output_i = \"{:+5d}\".format(-52) # 기호를 뒤로 밀기 : 음수\n",
    "output_j = \"{:=+5d}\".format(52) # 기호를 앞으로 밀기 : 양수\n",
    "output_k = \"{:=+5d}\".format(-52)    # 기호를 앞으로 밀기 : 음수\n",
    "output_l = \"{:+05d}\".format(52) # 0으로 채우기 : 양수\n",
    "output_m = \"{:+05d}\".format(-52)    # 0으로 채우기 : 음수\n",
    "\n",
    "print(\"# 조합하기\")\n",
    "print(output_h)\n",
    "print(output_i)\n",
    "print(output_j)\n",
    "print(output_k)\n",
    "print(output_l)\n",
    "print(output_m)"
   ]
  },
  {
   "attachments": {},
   "cell_type": "markdown",
   "metadata": {},
   "source": [
    "#### 부동 소수점 출력의 다양한 형태\n",
    "\n",
    "##### 직접 해보는 손코딩 (float 자료형 기본)"
   ]
  },
  {
   "cell_type": "code",
   "execution_count": 9,
   "metadata": {},
   "outputs": [
    {
     "name": "stdout",
     "output_type": "stream",
     "text": [
      "52.273000\n",
      "      52.273000\n",
      "     +52.273000\n",
      "+0000052.273000\n"
     ]
    }
   ],
   "source": [
    "output_a = \"{:f}\".format(52.273)\n",
    "output_b = \"{:15f}\".format(52.273)  # 15칸 만들기\n",
    "output_c = \"{:+15f}\".format(52.273) # 15칸에 부호 추가하기\n",
    "output_d = \"{:+015f}\".format(52.273)    # 15칸 부호 추가하고 0으로 채우기\n",
    "\n",
    "print(output_a)\n",
    "print(output_b)\n",
    "print(output_c)\n",
    "print(output_d)"
   ]
  },
  {
   "attachments": {},
   "cell_type": "markdown",
   "metadata": {},
   "source": [
    "##### 직접 해보는 손코딩 (소수점 아래 자릿수 지정하기)"
   ]
  },
  {
   "cell_type": "code",
   "execution_count": 10,
   "metadata": {},
   "outputs": [
    {
     "name": "stdout",
     "output_type": "stream",
     "text": [
      "         52.273\n",
      "          52.27\n",
      "           52.3\n"
     ]
    }
   ],
   "source": [
    "output_a = \"{:15.3f}\".format(52.273)\n",
    "output_b = \"{:15.2f}\".format(52.273)\n",
    "output_c = \"{:15.1f}\".format(52.273)\n",
    "\n",
    "print(output_a)\n",
    "print(output_b)\n",
    "print(output_c)"
   ]
  },
  {
   "attachments": {},
   "cell_type": "markdown",
   "metadata": {},
   "source": [
    "#### 의미 없는 소수점 제거하기\n",
    "\n",
    "의미 없는 0을 제거한 후 출력하고 싶을 때는 {:g}를 사용함.\n",
    "##### 직접해보는 손코딩 (의미 없는 소수점 제거하기)"
   ]
  },
  {
   "cell_type": "code",
   "execution_count": 11,
   "metadata": {},
   "outputs": [
    {
     "name": "stdout",
     "output_type": "stream",
     "text": [
      "52.0\n",
      "52\n"
     ]
    }
   ],
   "source": [
    "output_a = 52.0\n",
    "output_b = \"{:g}\".format(output_a)\n",
    "print(output_a)\n",
    "print(output_b)"
   ]
  },
  {
   "attachments": {},
   "cell_type": "markdown",
   "metadata": {},
   "source": [
    "### 대소문자 바꾸기: upper()와 lower()\n",
    "upper()함수는 문자열의 알파벳을 대문자로, lower()함수는 문자열의 알파벳을 소문자로 만듬"
   ]
  },
  {
   "cell_type": "code",
   "execution_count": 12,
   "metadata": {},
   "outputs": [
    {
     "data": {
      "text/plain": [
       "'HELLO PYTHON PROGRAMMING...!'"
      ]
     },
     "execution_count": 12,
     "metadata": {},
     "output_type": "execute_result"
    }
   ],
   "source": [
    "a = \"Hello Python Programming...!\"\n",
    "a.upper()"
   ]
  },
  {
   "cell_type": "code",
   "execution_count": 13,
   "metadata": {},
   "outputs": [
    {
     "data": {
      "text/plain": [
       "'hello python programming...!'"
      ]
     },
     "execution_count": 13,
     "metadata": {},
     "output_type": "execute_result"
    }
   ],
   "source": [
    "a.lower()"
   ]
  },
  {
   "attachments": {},
   "cell_type": "markdown",
   "metadata": {},
   "source": [
    "원본을 변화시키지 않는 함수를 비파괴적 함수. 이와 반대되는 함수를 파괴적 함수라 함."
   ]
  },
  {
   "attachments": {},
   "cell_type": "markdown",
   "metadata": {},
   "source": [
    "### 문자열 양옆의 공백 제거하기: strip()\n",
    "strip() 함수는 문자열 양옆의 공백을 제거  \n",
    "문자열 양옆의 공백을 제거할 때는 strip()함수를 사용. 왼쪽 공백을 제거하는 lstrip() 함수와 오른쪽 공백을 제거하는 rstrip()함수도 있음.  \n",
    "공백이란 '띄어쓰기','탭', '줄바꿈'을 모두 포함.  \n",
    "- strip(): 문자열 양 옆의 공백을 제거\n",
    "- lstrip(): 문자열 왼쪽 공백을 제거\n",
    "- rstrip(): 문자열 오른쪽 공백을 제거"
   ]
  },
  {
   "cell_type": "code",
   "execution_count": 14,
   "metadata": {},
   "outputs": [
    {
     "name": "stdout",
     "output_type": "stream",
     "text": [
      "\n",
      "    안녕하세요\n",
      "문자열의 함수를 알아봅니다\n",
      "\n"
     ]
    }
   ],
   "source": [
    "input_a = \"\"\"\n",
    "    안녕하세요\n",
    "문자열의 함수를 알아봅니다\n",
    "\"\"\"\n",
    "print(input_a)"
   ]
  },
  {
   "cell_type": "code",
   "execution_count": 15,
   "metadata": {},
   "outputs": [
    {
     "name": "stdout",
     "output_type": "stream",
     "text": [
      "안녕하세요\n",
      "문자열의 함수를 알아봅니다\n"
     ]
    }
   ],
   "source": [
    "print(input_a.strip())"
   ]
  },
  {
   "attachments": {},
   "cell_type": "markdown",
   "metadata": {},
   "source": [
    "코드를 실행한 결과를 보면 공백 제거 이전에는 양쪽에 줄바꿈과 띄어쓰기가 들어갔지만, 공백 제거 이후에는 이러한 것들이 모두 사라지는 것을 볼 수 있음.  \n",
    "이러한 기능을 trim이라고 부름. 공백을 제거할 때는 strip 또는 trim을 활용한다고 기억."
   ]
  },
  {
   "attachments": {},
   "cell_type": "markdown",
   "metadata": {},
   "source": [
    "### 문자열의 구성 파악하기: isOO()\n",
    "문자열이 소문자로만 구성되어 있는지, 알파벳으로만 구성되어 있는지, 숫자로만 구성되어 있는지 등을 확인할 때는 is로 시작하는 이름의 함수를 사용.\n",
    "\n",
    "- isalnum(): 문자열이 알파벳 또는 숫자로만 구성되어 있는지 확인.\n",
    "- isalpha(): 문자열이 알파벳으로만 구성되어 있는지 확인.\n",
    "- isidentifier(): 문자열이 식별자로 사용할 수 있는지 확인.\n",
    "- isdecimal(): 문자열이 정수 형태인지 확인.\n",
    "- isdigit(): 문자열이 숫자로 인식될 수 있는 것인지 확인.\n",
    "- isspace(): 문자열이 공백으로만 구성되어 있는지 확인.\n",
    "- islower(): 문자열이 소문자로만 구성되어 있는지 확인.\n",
    "- isupper(): 문자열이 대문자로만 구성되어 있는지 확인.  \n",
    "출력은 True(맞다) 또는 False(아니다)라고 나오는데, 이를 불(boolean)이라 부름."
   ]
  },
  {
   "cell_type": "code",
   "execution_count": 16,
   "metadata": {},
   "outputs": [
    {
     "name": "stdout",
     "output_type": "stream",
     "text": [
      "True\n",
      "True\n"
     ]
    }
   ],
   "source": [
    "print(\"TrainA10\".isalnum())\n",
    "print(\"10\".isdigit())"
   ]
  },
  {
   "attachments": {},
   "cell_type": "markdown",
   "metadata": {},
   "source": [
    "### 문자열 찾기: find()와 rfind()\n",
    "문자열 내부에 특정 문자가 어디에 위치하는지 확인 할 때 사용.\n",
    "- find(): 왼쪽부터 찾아서 처음 등장하는 위치를 찾음\n",
    "- rfind(): 오른쪽부터 찾아서 처음 등장하는 위치를 찾음"
   ]
  },
  {
   "cell_type": "code",
   "execution_count": 18,
   "metadata": {},
   "outputs": [
    {
     "name": "stdout",
     "output_type": "stream",
     "text": [
      "0\n"
     ]
    }
   ],
   "source": [
    "output_a = \"안녕안녕하세요\".find(\"안녕\")\n",
    "print(output_a)"
   ]
  },
  {
   "cell_type": "code",
   "execution_count": 19,
   "metadata": {},
   "outputs": [
    {
     "name": "stdout",
     "output_type": "stream",
     "text": [
      "2\n"
     ]
    }
   ],
   "source": [
    "output_b = \"안녕안녕하세요\".rfind(\"안녕\")\n",
    "print(output_b)"
   ]
  },
  {
   "attachments": {},
   "cell_type": "markdown",
   "metadata": {},
   "source": [
    "### 문자열과 in 연산자\n",
    "문자열 내부에 어떤 문자열이 있는지 확인하려면 in 연산자를 사용."
   ]
  },
  {
   "cell_type": "code",
   "execution_count": 20,
   "metadata": {},
   "outputs": [
    {
     "name": "stdout",
     "output_type": "stream",
     "text": [
      "True\n"
     ]
    }
   ],
   "source": [
    "print(\"안녕\" in \"안녕하세요\")"
   ]
  },
  {
   "cell_type": "code",
   "execution_count": 21,
   "metadata": {},
   "outputs": [
    {
     "name": "stdout",
     "output_type": "stream",
     "text": [
      "False\n"
     ]
    }
   ],
   "source": [
    "print(\"잘자\" in \"안녕하세요\")"
   ]
  },
  {
   "attachments": {},
   "cell_type": "markdown",
   "metadata": {},
   "source": [
    "### 문자열 자르기: split()\n",
    "문자열을 특정한 문자로 자를 대는 split() 함수를 사용."
   ]
  },
  {
   "cell_type": "code",
   "execution_count": 22,
   "metadata": {},
   "outputs": [
    {
     "name": "stdout",
     "output_type": "stream",
     "text": [
      "['10', '20', '30', '40', '50']\n"
     ]
    }
   ],
   "source": [
    "a = \"10 20 30 40 50\".split(\" \")\n",
    "print(a)"
   ]
  }
 ],
 "metadata": {
  "kernelspec": {
   "display_name": "Python 3",
   "language": "python",
   "name": "python3"
  },
  "language_info": {
   "codemirror_mode": {
    "name": "ipython",
    "version": 3
   },
   "file_extension": ".py",
   "mimetype": "text/x-python",
   "name": "python",
   "nbconvert_exporter": "python",
   "pygments_lexer": "ipython3",
   "version": "3.9.6"
  },
  "orig_nbformat": 4
 },
 "nbformat": 4,
 "nbformat_minor": 2
}
