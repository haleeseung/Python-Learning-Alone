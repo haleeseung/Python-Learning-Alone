{
 "cells": [
  {
   "attachments": {},
   "cell_type": "markdown",
   "metadata": {},
   "source": [
    "# chapter - 08 클래스\n",
    "\n",
    "## 8.1 클래스의 기본\n",
    "C를 제외한 모든 프로그래밍 언어는 객체 지향 프로그래밍 언어. 객체 지향 프로그래밍이란 객체를 우선으로 생각해서 프로그래밍한다는 의미.  \n",
    "이 모든 프로그래밍 언어는 클래스 기반의 객체 지향 프로그래밍 언어. 클래스 기반의 객체 지향 프로그래밍 언어는 클래스라는 것을 기반으로 객체를 만들고, 그러한 객체를 우선으로 생각해서  \n",
    "프로그래밍하는 것을 이념으로 삼고 있음."
   ]
  },
  {
   "attachments": {},
   "cell_type": "markdown",
   "metadata": {},
   "source": [
    "### 객체\n",
    "#### 직접해보는 손코딩 (직셔너리로 객체 만들기)"
   ]
  },
  {
   "cell_type": "code",
   "execution_count": 1,
   "metadata": {},
   "outputs": [
    {
     "name": "stdout",
     "output_type": "stream",
     "text": [
      "이름\t총점\t평균\n",
      "윤인성\t368\t92.0\n",
      "연하진\t384\t96.0\n",
      "구지연\t356\t89.0\n",
      "나선주\t378\t94.5\n",
      "윤아린\t389\t97.25\n",
      "윤명월\t336\t84.0\n"
     ]
    }
   ],
   "source": [
    "# 학생 리스트를 선언합니다.\n",
    "students = [\n",
    "    { \"name\": \"윤인성\", \"korean\": 87, \"math\": 98, \"english\": 88, \"science\": 95 },\n",
    "    { \"name\": \"연하진\", \"korean\": 92, \"math\": 98, \"english\": 96, \"science\": 98 },\n",
    "    { \"name\": \"구지연\", \"korean\": 76, \"math\": 96, \"english\": 94, \"science\": 90 },\n",
    "    { \"name\": \"나선주\", \"korean\": 98, \"math\": 92, \"english\": 96, \"science\": 92 },\n",
    "    { \"name\": \"윤아린\", \"korean\": 95, \"math\": 98, \"english\": 98, \"science\": 98 },\n",
    "    { \"name\": \"윤명월\", \"korean\": 64, \"math\": 88, \"english\": 92, \"science\": 92 }\n",
    "]\n",
    "\n",
    "# 학생을 한 명씩 반복합니다.\n",
    "print(\"이름\", \"총점\", \"평균\", sep=\"\\t\")\n",
    "for student in students:\n",
    "    # 점수의 총합과 평균을 구합니다.\n",
    "    score_sum = student[\"korean\"] + student[\"math\"] +\\\n",
    "        student[\"english\"] + student[\"science\"]\n",
    "    score_average = score_sum / 4\n",
    "    # 출력합니다.\n",
    "    print(student[\"name\"], score_sum, score_average, sep=\"\\t\")\n"
   ]
  },
  {
   "attachments": {},
   "cell_type": "markdown",
   "metadata": {},
   "source": [
    "딕셔너리로 학생을 표현하고 이를 리스트로 묶어 학생들을 표현. 이처럼 여러 가지 속성을 가질 수 있는 대상을 객체라고 부름.\n",
    "##### 직접 해보는 손코딩 (객체를 만드는 함수(1))"
   ]
  },
  {
   "cell_type": "code",
   "execution_count": 2,
   "metadata": {},
   "outputs": [
    {
     "name": "stdout",
     "output_type": "stream",
     "text": [
      "이름\t총점\t평균\n",
      "윤인성\t368\t92.0\n",
      "연하진\t384\t96.0\n",
      "구지연\t356\t89.0\n",
      "나선주\t378\t94.5\n",
      "윤아린\t389\t97.25\n",
      "윤명월\t336\t84.0\n"
     ]
    }
   ],
   "source": [
    "# 딕셔너리를 리턴하는 함수를 선언합니다.\n",
    "def create_student(name, korean, math, english, science):\n",
    "    return {\n",
    "        \"name\": name,\n",
    "        \"korean\": korean,\n",
    "        \"math\": math,\n",
    "        \"english\": english,\n",
    "        \"science\": science\n",
    "    }\n",
    "\n",
    "# 학생 리스트를 선언합니다.\n",
    "students = [\n",
    "    create_student(\"윤인성\", 87, 98, 88, 95),\n",
    "    create_student(\"연하진\", 92, 98, 96, 98),\n",
    "    create_student(\"구지연\", 76, 96, 94, 90),\n",
    "    create_student(\"나선주\", 98, 92, 96, 92),\n",
    "    create_student(\"윤아린\", 95, 98, 98, 98),\n",
    "    create_student(\"윤명월\", 64, 88, 92, 92)\n",
    "]\n",
    "\n",
    "# 학생을 한 명씩 반복합니다.\n",
    "print(\"이름\", \"총점\", \"평균\", sep=\"\\t\")\n",
    "for student in students:\n",
    "    # 점수의 총합과 평균을 구합니다.\n",
    "    score_sum = student[\"korean\"] + student[\"math\"] +\\\n",
    "        student[\"english\"] + student[\"science\"]\n",
    "    score_average = score_sum / 4\n",
    "    # 출력합니다.\n",
    "    print(student[\"name\"], score_sum, score_average, sep=\"\\t\")\n"
   ]
  },
  {
   "attachments": {},
   "cell_type": "markdown",
   "metadata": {},
   "source": [
    "##### 직접 해보는 손코딩 (객체를 처리하는 함수 (2))"
   ]
  },
  {
   "cell_type": "code",
   "execution_count": 3,
   "metadata": {},
   "outputs": [
    {
     "name": "stdout",
     "output_type": "stream",
     "text": [
      "이름\t총점\t평균\n",
      "윤인성\t368\t92.0\n",
      "연하진\t384\t96.0\n",
      "구지연\t356\t89.0\n",
      "나선주\t378\t94.5\n",
      "윤아린\t389\t97.25\n",
      "윤명월\t336\t84.0\n"
     ]
    }
   ],
   "source": [
    "# 딕셔너리를 리턴하는 함수를 선언합니다.\n",
    "def create_student(name, korean, math, english, science):\n",
    "    return {\n",
    "        \"name\": name,\n",
    "        \"korean\": korean,\n",
    "        \"math\": math,\n",
    "        \"english\": english,\n",
    "        \"science\": science\n",
    "    }\n",
    "\n",
    "# 학생을 처리하는 함수를 선언합니다.\n",
    "def student_get_sum(student):\n",
    "    return student[\"korean\"] + student[\"math\"] +\\\n",
    "        student[\"english\"] + student[\"science\"]\n",
    "\n",
    "def student_get_average(student):\n",
    "    return student_get_sum(student) / 4\n",
    "\n",
    "def student_to_string(student):\n",
    "    return \"{}\\t{}\\t{}\".format(\n",
    "        student[\"name\"],\n",
    "        student_get_sum(student),\n",
    "        student_get_average(student))\n",
    "\n",
    "# 학생 리스트를 선언합니다.\n",
    "students = [\n",
    "    create_student(\"윤인성\", 87, 98, 88, 95),\n",
    "    create_student(\"연하진\", 92, 98, 96, 98),\n",
    "    create_student(\"구지연\", 76, 96, 94, 90),\n",
    "    create_student(\"나선주\", 98, 92, 96, 92),\n",
    "    create_student(\"윤아린\", 95, 98, 98, 98),\n",
    "    create_student(\"윤명월\", 64, 88, 92, 92)\n",
    "]\n",
    "\n",
    "# 학생을 한 명씩 반복합니다.\n",
    "print(\"이름\", \"총점\", \"평균\", sep=\"\\t\")\n",
    "for student in students:\n",
    "    # 출력합니다.\n",
    "    print(student_to_string(student))\n"
   ]
  },
  {
   "attachments": {},
   "cell_type": "markdown",
   "metadata": {},
   "source": [
    "이러한 형태로 객체와 관련된 코드를 분리할 수 있게 하는 것이 객체 지향 프로그래밍의 핵심이라고 할 수 있음.  \n",
    "하지만, 이런 코드가 너무 자주 사용되다 보니, 개발자들은 클래스라는 구조를 만들게 되었음.  \n",
    "클래스는 위와 같은 형태의 코드를 조금 더 효율적으로 만들기 위한 기능이라 생각하면 됌."
   ]
  },
  {
   "attachments": {},
   "cell_type": "markdown",
   "metadata": {},
   "source": [
    "### 클래스 선언하기\n",
    "> class 클래스 이름:  \n",
    ">   클래스 내용\n",
    "\n",
    "이러한 클래스를 기반으로 만들어진 객체를 인스턴스라고 부름."
   ]
  },
  {
   "attachments": {},
   "cell_type": "markdown",
   "metadata": {},
   "source": [
    "### 생성자\n",
    "클래스 이름과 같은 함수를 생성자라고 부름. 클래스 내부에 __init__라는 함수를 만들면 객체를 생성할 때 처리할 내용을 작성할 수 있음\n",
    "\n",
    "\n",
    "> class 클래스 이름:  \n",
    ">   def __init__(self, 추가적인 매개변수):  \n",
    ">       pass"
   ]
  },
  {
   "attachments": {},
   "cell_type": "markdown",
   "metadata": {},
   "source": [
    "클래스 내부의 함수는 첫 번째 매개변수로 반드시 self를 입력해야 함. 이때 self는 '자기자신'을 나타내는 딕셔너리라고 생각하면 됌."
   ]
  },
  {
   "attachments": {},
   "cell_type": "markdown",
   "metadata": {},
   "source": [
    "### 메소드\n",
    "클래스가 가지고 있는 함수를 메소드라고 부름. 클래스 내부에 메소드를 만들 때는 다음과 같이 사용.  \n",
    "생성자를 선언하는 방법과 같음. 다만, 첫 번째 매개변수로 self를 넣어야 함.  \n",
    "> class 클래스 이름:  \n",
    ">   def 메소드 이름(self, 추가적인 매개변수):  \n",
    ">       pass"
   ]
  },
  {
   "attachments": {},
   "cell_type": "markdown",
   "metadata": {},
   "source": [
    "##### 직접 해보는 손코딩 (클래스 내부에 함수(메소드) 선언하기)"
   ]
  },
  {
   "cell_type": "code",
   "execution_count": 4,
   "metadata": {},
   "outputs": [
    {
     "name": "stdout",
     "output_type": "stream",
     "text": [
      "이름\t총점\t평균\n",
      "윤인성\t368\t92.0\n",
      "연하진\t384\t96.0\n",
      "구지연\t356\t89.0\n",
      "나선주\t378\t94.5\n",
      "윤아린\t389\t97.25\n",
      "윤명월\t336\t84.0\n"
     ]
    }
   ],
   "source": [
    "# 클래스를 선언합니다.\n",
    "class Student:\n",
    "    def __init__ (self, name, korean, math, english, science):\n",
    "        self.name = name\n",
    "        self.korean = korean\n",
    "        self.math = math\n",
    "        self.english = english\n",
    "        self.science = science\n",
    "        \n",
    "    def get_sum(self):\n",
    "        return self.korean + self.math +\\\n",
    "            self.english + self.science\n",
    "            \n",
    "    def get_average(self):\n",
    "        return self.get_sum() / 4\n",
    "    \n",
    "    def to_string(self):\n",
    "        return \"{}\\t{}\\t{}\".format(\\\n",
    "            self.name,\\\n",
    "            self.get_sum(),\\\n",
    "            self.get_average())\n",
    "        \n",
    "# 학생 리스트를 선언합니다.\n",
    "students = [\n",
    "    Student(\"윤인성\", 87, 98, 88, 95),\n",
    "    Student(\"연하진\", 92, 98, 96, 98),\n",
    "    Student(\"구지연\", 76, 96, 94, 90),\n",
    "    Student(\"나선주\", 98, 92, 96, 92),\n",
    "    Student(\"윤아린\", 95, 98, 98, 98),\n",
    "    Student(\"윤명월\", 64, 88, 92, 92)\n",
    "]\n",
    "\n",
    "# 학생을 한 명씩 반복합니다.\n",
    "print(\"이름\", \"총점\", \"평균\", sep=\"\\t\")\n",
    "for student in students:\n",
    "    # 출력합니다.\n",
    "    print(student.to_string())"
   ]
  },
  {
   "attachments": {},
   "cell_type": "markdown",
   "metadata": {},
   "source": [
    "## 8.2 클래스의 추가적인 구문\n",
    "클래스를 사용하는 것은 작정하고 속성과 기능을 가진 객체를 만들겠다는 의미.  \n",
    "파이썬은 그에 따른 부가적인 기능을 지원.\n",
    "\n",
    "### 어떤 클래스의 인스턴스인지 확인하기\n",
    "일단 객체(인스턴스)가 어떤 클래스로부터 만들어졌는지 확인할 수 있도록 isinstance() 함수를 제공합니다.\n",
    "> isinstance(인스턴스, 클래스)\n",
    "\n",
    "아래의 예시를 통해 확인"
   ]
  },
  {
   "cell_type": "code",
   "execution_count": 5,
   "metadata": {},
   "outputs": [
    {
     "name": "stdout",
     "output_type": "stream",
     "text": [
      "isinstance(student, Student): True\n"
     ]
    }
   ],
   "source": [
    "# 클래스를 선언합니다.\n",
    "class Student:\n",
    "    def __init__(self):\n",
    "        pass\n",
    "    \n",
    "# 학생을 선언합니다.\n",
    "student = Student()\n",
    "\n",
    "# 인스턴스 확인\n",
    "print(\"isinstance(student, Student):\", isinstance(student, Student))"
   ]
  },
  {
   "attachments": {},
   "cell_type": "markdown",
   "metadata": {},
   "source": [
    "##### 직접 해보는 손코딩 (isinstance() 함수 활용)\n"
   ]
  },
  {
   "cell_type": "code",
   "execution_count": 6,
   "metadata": {},
   "outputs": [
    {
     "name": "stdout",
     "output_type": "stream",
     "text": [
      "공부를 합니다.\n",
      "공부를 합니다.\n",
      "학생을 가르칩니다.\n",
      "공부를 합니다.\n",
      "공부를 합니다.\n"
     ]
    }
   ],
   "source": [
    "# 학생 클래스를 선언합니다.\n",
    "class Student:\n",
    "    def study(self):\n",
    "        print(\"공부를 합니다.\")\n",
    "        \n",
    "# 선생님 클래스를 선언합니다.\n",
    "class Teacher:\n",
    "    def teach(self):\n",
    "        print(\"학생을 가르칩니다.\")\n",
    "        \n",
    "# 교실 내부의 객체 리스트를 생성합니다.\n",
    "classroom = [Student(), Student(), Teacher(), Student(), Student()]\n",
    "\n",
    "# 반복을 적용해서 적절한 함수를 호출하게 합니다.\n",
    "for person in classroom:\n",
    "    if isinstance(person, Student):\n",
    "        person.study()\n",
    "    elif isinstance(person, Teacher):\n",
    "        person.teach()"
   ]
  },
  {
   "attachments": {},
   "cell_type": "markdown",
   "metadata": {},
   "source": [
    "### 특수한 이름의 메소드\n",
    "모두 파이썬이 클래스를 사용할 때 제공해 주는 보조 기능. __<(이름)>__() 형태로 되어있음.  \n",
    "이러한 메소드는 특수한 상황에 자동으로 호출되도록 만들어졌음.  \n",
    "\n",
    "##### 직접 해보는 손코딩 (__str__() 함수)"
   ]
  },
  {
   "cell_type": "code",
   "execution_count": 7,
   "metadata": {},
   "outputs": [
    {
     "name": "stdout",
     "output_type": "stream",
     "text": [
      "이름\t총점\t평균\n",
      "윤인성\t368\t92.0\n",
      "연하진\t384\t96.0\n",
      "구지연\t356\t89.0\n",
      "나선주\t378\t94.5\n",
      "윤아린\t389\t97.25\n",
      "윤명월\t336\t84.0\n"
     ]
    }
   ],
   "source": [
    "# 클래스를 선언합니다.\n",
    "class Student:\n",
    "    def __init__(self, name, korean, math, english, science):\n",
    "        self.name = name\n",
    "        self.korean = korean\n",
    "        self.math = math\n",
    "        self.english = english\n",
    "        self.science = science\n",
    "\n",
    "    def get_sum(self):\n",
    "        return self.korean + self.math +\\\n",
    "            self.english + self.science\n",
    "\n",
    "    def get_average(self):\n",
    "        return self.get_sum() / 4\n",
    "\n",
    "    def __str__(self):\n",
    "        return \"{}\\t{}\\t{}\".format(\n",
    "            self.name,\n",
    "            self.get_sum(),\n",
    "            self.get_average())\n",
    "\n",
    "# 학생 리스트를 선언합니다.\n",
    "students = [\n",
    "    Student(\"윤인성\", 87, 98, 88, 95),\n",
    "    Student(\"연하진\", 92, 98, 96, 98),\n",
    "    Student(\"구지연\", 76, 96, 94, 90),\n",
    "    Student(\"나선주\", 98, 92, 96, 92),\n",
    "    Student(\"윤아린\", 95, 98, 98, 98),\n",
    "    Student(\"윤명월\", 64, 88, 92, 92)\n",
    "]\n",
    "\n",
    "# 출력합니다.\n",
    "print(\"이름\", \"총점\", \"평균\", sep=\"\\t\")\n",
    "for student in students:\n",
    "    print(str(student))\n"
   ]
  },
  {
   "attachments": {},
   "cell_type": "markdown",
   "metadata": {},
   "source": [
    "따라서 이전의 to_string() 함수가 아니라 str(객체)라는 지금까지 사용했던 것과 같은 방법으로 객체를 문자열로 변환할 수 있음.  "
   ]
  },
  {
   "attachments": {},
   "cell_type": "markdown",
   "metadata": {},
   "source": [
    "##### 직접 해보는 손코딩 (크기 비교 함수)"
   ]
  },
  {
   "cell_type": "code",
   "execution_count": 8,
   "metadata": {},
   "outputs": [
    {
     "name": "stdout",
     "output_type": "stream",
     "text": [
      "student_a == student_b =  False\n",
      "student_a != student_b =  True\n",
      "student_a >  student_b =  False\n",
      "student_a >= student_b =  False\n",
      "student_a <  student_b =  True\n",
      "student_a <= student_b =  True\n"
     ]
    }
   ],
   "source": [
    "# 클래스를 선언합니다.\n",
    "class Student:\n",
    "    def __init__(self, name, korean, math, english, science):\n",
    "        self.name = name\n",
    "        self.korean = korean\n",
    "        self.math = math\n",
    "        self.english = english\n",
    "        self.science = science\n",
    "\n",
    "    def get_sum(self):\n",
    "        return self.korean + self.math +\\\n",
    "            self.english + self.science\n",
    "\n",
    "    def get_average(self):\n",
    "        return self.get_sum() / 4\n",
    "\n",
    "    def __str__(self, student):\n",
    "        return \"{}\\t{}\\t{}\".format(\n",
    "            self.name,\n",
    "            self.get_sum(student),\n",
    "            self.get_average(student))\n",
    "\n",
    "    def __eq__(self, value):    # 같다\n",
    "        return self.get_sum() == value.get_sum()\n",
    "    def __ne__(self, value):    # 다르다\n",
    "        return self.get_sum() != value.get_sum()\n",
    "    def __gt__(self, value):    # 크다\n",
    "        return self.get_sum() > value.get_sum()\n",
    "    def __ge__(self, value):    # 크거나 같다\n",
    "        return self.get_sum() >= value.get_sum()\n",
    "    def __lt__(self, value):    # 작다\n",
    "        return self.get_sum() < value.get_sum()\n",
    "    def __le____(self, value):  # 작거나 같다\n",
    "        return self.get_sum() <= value.get_sum()\n",
    "\n",
    "# 학생 리스트를 선언합니다.\n",
    "students = [\n",
    "    Student(\"윤인성\", 87, 98, 88, 95),\n",
    "    Student(\"연하진\", 92, 98, 96, 98),\n",
    "    Student(\"구지연\", 76, 96, 94, 90),\n",
    "    Student(\"나선주\", 98, 92, 96, 92),\n",
    "    Student(\"윤아린\", 95, 98, 98, 98),\n",
    "    Student(\"윤명월\", 64, 88, 92, 92)\n",
    "]\n",
    "\n",
    "# 학생을 선언합니다.\n",
    "student_a = Student(\"윤인성\", 87, 98, 88, 95),\n",
    "student_b = Student(\"연하진\", 92, 98, 96, 98),\n",
    "\n",
    "# 출력합니다.\n",
    "print(\"student_a == student_b = \", student_a == student_b)\n",
    "print(\"student_a != student_b = \", student_a != student_b)\n",
    "print(\"student_a >  student_b = \", student_a >  student_b)\n",
    "print(\"student_a >= student_b = \", student_a >= student_b)\n",
    "print(\"student_a <  student_b = \", student_a <  student_b)\n",
    "print(\"student_a <= student_b = \", student_a <= student_b)\n"
   ]
  },
  {
   "attachments": {},
   "cell_type": "markdown",
   "metadata": {},
   "source": [
    "### 클래스 변수와 메소드\n",
    "인스턴스가 속성과 기능을 가질 수도 있지만, 클래스가 속성(변수)과 기능(함수)을 가질 수도 있음.  \n",
    "#### 클래스 변수\n",
    "클래스 변수를 만드는 방법부터 살펴보겠음. 클래스 변수는 class 구문 바로 아래의 단계에 변수를 선언하기만 하면 됌.  \n",
    "\n",
    "> class 클래스 이름:  \n",
    ">      클래스 변수 = 값\n",
    "\n",
    "\n",
    "\n",
    "> 클래스 이름.변수이름"
   ]
  },
  {
   "cell_type": "code",
   "execution_count": 9,
   "metadata": {},
   "outputs": [
    {
     "name": "stdout",
     "output_type": "stream",
     "text": [
      "1번째 학생이 생성되었습니다.\n",
      "2번째 학생이 생성되었습니다.\n",
      "3번째 학생이 생성되었습니다.\n",
      "4번째 학생이 생성되었습니다.\n",
      "5번째 학생이 생성되었습니다.\n",
      "6번째 학생이 생성되었습니다.\n",
      "\n",
      "현재 생성된 총 학생 수는 6명입니다.\n"
     ]
    }
   ],
   "source": [
    "# 클래스를 선언합니다.\n",
    "class Student:\n",
    "    count = 0\n",
    "\n",
    "    def __init__(self, name, korean, math, english, science):\n",
    "        # 인스턴스 변수 초기화\n",
    "        self.name = name\n",
    "        self.korean = korean\n",
    "        self.math = math\n",
    "        self.english = english\n",
    "        self.science = science\n",
    "        \n",
    "        # 클래스 변수 설정\n",
    "        Student.count += 1\n",
    "        print(\"{}번째 학생이 생성되었습니다.\".format(Student.count))\n",
    "    \n",
    "\n",
    "# 학생 리스트를 선언합니다.\n",
    "students = [\n",
    "    Student(\"윤인성\", 87, 98, 88, 95),\n",
    "    Student(\"연하진\", 92, 98, 96, 98),\n",
    "    Student(\"구지연\", 76, 96, 94, 90),\n",
    "    Student(\"나선주\", 98, 92, 96, 92),\n",
    "    Student(\"윤아린\", 95, 98, 98, 98),\n",
    "    Student(\"윤명월\", 64, 88, 92, 92)\n",
    "]\n",
    "\n",
    "# 출력합니다.\n",
    "print()\n",
    "print(\"현재 생성된 총 학생 수는 {}명입니다.\".format(Student.count))\n"
   ]
  },
  {
   "cell_type": "code",
   "execution_count": null,
   "metadata": {},
   "outputs": [],
   "source": []
  }
 ],
 "metadata": {
  "kernelspec": {
   "display_name": "Python 3",
   "language": "python",
   "name": "python3"
  },
  "language_info": {
   "codemirror_mode": {
    "name": "ipython",
    "version": 3
   },
   "file_extension": ".py",
   "mimetype": "text/x-python",
   "name": "python",
   "nbconvert_exporter": "python",
   "pygments_lexer": "ipython3",
   "version": "3.9.6"
  },
  "orig_nbformat": 4
 },
 "nbformat": 4,
 "nbformat_minor": 2
}
