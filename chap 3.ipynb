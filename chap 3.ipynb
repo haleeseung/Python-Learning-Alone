{
 "cells": [
  {
   "attachments": {},
   "cell_type": "markdown",
   "metadata": {},
   "source": [
    "# chapter - 03 조건문\n",
    "\n",
    "## 3.1 불 자료형과 if 조건문\n",
    "불은 오직 True(참)와 False(거짓) 깂만 가질 수 있음. -> True와 False는 항상 대문자로 적어야 함."
   ]
  },
  {
   "cell_type": "code",
   "execution_count": 2,
   "metadata": {},
   "outputs": [
    {
     "name": "stdout",
     "output_type": "stream",
     "text": [
      "True\n",
      "False\n"
     ]
    }
   ],
   "source": [
    "print(True)\n",
    "print(False)"
   ]
  },
  {
   "attachments": {},
   "cell_type": "markdown",
   "metadata": {},
   "source": [
    "### 불 만들기: 비교 연산자\n",
    "불은 비교연산자를 통해 만들 수 있음. 파이썬에는 여섯 개의 비교 연산자가 있음."
   ]
  },
  {
   "cell_type": "code",
   "execution_count": 3,
   "metadata": {},
   "outputs": [
    {
     "name": "stdout",
     "output_type": "stream",
     "text": [
      "False\n",
      "True\n",
      "True\n",
      "False\n",
      "True\n",
      "False\n"
     ]
    }
   ],
   "source": [
    "print(10 == 100)\n",
    "print(10 != 100)\n",
    "print(10 < 100)\n",
    "print(10 > 100)\n",
    "print(10 <= 100)\n",
    "print(10 >= 100)"
   ]
  },
  {
   "attachments": {},
   "cell_type": "markdown",
   "metadata": {},
   "source": [
    "파이썬은 문자열에도 비교 연산자를 적용 가능. 한글은 사전 순서(가나다순)로 앞에 있는 것이 작은 값을 가짐."
   ]
  },
  {
   "cell_type": "code",
   "execution_count": 4,
   "metadata": {},
   "outputs": [
    {
     "name": "stdout",
     "output_type": "stream",
     "text": [
      "True\n",
      "True\n",
      "True\n",
      "False\n"
     ]
    }
   ],
   "source": [
    "print(\"가방\" == \"가방\")\n",
    "print(\"가방\" != \"하마\")\n",
    "print(\"가방\" < \"하마\")\n",
    "print(\"가방\" > \"하마\")"
   ]
  },
  {
   "attachments": {},
   "cell_type": "markdown",
   "metadata": {},
   "source": [
    "### 불 연산하기 : 논리 연산자\n",
    "파이썬에는 세 개의 논리 연산자가 존재.\n",
    "\n",
    "##### 단항 연산자와 이항 연산자\n",
    "단항 연산자는 피연산자가 한 개라는 말, 이항 연산자는 피연산자가 두 개라는 말.\n",
    "\n",
    "#### not 연산자\n",
    "not 연산자는 단항 연산자로, 참과 거짓을 반대로 바꿀 때 사용."
   ]
  },
  {
   "cell_type": "code",
   "execution_count": 5,
   "metadata": {},
   "outputs": [
    {
     "name": "stdout",
     "output_type": "stream",
     "text": [
      "False\n",
      "True\n"
     ]
    }
   ],
   "source": [
    "print(not True)\n",
    "print(not False)"
   ]
  },
  {
   "attachments": {},
   "cell_type": "markdown",
   "metadata": {},
   "source": [
    "##### 직접 해보는 손코딩 (not 연산자 조합하기)"
   ]
  },
  {
   "cell_type": "code",
   "execution_count": 6,
   "metadata": {},
   "outputs": [
    {
     "name": "stdout",
     "output_type": "stream",
     "text": [
      "under_20: True\n",
      "not under_20: False\n"
     ]
    }
   ],
   "source": [
    "x = 10\n",
    "under_20 = x < 20\n",
    "print(\"under_20:\", under_20)\n",
    "print(\"not under_20:\", not under_20)"
   ]
  },
  {
   "attachments": {},
   "cell_type": "markdown",
   "metadata": {},
   "source": [
    "#### and 연산자와 or 연산자\n",
    "and 연산자는 양족 변의 값이 모두 참일 때만 True를 결과로 냅니다.  \n",
    "or 연산자는 둘 중 하나만 참이어도 True를 결과로 냅니다."
   ]
  },
  {
   "cell_type": "code",
   "execution_count": 7,
   "metadata": {},
   "outputs": [
    {
     "name": "stdout",
     "output_type": "stream",
     "text": [
      "True\n",
      "False\n",
      "False\n",
      "False\n",
      "True\n",
      "True\n",
      "True\n",
      "False\n"
     ]
    }
   ],
   "source": [
    "print(True and True)\n",
    "print(True and False)\n",
    "print(False and True)\n",
    "print(False and False)\n",
    "print(True or True)\n",
    "print(True or False)\n",
    "print(False or True)\n",
    "print(False or False)"
   ]
  },
  {
   "attachments": {},
   "cell_type": "markdown",
   "metadata": {},
   "source": [
    "### 논리 연산자의 활용\n",
    "#### and 연산자\n",
    "두 가지 조건을 모두 충족할 때만 티켓 구매가 가능한 것처럼 and(그리고) 연산자도 같은 방식으로 적용.\n",
    "#### or 연산자\n",
    "둘 중 하나의 조건을 충족할 때만 티켓 구매가 가능한 것처럼 or(또는) 연잔자도 같은 방식으로 적용.\n",
    "\n",
    "### if 조건문이란?\n",
    "파이썬에서 if조건문은 조건에 따라 코드를 실행하거나, 실행하지 않게 만들고 싶을 때 사용하는 구문.  \n",
    "조건을 기반으로 실행의 흐름을 변경하는 것을 조금 어려운 용어로 조건분기라고 부름.  "
   ]
  },
  {
   "cell_type": "code",
   "execution_count": 8,
   "metadata": {},
   "outputs": [
    {
     "name": "stdout",
     "output_type": "stream",
     "text": [
      "True입니다...!\n",
      "정말 True입니다...!\n"
     ]
    }
   ],
   "source": [
    "if True:\n",
    "    print(\"True입니다...!\")\n",
    "    print(\"정말 True입니다...!\")\n",
    "    "
   ]
  },
  {
   "attachments": {},
   "cell_type": "markdown",
   "metadata": {},
   "source": [
    "if 뒤에 있는 불 값이 거짓인 경우에는 들여쓰기 된 명령문이 있다고 하더라도 아무것도 실행되지 않습니다."
   ]
  },
  {
   "cell_type": "code",
   "execution_count": 9,
   "metadata": {},
   "outputs": [],
   "source": [
    "if False:\n",
    "    print(\"True입니다...!\")\n",
    "    print(\"정말 True입니다...!\")\n",
    "    "
   ]
  },
  {
   "attachments": {},
   "cell_type": "markdown",
   "metadata": {},
   "source": [
    "* 인터렉티브 셸애서 if 조건문을 입력하고 enter키를 누르면 다음 줄의 프롬프트 위치에 ... 이 나타나는데, 이는 코드 입력이 끝나지 않았다는 것을 자동으로 알려주는 표시.\n",
    "##### 직접 해보는 손코딩 (조건문의 기본 사용)"
   ]
  },
  {
   "cell_type": "code",
   "execution_count": 12,
   "metadata": {},
   "outputs": [
    {
     "name": "stdout",
     "output_type": "stream",
     "text": [
      "0입니다\n"
     ]
    }
   ],
   "source": [
    "# 입력을 받습니다.\n",
    "number = input(\"정수 입력> \")\n",
    "number = int(number)\n",
    "\n",
    "# 양수 조건\n",
    "if number > 0:\n",
    "    print(\"양수입니다\")\n",
    "    \n",
    "# 음수 조건\n",
    "if number < 0:\n",
    "    print(\"음수입니다\")\n",
    "    \n",
    "# 0 조건\n",
    "if number == 0:\n",
    "    print(\"0입니다\")"
   ]
  },
  {
   "attachments": {},
   "cell_type": "markdown",
   "metadata": {},
   "source": [
    "### 날짜/시간 활용하기\n",
    "##### 직접 해보는 손코딩 (날짜/시간 출력하기)"
   ]
  },
  {
   "cell_type": "code",
   "execution_count": 13,
   "metadata": {},
   "outputs": [
    {
     "name": "stdout",
     "output_type": "stream",
     "text": [
      "2023 년\n",
      "6 월\n",
      "29 일\n",
      "14 시\n",
      "29 분\n",
      "46 초\n"
     ]
    }
   ],
   "source": [
    "# 날짜/시간과 관련된 기능을 가져옵니다.\n",
    "import datetime\n",
    "\n",
    "# 현재 날짜/시간을 구합니다.\n",
    "now = datetime.datetime.now()\n",
    "\n",
    "# 출력합니다.\n",
    "print(now.year, \"년\")\n",
    "print(now.month, \"월\")\n",
    "print(now.day, \"일\")\n",
    "print(now.hour, \"시\")\n",
    "print(now.minute, \"분\")\n",
    "print(now.second, \"초\")"
   ]
  },
  {
   "attachments": {},
   "cell_type": "markdown",
   "metadata": {},
   "source": [
    "모듈이라는 기능을 활용해서 datetime 이라는 기능을 가져오는 게 첫 번째 해야할 일. 그런 다음 datetime.datetime.now()라는 함수로 현재의 시간을 구해 now라는 변수에 대입.\n",
    "##### 직접 해보는 손코딩 (날짜/시간을 한 줄로 출력하기)"
   ]
  },
  {
   "cell_type": "code",
   "execution_count": 14,
   "metadata": {},
   "outputs": [
    {
     "name": "stdout",
     "output_type": "stream",
     "text": [
      "2023년 6월 29일 14시 33분 15초\n"
     ]
    }
   ],
   "source": [
    "# 날짜/시간과 관련된 기능을 가져옵니다.\n",
    "import datetime\n",
    "\n",
    "# 현재 날짜/시간을 구합니다.\n",
    "now = datetime.datetime.now()\n",
    "\n",
    "# 출력합니다.\n",
    "print(\"{}년 {}월 {}일 {}시 {}분 {}초\".format(\n",
    "    now.year,\n",
    "    now.month,\n",
    "    now.day,\n",
    "    now.hour,\n",
    "    now.minute,\n",
    "    now.second\n",
    "))"
   ]
  },
  {
   "attachments": {},
   "cell_type": "markdown",
   "metadata": {},
   "source": [
    "##### 직접 해보는 손코딩 (오전과 오후를 구분하는 프로그램)"
   ]
  },
  {
   "cell_type": "code",
   "execution_count": 15,
   "metadata": {},
   "outputs": [
    {
     "name": "stdout",
     "output_type": "stream",
     "text": [
      "현재 시각은 14시로 오후입니다!\n"
     ]
    }
   ],
   "source": [
    "# 날짜/시간과 관련된 기능을 가져옵니다.\n",
    "import datetime\n",
    "\n",
    "# 현재 날짜/시간을 구합니다.\n",
    "now = datetime.datetime.now()\n",
    "\n",
    "# 오전 구분\n",
    "if now.hour < 12:\n",
    "    print(\"현재 시각은 {}시로 오전입니다!\".format(now.hour))\n",
    "    \n",
    "# 오후 구분\n",
    "if now.hour >= 12:\n",
    "    print(\"현재 시각은 {}시로 오후입니다!\".format(now.hour))"
   ]
  },
  {
   "attachments": {},
   "cell_type": "markdown",
   "metadata": {},
   "source": [
    "##### 직접 해보는 손코딩 (계절을 구분하는 프로그램)"
   ]
  },
  {
   "cell_type": "code",
   "execution_count": 17,
   "metadata": {},
   "outputs": [
    {
     "name": "stdout",
     "output_type": "stream",
     "text": [
      "이번 달은 6월로 여름입니다!\n"
     ]
    }
   ],
   "source": [
    "# 날짜/시간과 관련된 기능을 가져옵니다.\n",
    "import datetime\n",
    "\n",
    "# 현재 날짜/시간을 구합니다.\n",
    "now = datetime.datetime.now()\n",
    "\n",
    "# 봄 구분\n",
    "if 3 <= now.month <= 5:\n",
    "    print(\"이번 달은 {}월로 봄입니다!\".format(now.month))\n",
    "    \n",
    "# 여름 구분\n",
    "if 6 <= now.month <= 8:\n",
    "    print(\"이번 달은 {}월로 여름입니다!\".format(now.month))\n",
    "    \n",
    "# 가을 구분\n",
    "if 9 <= now.month <= 11:\n",
    "    print(\"이번 달은 {}월로 가을입니다!\".format(now.month))\n",
    "    \n",
    "# 겨울 구분\n",
    "if now.month == 12 or 1 <= now.month <= 2:\n",
    "    print(\"이번 달은 {}월로 겨울입니다!\".format(now.month))\n",
    "    "
   ]
  },
  {
   "attachments": {},
   "cell_type": "markdown",
   "metadata": {},
   "source": [
    "### 컴퓨터의 조건\n",
    "\n",
    "##### 직접 해보는 손코딩 (끝자리로 짝수와 홀수 구분)"
   ]
  },
  {
   "cell_type": "code",
   "execution_count": 19,
   "metadata": {},
   "outputs": [
    {
     "name": "stdout",
     "output_type": "stream",
     "text": [
      "홀수입니다\n"
     ]
    }
   ],
   "source": [
    "# 입력을 받습니다.\n",
    "number = input(\"정수 입력> \")\n",
    "\n",
    "# 마지막 자리 숫자를 추출\n",
    "last_character = number[-1]\n",
    "\n",
    "# 숫자로 변환하기\n",
    "last_number = int(last_character)\n",
    "\n",
    "# 짝수 확인\n",
    "if last_number == 0 \\\n",
    "    or last_number == 2 \\\n",
    "    or last_number == 4 \\\n",
    "    or last_number == 6 \\\n",
    "    or last_number == 8:\n",
    "    print(\"짝수입니다\")\n",
    "    \n",
    "# 홀수 확인\n",
    "if last_number == 1 \\\n",
    "    or last_number == 3 \\\n",
    "    or last_number == 5 \\\n",
    "    or last_number == 7 \\\n",
    "    or last_number == 9:\n",
    "    print(\"홀수입니다\")"
   ]
  },
  {
   "attachments": {},
   "cell_type": "markdown",
   "metadata": {},
   "source": [
    "##### 직접 해보는 손코딩 (in 문자열 연산자를 활용해서 짝수와 홀수 구분)"
   ]
  },
  {
   "cell_type": "code",
   "execution_count": 21,
   "metadata": {},
   "outputs": [
    {
     "name": "stdout",
     "output_type": "stream",
     "text": [
      "짝수입니다\n"
     ]
    }
   ],
   "source": [
    "# 입력을 받습니다.\n",
    "number = input(\"정수 입력> \")\n",
    "last_character = number[-1]\n",
    "\n",
    "# 짝수 조건\n",
    "if last_character in \"02468\":\n",
    "    print(\"짝수입니다\")\n",
    "    \n",
    "# 홀수 조건\n",
    "if last_character in \"13579\":\n",
    "    print(\"홀수입니다\")"
   ]
  },
  {
   "attachments": {},
   "cell_type": "markdown",
   "metadata": {},
   "source": [
    "##### 직접 해보는 손코딩 (나머지 연산자를 활용해서 짝수와 홀수 구분)"
   ]
  },
  {
   "cell_type": "code",
   "execution_count": 22,
   "metadata": {},
   "outputs": [
    {
     "name": "stdout",
     "output_type": "stream",
     "text": [
      "짝수입니다\n"
     ]
    }
   ],
   "source": [
    "# 입력을 받습니다.\n",
    "number = input(\"정수 입력> \")\n",
    "number = int(number)\n",
    "\n",
    "# 짝수 조건\n",
    "if number % 2 == 0:\n",
    "    print(\"짝수입니다\")\n",
    "    \n",
    "# 홀수 조건\n",
    "if number % 2 != 0:\n",
    "    print(\"홀수입니다\")"
   ]
  },
  {
   "attachments": {},
   "cell_type": "markdown",
   "metadata": {},
   "source": [
    "## 3.2 if ~ else와 elif 구문\n",
    "### else 조건문의 활용\n",
    "else 구문은 if 조건문 뒤에 사용하며, if 조건문의 조건이 거짓일 때 실행되는 부분.\n",
    "##### 직접 해보는 손코딩 (if 조건문에 else 구문을 추가해서 짝수와 홀수 구분)"
   ]
  },
  {
   "cell_type": "code",
   "execution_count": 24,
   "metadata": {},
   "outputs": [
    {
     "name": "stdout",
     "output_type": "stream",
     "text": [
      "홀수입니다\n"
     ]
    }
   ],
   "source": [
    "# 입력을 받습니다.\n",
    "number = input(\"정수 입력> \")\n",
    "number = int(number)\n",
    "\n",
    "# 조건문을 사용합니다.\n",
    "if number % 2 == 0:\n",
    "    # 조건이 참일 때, 즉 짝수 조건\n",
    "    print(\"짝수입니다\")\n",
    "    \n",
    "else:\n",
    "    # 조건이 거짓일 때, 즉 홀수 조건\n",
    "    print(\"홀수입니다\")"
   ]
  },
  {
   "attachments": {},
   "cell_type": "markdown",
   "metadata": {},
   "source": [
    "조건문이 오로지 두 가지로만 구분될 때 if else 구문을 사용하면 조건 비교를 한 번만 하므로 이전의 코드보다 두 배 효율적이라고 할 수 있습니다."
   ]
  },
  {
   "attachments": {},
   "cell_type": "markdown",
   "metadata": {},
   "source": [
    "### elif 구문\n",
    "##### 직접 해보는 손코딩 (계절 구하기)"
   ]
  },
  {
   "cell_type": "code",
   "execution_count": 25,
   "metadata": {},
   "outputs": [
    {
     "name": "stdout",
     "output_type": "stream",
     "text": [
      "현재는 여름입니다.\n"
     ]
    }
   ],
   "source": [
    "# 날짜/시간과 관련된 기능을 가져옵니다.\n",
    "import datetime\n",
    "\n",
    "# 현재 날짜/시간을 구하고\n",
    "# 쉽게 사용할 수 있게 월을 변수에 저장합니다.\n",
    "now = datetime.datetime.now()\n",
    "month = now.month\n",
    "\n",
    "# 조건문으로 계절을 확인합니다.\n",
    "if 3 <= month <= 5:\n",
    "    print(\"현재는 봄입니다.\")\n",
    "elif 6 <= month <= 8:\n",
    "    print(\"현재는 여름입니다.\")\n",
    "elif 9 <= month <= 11:\n",
    "    print(\"현재는 가을입니다.\")\n",
    "else:\n",
    "    print(\"현재는 겨울입니다.\")\n",
    "    "
   ]
  },
  {
   "attachments": {},
   "cell_type": "markdown",
   "metadata": {},
   "source": [
    "### if 조건문을 효율적으로 사용하기\n",
    "##### 직접 해보는 손코딩 (유머를 조건문으로 구현하기(1))"
   ]
  },
  {
   "cell_type": "code",
   "execution_count": 26,
   "metadata": {},
   "outputs": [
    {
     "name": "stdout",
     "output_type": "stream",
     "text": [
      "현 체제의 수호자\n"
     ]
    }
   ],
   "source": [
    "# 변수를 선언합니다.\n",
    "score = float(input(\"학점 입력> \"))\n",
    "\n",
    "# 조건문을 적용합니다.\n",
    "if score == 4.5:\n",
    "    print(\"신\")\n",
    "elif 4.2 <= score < 4.5:\n",
    "    print(\"교수님의 사랑\")\n",
    "elif 3.5 <= score < 4.2:\n",
    "    print(\"현 체제의 수호자\")\n",
    "elif 2.8 <= score < 3.5:\n",
    "    print(\"일반인\")\n",
    "elif 2.3 <= score < 2.8:\n",
    "    print(\"일탈을 꿈꾸는 소시민\")\n",
    "elif 1.75 <= score < 2.3:\n",
    "    print(\"오락문화의 선구자\")\n",
    "elif 1.0 <= score < 1.75:\n",
    "    print(\"불가촉천민\")\n",
    "elif 0.5 <= score < 1.0:\n",
    "    print(\"자벌레\")\n",
    "elif 0 <= score < 0.5:\n",
    "    print(\"플랑크톤\")\n",
    "elif score == 0.0:\n",
    "    print(\"시대를 앞서가는 혁명의 씨앗\")"
   ]
  },
  {
   "attachments": {},
   "cell_type": "markdown",
   "metadata": {},
   "source": [
    "##### 직접 해보는 손코딩 (유머를 조건문으로 구현하기(2))"
   ]
  },
  {
   "cell_type": "code",
   "execution_count": 27,
   "metadata": {},
   "outputs": [
    {
     "name": "stdout",
     "output_type": "stream",
     "text": [
      "현 체제의 수호자\n"
     ]
    }
   ],
   "source": [
    "# 변수를 선언합니다.\n",
    "score = float(input(\"학점 입력> \"))\n",
    "\n",
    "# 조건문을 적용합니다.\n",
    "if score == 4.5:\n",
    "    print(\"신\")\n",
    "elif 4.2 <= score:\n",
    "    print(\"교수님의 사랑\")\n",
    "elif 3.5 <= score:\n",
    "    print(\"현 체제의 수호자\")\n",
    "elif 2.8 <= score:\n",
    "    print(\"일반인\")\n",
    "elif 2.3 <= score:\n",
    "    print(\"일탈을 꿈꾸는 소시민\")\n",
    "elif 1.75 <= score:\n",
    "    print(\"오락문화의 선구자\")\n",
    "elif 1.0 <= scores:\n",
    "    print(\"불가촉천민\")\n",
    "elif 0.5 <= score:\n",
    "    print(\"자벌레\")\n",
    "elif 0 <= score:\n",
    "    print(\"플랑크톤\")\n",
    "elif score == 0.0:\n",
    "    print(\"시대를 앞서가는 혁명의 씨앗\")"
   ]
  },
  {
   "attachments": {},
   "cell_type": "markdown",
   "metadata": {},
   "source": [
    "### False로 변환되는 값\n",
    "False로 변환되는 값은 None, 숫자 0과 0.0, 빈 컨테이너(빈 문자열, 빈 바이트열, 빈 리스트, 빈 튜플, 빈 딕셔너리 등)\n",
    "\n",
    "##### 직접 해보는 손코딩 (False로 변환되는 값)"
   ]
  },
  {
   "cell_type": "code",
   "execution_count": 28,
   "metadata": {},
   "outputs": [
    {
     "name": "stdout",
     "output_type": "stream",
     "text": [
      "# if 조건문에 0 넣기\n",
      "0은 False로 변환됩니다\n",
      "\n",
      "# if 조건문에 빈 문장려 넣기\n",
      "빈 문자열은 False로 변환됩니다\n"
     ]
    }
   ],
   "source": [
    "print(\"# if 조건문에 0 넣기\")\n",
    "if 0:\n",
    "    print(\"0은 True로 변환됩니다\")\n",
    "else:\n",
    "    print(\"0은 False로 변환됩니다\")\n",
    "print()\n",
    "\n",
    "print(\"# if 조건문에 빈 문장려 넣기\")\n",
    "if \"\":\n",
    "    print(\"빈 문자열은 True로 변환됩니다\")\n",
    "else:\n",
    "    print(\"빈 문자열은 False로 변환됩니다\")"
   ]
  },
  {
   "attachments": {},
   "cell_type": "markdown",
   "metadata": {},
   "source": [
    "### pass 키워드\n",
    "##### 직접 해보는 손코딩 (나중에 구현하려고 비워 둔 구문)"
   ]
  },
  {
   "cell_type": "code",
   "execution_count": 29,
   "metadata": {},
   "outputs": [
    {
     "ename": "IndentationError",
     "evalue": "expected an indented block (3017207815.py, line 8)",
     "output_type": "error",
     "traceback": [
      "\u001b[0;36m  Cell \u001b[0;32mIn[29], line 8\u001b[0;36m\u001b[0m\n\u001b[0;31m    else:\u001b[0m\n\u001b[0m    ^\u001b[0m\n\u001b[0;31mIndentationError\u001b[0m\u001b[0;31m:\u001b[0m expected an indented block\n"
     ]
    }
   ],
   "source": [
    "# 입력을 받습니다\n",
    "number = input(\"정수 입력> \")\n",
    "number = int(number)\n",
    "\n",
    "# 조건문 사용\n",
    "if number > 0:\n",
    "    # 양수일 때: 아직 미구현 상태입니다.\n",
    "else:\n",
    "    # 음수일 때: 아직 미구현 상태입니다."
   ]
  },
  {
   "attachments": {},
   "cell_type": "markdown",
   "metadata": {},
   "source": [
    "파이썬에서는 이러한 고민을 조금 덜어주기 위해 pass라는 키워드를 제공.\n",
    "\n",
    "##### 직접 해보는 손코딩 (pass 키워드를 사용한 미구현 부분 입력)"
   ]
  },
  {
   "cell_type": "code",
   "execution_count": 30,
   "metadata": {},
   "outputs": [
    {
     "ename": "ValueError",
     "evalue": "invalid literal for int() with base 10: ''",
     "output_type": "error",
     "traceback": [
      "\u001b[0;31m---------------------------------------------------------------------------\u001b[0m",
      "\u001b[0;31mValueError\u001b[0m                                Traceback (most recent call last)",
      "Cell \u001b[0;32mIn[30], line 3\u001b[0m\n\u001b[1;32m      1\u001b[0m \u001b[39m# 입력을 받습니다.\u001b[39;00m\n\u001b[1;32m      2\u001b[0m number \u001b[39m=\u001b[39m \u001b[39minput\u001b[39m(\u001b[39m\"\u001b[39m\u001b[39m정수 입력> \u001b[39m\u001b[39m\"\u001b[39m)\n\u001b[0;32m----> 3\u001b[0m number \u001b[39m=\u001b[39m \u001b[39mint\u001b[39;49m(number)\n\u001b[1;32m      5\u001b[0m \u001b[39m# 조건문 사용\u001b[39;00m\n\u001b[1;32m      6\u001b[0m \u001b[39mif\u001b[39;00m number \u001b[39m>\u001b[39m \u001b[39m0\u001b[39m:\n\u001b[1;32m      7\u001b[0m     \u001b[39m# 양수일 때: 아직 미구현 상태입니다.\u001b[39;00m\n",
      "\u001b[0;31mValueError\u001b[0m: invalid literal for int() with base 10: ''"
     ]
    }
   ],
   "source": [
    "# 입력을 받습니다.\n",
    "number = input(\"정수 입력> \")\n",
    "number = int(number)\n",
    "\n",
    "# 조건문 사용\n",
    "if number > 0:\n",
    "    # 양수일 때: 아직 미구현 상태입니다.\n",
    "    pass\n",
    "else:\n",
    "    # 음수일 때: 아직 미구현 상태입니다.\n",
    "    pass"
   ]
  }
 ],
 "metadata": {
  "kernelspec": {
   "display_name": "Python 3",
   "language": "python",
   "name": "python3"
  },
  "language_info": {
   "codemirror_mode": {
    "name": "ipython",
    "version": 3
   },
   "file_extension": ".py",
   "mimetype": "text/x-python",
   "name": "python",
   "nbconvert_exporter": "python",
   "pygments_lexer": "ipython3",
   "version": "3.9.6"
  },
  "orig_nbformat": 4
 },
 "nbformat": 4,
 "nbformat_minor": 2
}
